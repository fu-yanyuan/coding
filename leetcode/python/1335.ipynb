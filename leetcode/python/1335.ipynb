{
 "cells": [
  {
   "cell_type": "code",
   "execution_count": 6,
   "metadata": {},
   "outputs": [
    {
     "data": {
      "text/plain": [
       "843"
      ]
     },
     "execution_count": 6,
     "metadata": {},
     "output_type": "execute_result"
    }
   ],
   "source": [
    "from functools import cache\n",
    "\n",
    "def minDifficulty(jobDifficulty, d):\n",
    "    n = len(jobDifficulty)\n",
    "    if d > n:\n",
    "        return -1\n",
    "    \n",
    "\n",
    "    # dp(i, j) = for job[i:], with j days, what's the minDiffculty\n",
    "    @cache\n",
    "    def dp(i, j):\n",
    "        if n - i == j:\n",
    "            return sum(jobDifficulty[i:])\n",
    "        \n",
    "        if j == 1:\n",
    "            return max(jobDifficulty[i:])\n",
    "\n",
    "        # if #jobs > #days\n",
    "        # the range for cur day is [i, n+1-j]  n - (idx+1) >= j-1 => idx <= n-j\n",
    "        ans = float('inf')\n",
    "        cur = 0\n",
    "        for idx in range(i, n-j+1):\n",
    "            cur = max(cur, jobDifficulty[idx])\n",
    "            ans = min(ans, cur + dp(idx+1, j-1))\n",
    "\n",
    "        return ans\n",
    "    \n",
    "    return dp(0, d)\n",
    "\n",
    "jobDifficulty = [6,5,4,3,2,1]\n",
    "d = 2\n",
    "\n",
    "jobDifficulty = [11,111,22,222,33,333,44,444]\n",
    "d = 6\n",
    "\n",
    "minDifficulty(jobDifficulty, d)"
   ]
  },
  {
   "cell_type": "markdown",
   "metadata": {},
   "source": [
    "### imporvement:  use greedy for cur is not right"
   ]
  },
  {
   "cell_type": "code",
   "execution_count": 7,
   "metadata": {},
   "outputs": [
    {
     "name": "stdout",
     "output_type": "stream",
     "text": [
      "0 6\n",
      "1 5\n",
      "3 4\n",
      "5 3\n",
      "4 4\n",
      "3 5\n"
     ]
    },
    {
     "data": {
      "text/plain": [
       "1087"
      ]
     },
     "execution_count": 7,
     "metadata": {},
     "output_type": "execute_result"
    }
   ],
   "source": [
    "from functools import cache\n",
    "\n",
    "def minDifficulty(jobDifficulty, d):\n",
    "    n = len(jobDifficulty)\n",
    "    if d > n:\n",
    "        return -1\n",
    "    \n",
    "\n",
    "    # dp(i, j) = for job[i:], with j days, what's the minDiffculty\n",
    "    @cache\n",
    "    def dp(i, j):\n",
    "        print(i, j)\n",
    "        if n - i == j:\n",
    "            return sum(jobDifficulty[i:])\n",
    "        \n",
    "        if j == 1:\n",
    "            return max(jobDifficulty[i:])\n",
    "\n",
    "        # if #jobs > #days\n",
    "        # the range for cur day is [i, n+1-j]  n - (idx+1) >= j-1 => idx <= n-j\n",
    "        # use greedy, if next jobDifficulty is less than cur state, we can include it to cur state\n",
    "        ans = float('inf')\n",
    "        curDifficulty = jobDifficulty[i]\n",
    "        idx = i\n",
    "        while idx <= n-j:\n",
    "            while idx+1 <= n-j and jobDifficulty[idx+1] <= curDifficulty:\n",
    "                idx += 1\n",
    "\n",
    "            ans = min(ans, curDifficulty + dp(idx+1, j-1))\n",
    "            idx += 1\n",
    "            curDifficulty = jobDifficulty[idx]\n",
    "\n",
    "        return ans\n",
    "    \n",
    "    return dp(0, d)\n",
    "\n",
    "jobDifficulty = [6,5,4,3,2,1]\n",
    "d = 2\n",
    "\n",
    "jobDifficulty = [11,111,22,222,33,333,44,444]\n",
    "d = 6\n",
    "\n",
    "minDifficulty(jobDifficulty, d)"
   ]
  }
 ],
 "metadata": {
  "kernelspec": {
   "display_name": "Python 3",
   "language": "python",
   "name": "python3"
  },
  "language_info": {
   "codemirror_mode": {
    "name": "ipython",
    "version": 3
   },
   "file_extension": ".py",
   "mimetype": "text/x-python",
   "name": "python",
   "nbconvert_exporter": "python",
   "pygments_lexer": "ipython3",
   "version": "3.12.2"
  }
 },
 "nbformat": 4,
 "nbformat_minor": 2
}

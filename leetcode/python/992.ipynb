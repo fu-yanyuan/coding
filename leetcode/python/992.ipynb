{
 "cells": [
  {
   "cell_type": "code",
   "execution_count": 2,
   "metadata": {},
   "outputs": [
    {
     "data": {
      "text/plain": [
       "3"
      ]
     },
     "execution_count": 2,
     "metadata": {},
     "output_type": "execute_result"
    }
   ],
   "source": [
    "import collections\n",
    "\n",
    "def subarraysWithKDistinct(nums, k):\n",
    "    n = len(nums)\n",
    "    ans = 0\n",
    "    l = 0\n",
    "    m = 0 # the last valid position\n",
    "    curK = 0\n",
    "    cntr = collections.defaultdict(int)\n",
    "    for r in range(n):\n",
    "        # add cur r\n",
    "        if not cntr[nums[r]]:\n",
    "            curK += 1\n",
    "        cntr[nums[r]] += 1\n",
    "\n",
    "        # check if cur [l, r] is valid\n",
    "        # if curK < k: just continue\n",
    "        # if curK == k: find the last valid position, m, then from l to m is all valid \n",
    "        # if curK > k: move l to make it valid, move l to the next position of the last valid position\n",
    "        if curK > k:\n",
    "            # make it valid => move l to the m+1\n",
    "            # update cntr => remove [l, r] from cur cntr\n",
    "            # while l <= m:\n",
    "            #     cntr[nums[l]] -= 1\n",
    "            #     l += 1\n",
    "            cntr[nums[m]] -= 1\n",
    "            l = m + 1\n",
    "            curK -= 1\n",
    "            m = m + 1\n",
    "\n",
    "            # curK == k now, we should do compute for the case curK == k\n",
    "\n",
    "        if curK == k:\n",
    "            # while after moving m, cur subarray is still valid\n",
    "            while cntr[nums[m]] > 1:\n",
    "                cntr[nums[m]] -= 1\n",
    "                m += 1\n",
    "            # we cannot move m since moving it will decrease curK by 1, making curK == k - 1\n",
    "            # m is the last valid position.  [l, ..., m, ..., cur]\n",
    "            ans += m - l + 1\n",
    "\n",
    "    return ans\n",
    "\n",
    "nums = [1,2,1,2,3]\n",
    "k = 2\n",
    "\n",
    "nums = [1,2,1,3,4]\n",
    "k = 3\n",
    "\n",
    "subarraysWithKDistinct(nums, k)\n",
    "\n"
   ]
  }
 ],
 "metadata": {
  "kernelspec": {
   "display_name": "Python 3",
   "language": "python",
   "name": "python3"
  },
  "language_info": {
   "codemirror_mode": {
    "name": "ipython",
    "version": 3
   },
   "file_extension": ".py",
   "mimetype": "text/x-python",
   "name": "python",
   "nbconvert_exporter": "python",
   "pygments_lexer": "ipython3",
   "version": "3.12.2"
  }
 },
 "nbformat": 4,
 "nbformat_minor": 2
}

{
 "cells": [
  {
   "cell_type": "code",
   "execution_count": 6,
   "metadata": {},
   "outputs": [
    {
     "data": {
      "text/plain": [
       "2"
      ]
     },
     "execution_count": 6,
     "metadata": {},
     "output_type": "execute_result"
    }
   ],
   "source": [
    "def longestContinuousSubstring(s):\n",
    "    n = len(s)\n",
    "    maxLength = 1\n",
    "    curLength = 1\n",
    "    for i in range(1, n):\n",
    "        if ord(s[i]) == ord(s[i-1]) + 1:\n",
    "            curLength += 1\n",
    "        else:\n",
    "            maxLength = max(maxLength, curLength)\n",
    "            curLength = 1\n",
    "    \n",
    "    maxLength = max(maxLength, curLength)\n",
    "\n",
    "    return maxLength\n",
    "\n",
    "s = \"abacaba\"\n",
    "\n",
    "# s = \"abcde\"\n",
    "\n",
    "longestContinuousSubstring(s)"
   ]
  }
 ],
 "metadata": {
  "kernelspec": {
   "display_name": "Python 3",
   "language": "python",
   "name": "python3"
  },
  "language_info": {
   "codemirror_mode": {
    "name": "ipython",
    "version": 3
   },
   "file_extension": ".py",
   "mimetype": "text/x-python",
   "name": "python",
   "nbconvert_exporter": "python",
   "pygments_lexer": "ipython3",
   "version": "3.12.3"
  }
 },
 "nbformat": 4,
 "nbformat_minor": 2
}

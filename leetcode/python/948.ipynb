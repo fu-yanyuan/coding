{
 "cells": [
  {
   "cell_type": "code",
   "execution_count": null,
   "metadata": {},
   "outputs": [],
   "source": [
    "def bagOfTokensScore(tokens, power):\n",
    "    tokens.sort()\n",
    "    maxScore, score = 0, 0\n",
    "    l, r = 0, len(tokens) - 1\n",
    "    while l <= r:\n",
    "        if power >= tokens[l]:\n",
    "            score += 1\n",
    "            maxScore = max(maxScore, score)\n",
    "            power -= tokens[l]\n",
    "            l += 1\n",
    "        elif score > 0:\n",
    "            score -= 1\n",
    "            power += tokens[r]\n",
    "            r -= 1\n",
    "        else:\n",
    "            return score\n",
    "    return maxScore\n",
    "    "
   ]
  },
  {
   "cell_type": "code",
   "execution_count": 4,
   "metadata": {},
   "outputs": [
    {
     "name": "stdout",
     "output_type": "stream",
     "text": [
      "1 100 1\n"
     ]
    },
    {
     "data": {
      "text/plain": [
       "2"
      ]
     },
     "execution_count": 4,
     "metadata": {},
     "output_type": "execute_result"
    }
   ],
   "source": [
    "def bagOfTokensScore(tokens, power):\n",
    "    tokens.sort()\n",
    "    if power < tokens[0]:\n",
    "        return 0\n",
    "    \n",
    "    n = len(tokens)\n",
    "\n",
    "    score = 0\n",
    "    # initial score \n",
    "    l = 0\n",
    "    while l < n and power - tokens[l] >= 0:\n",
    "        power -= tokens[l]\n",
    "        l += 1\n",
    "        score += 1\n",
    "    \n",
    "    if l >= n-1:\n",
    "        return l\n",
    "    \n",
    "    print(score, power, l)\n",
    "\n",
    "    r = n - 1\n",
    "    while l < r:\n",
    "        # reducing one score to get the cur maximum token\n",
    "        score -= 1\n",
    "        power += tokens[r]\n",
    "        r -= 1\n",
    "\n",
    "        while l <= r and power - tokens[l] >= 0:\n",
    "            power -= tokens[l]\n",
    "            l += 1\n",
    "            score += 1\n",
    "    \n",
    "    return score\n",
    "\n",
    "\n",
    "tokens = [100,200,300,400]\n",
    "power = 200\n",
    "bagOfTokensScore(tokens, power)\n",
    "    \n",
    "\n"
   ]
  }
 ],
 "metadata": {
  "kernelspec": {
   "display_name": "Python 3",
   "language": "python",
   "name": "python3"
  },
  "language_info": {
   "codemirror_mode": {
    "name": "ipython",
    "version": 3
   },
   "file_extension": ".py",
   "mimetype": "text/x-python",
   "name": "python",
   "nbconvert_exporter": "python",
   "pygments_lexer": "ipython3",
   "version": "3.12.2"
  }
 },
 "nbformat": 4,
 "nbformat_minor": 2
}

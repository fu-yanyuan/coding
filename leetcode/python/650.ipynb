{
 "cells": [
  {
   "cell_type": "code",
   "execution_count": null,
   "metadata": {},
   "outputs": [],
   "source": [
    "\n",
    "def minSteps(n):\n",
    "    # n = a * a * b * c \n",
    "    # f(n) = f(a) + f(a) + f(b) + f(c)\n",
    "    # for prime number p, f(p) is p\n",
    "    if n == 1:\n",
    "        return 0\n",
    "    \n",
    "    ans = 0\n",
    "    d = 2\n",
    "    while n > 1:\n",
    "        while n % d == 0:\n",
    "            n = n // d \n",
    "            ans += d\n",
    "        d += 1\n",
    "    \n",
    "    return ans"
   ]
  },
  {
   "cell_type": "code",
   "execution_count": 5,
   "metadata": {},
   "outputs": [
    {
     "name": "stdout",
     "output_type": "stream",
     "text": [
      "[0, 1, 2, 3, 4, 5, 6, 7, 8, 9, 10, 11, 12, 13, 14, 15, 16]\n",
      "[0, 0, 2, 0, 4, 0, 5, 0, 6, 0, 7, 0, 8, 0, 9, 0, 10]\n",
      "[0, 0, 2, 3, 4, 0, 5, 0, 6, 6, 7, 0, 7, 0, 9, 8, 10]\n",
      "[0, 0, 2, 3, 4, 0, 5, 0, 6, 6, 7, 0, 7, 0, 9, 8, 8]\n",
      "[0, 0, 2, 3, 4, 5, 5, 0, 6, 6, 7, 0, 7, 0, 9, 8, 8]\n",
      "[0, 0, 2, 3, 4, 5, 5, 0, 6, 6, 7, 0, 7, 0, 9, 8, 8]\n",
      "[0, 0, 2, 3, 4, 5, 5, 7, 6, 6, 7, 0, 7, 0, 9, 8, 8]\n",
      "[0, 0, 2, 3, 4, 5, 5, 7, 6, 6, 7, 0, 7, 0, 9, 8, 8]\n",
      "[0, 0, 2, 3, 4, 5, 5, 7, 6, 6, 7, 0, 7, 0, 9, 8, 8]\n",
      "[0, 0, 2, 3, 4, 5, 5, 7, 6, 6, 7, 0, 7, 0, 9, 8, 8]\n",
      "[0, 0, 2, 3, 4, 5, 5, 7, 6, 6, 7, 11, 7, 0, 9, 8, 8]\n",
      "[0, 0, 2, 3, 4, 5, 5, 7, 6, 6, 7, 11, 7, 0, 9, 8, 8]\n",
      "[0, 0, 2, 3, 4, 5, 5, 7, 6, 6, 7, 11, 7, 13, 9, 8, 8]\n",
      "[0, 0, 2, 3, 4, 5, 5, 7, 6, 6, 7, 11, 7, 13, 9, 8, 8]\n",
      "[0, 0, 2, 3, 4, 5, 5, 7, 6, 6, 7, 11, 7, 13, 9, 8, 8]\n",
      "[0, 0, 2, 3, 4, 5, 5, 7, 6, 6, 7, 11, 7, 13, 9, 8, 8]\n"
     ]
    },
    {
     "data": {
      "text/plain": [
       "8"
      ]
     },
     "execution_count": 5,
     "metadata": {},
     "output_type": "execute_result"
    }
   ],
   "source": [
    "def minSteps(n):\n",
    "    if n == 1:\n",
    "        return 0\n",
    "    \n",
    "    # if n = a * b, then f(n) = f(b) + a where b > a \n",
    "    dp = [0] * (n+1)\n",
    "    print(list(range(n+1)))\n",
    "    for i in range(2, n+1):\n",
    "        if dp[i] == 0:\n",
    "            dp[i] = i\n",
    "        for ni in range(i*2, n+1, i):\n",
    "            dp[ni] = dp[i] + ni // i\n",
    "        print(dp)\n",
    "    \n",
    "    return dp[-1]\n",
    "\n",
    "minSteps(16)"
   ]
  }
 ],
 "metadata": {
  "kernelspec": {
   "display_name": "Python 3",
   "language": "python",
   "name": "python3"
  },
  "language_info": {
   "codemirror_mode": {
    "name": "ipython",
    "version": 3
   },
   "file_extension": ".py",
   "mimetype": "text/x-python",
   "name": "python",
   "nbconvert_exporter": "python",
   "pygments_lexer": "ipython3",
   "version": "3.12.3"
  }
 },
 "nbformat": 4,
 "nbformat_minor": 2
}

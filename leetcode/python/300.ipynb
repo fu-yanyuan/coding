{
 "cells": [
  {
   "cell_type": "code",
   "execution_count": 4,
   "metadata": {},
   "outputs": [
    {
     "name": "stdout",
     "output_type": "stream",
     "text": [
      "[10]\n",
      "[9]\n",
      "[2]\n",
      "[2, 5]\n",
      "[2, 3]\n",
      "[2, 3, 7]\n",
      "[2, 3, 7, 101]\n",
      "[2, 3, 7, 18]\n"
     ]
    },
    {
     "data": {
      "text/plain": [
       "4"
      ]
     },
     "execution_count": 4,
     "metadata": {},
     "output_type": "execute_result"
    }
   ],
   "source": [
    "from bisect import bisect_left\n",
    "\n",
    "def LIS(nums):\n",
    "    arr = []\n",
    "    for num in nums:\n",
    "        idx = bisect_left(arr, num)\n",
    "        if idx == len(arr):\n",
    "            arr.append(num)\n",
    "            print(arr)\n",
    "            continue\n",
    "        arr[idx] = num\n",
    "        print(arr)\n",
    "    return len(arr)\n",
    "\n",
    "nums = [10,9,2,5,3,7,101,18]\n",
    "LIS(nums)\n"
   ]
  },
  {
   "cell_type": "code",
   "execution_count": null,
   "metadata": {},
   "outputs": [],
   "source": []
  }
 ],
 "metadata": {
  "kernelspec": {
   "display_name": "Python 3",
   "language": "python",
   "name": "python3"
  },
  "language_info": {
   "codemirror_mode": {
    "name": "ipython",
    "version": 3
   },
   "file_extension": ".py",
   "mimetype": "text/x-python",
   "name": "python",
   "nbconvert_exporter": "python",
   "pygments_lexer": "ipython3",
   "version": "3.12.2"
  }
 },
 "nbformat": 4,
 "nbformat_minor": 2
}

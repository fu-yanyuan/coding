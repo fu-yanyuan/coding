{
 "cells": [
  {
   "cell_type": "code",
   "execution_count": 22,
   "metadata": {},
   "outputs": [
    {
     "name": "stdout",
     "output_type": "stream",
     "text": [
      "defaultdict(<class 'list'>, {'a': [0, 3, 6], 'b': [1, 5], 'c': [2, 4]})\n",
      "[1, 2, 3, 3, 4, 4, 4]\n"
     ]
    },
    {
     "data": {
      "text/plain": [
       "4"
      ]
     },
     "execution_count": 22,
     "metadata": {},
     "output_type": "execute_result"
    }
   ],
   "source": [
    "from functools import cache\n",
    "import collections\n",
    "\n",
    "def strangePrinter(s):\n",
    "    n = len(s)\n",
    "\n",
    "    ch2idx = collections.defaultdict(list)\n",
    "    for i in range(n):\n",
    "        ch2idx[s[i]].append(i)\n",
    "    print(ch2idx)\n",
    "    \n",
    "    \n",
    "    @cache\n",
    "    def dp(l, r):\n",
    "        '''\n",
    "        return the min number of turns for s[l...r]\n",
    "        '''\n",
    "        if l > r:\n",
    "            return 0\n",
    "        if l == r:\n",
    "            return 1\n",
    "\n",
    "        # s[r] is a new print\n",
    "        turns = dp(l, r-1) + 1\n",
    "        # [wrong] s[r] is print with last same character together\n",
    "        # s[r] is print with one of the prev s[r]\n",
    "        for prev in ch2idx[s[r]]:\n",
    "            if prev < r:\n",
    "                tmp = dp(l, prev) + dp(prev+1, r-1)\n",
    "                turns = min(turns, tmp)\n",
    "\n",
    "        return turns\n",
    "\n",
    "    ans = [0] * n\n",
    "    ans[0] = 1\n",
    "    for i in range(1, n):\n",
    "        ans[i] = dp(0, i)\n",
    "    print(ans)\n",
    "\n",
    "    return dp(0, n-1)\n",
    "\n",
    "s = \"aaabbb\"\n",
    "\n",
    "s = 'aba'\n",
    "\n",
    "s = \"dddccbdbababaddcbcaabdbdddcccddbbaabddb\" # ans is 15 but get 16\n",
    "\n",
    "s = 'abcacba'\n",
    "\n",
    "strangePrinter(s)"
   ]
  },
  {
   "cell_type": "code",
   "execution_count": 19,
   "metadata": {},
   "outputs": [
    {
     "name": "stdout",
     "output_type": "stream",
     "text": [
      "['a', 'b', 'c', 'a', 'c', 'b', 'a'] 7\n",
      "[-1, -1, -1, 0, 2, 1, 3]\n"
     ]
    },
    {
     "data": {
      "text/plain": [
       "5"
      ]
     },
     "execution_count": 19,
     "metadata": {},
     "output_type": "execute_result"
    }
   ],
   "source": [
    "from functools import cache\n",
    "\n",
    "def strangePrinter(s):\n",
    "    n = len(s)\n",
    "\n",
    "    # ignore consective same cha\n",
    "    arr = []\n",
    "    arr.append(s[0])\n",
    "    for i in range(1, n):\n",
    "        if s[i] != s[i-1]:\n",
    "            arr.append(s[i])\n",
    "    # print(arr)\n",
    "    n = len(arr)\n",
    "\n",
    "    last = [0] * n # for arr[i], last[i] is the idx of the last arr[i]\n",
    "    last[0] = -1\n",
    "    seen = {arr[0]: 0}\n",
    "    for i in range(1, n):\n",
    "        if arr[i] in seen:\n",
    "            last[i] = seen[arr[i]]\n",
    "            seen[arr[i]] = i\n",
    "        else:\n",
    "            last[i] = -1\n",
    "            seen[arr[i]] = i\n",
    "    print(arr, n)\n",
    "    print(last)\n",
    "    \n",
    "    \n",
    "    @cache\n",
    "    def dp(l, r):\n",
    "        '''\n",
    "        return the min number of turns for s[l...r]\n",
    "        '''\n",
    "        if l == r:\n",
    "            return 1\n",
    "\n",
    "        # s[r] is a new print\n",
    "        turns = dp(l, r-1) + 1\n",
    "        # s[r] is print with last same character together\n",
    "        if last[r] >= l:\n",
    "            tmp = dp(l, last[r]) + dp(last[r]+1, r-1)\n",
    "            turns = min(turns, tmp)\n",
    "\n",
    "        return turns\n",
    "\n",
    "    return dp(0, n-1)\n",
    "\n",
    "s = \"aaabbb\"\n",
    "\n",
    "s = 'aba'\n",
    "\n",
    "s = \"dddccbdbababaddcbcaabdbdddcccddbbaabddb\" # ans is 15 but get 16\n",
    "\n",
    "s = \"abcacba\" # ans is 4 but get 5\n",
    "\n",
    "strangePrinter(s)"
   ]
  }
 ],
 "metadata": {
  "kernelspec": {
   "display_name": "Python 3",
   "language": "python",
   "name": "python3"
  },
  "language_info": {
   "codemirror_mode": {
    "name": "ipython",
    "version": 3
   },
   "file_extension": ".py",
   "mimetype": "text/x-python",
   "name": "python",
   "nbconvert_exporter": "python",
   "pygments_lexer": "ipython3",
   "version": "3.12.2"
  }
 },
 "nbformat": 4,
 "nbformat_minor": 2
}

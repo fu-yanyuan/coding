{
 "cells": [
  {
   "cell_type": "markdown",
   "metadata": {},
   "source": [
    "### greedy"
   ]
  },
  {
   "cell_type": "code",
   "execution_count": 2,
   "metadata": {},
   "outputs": [
    {
     "data": {
      "text/plain": [
       "2"
      ]
     },
     "execution_count": 2,
     "metadata": {},
     "output_type": "execute_result"
    }
   ],
   "source": [
    "def minRectanglesToCoverPoints(points, w):\n",
    "    points.sort()\n",
    "    ans = 0\n",
    "    last = -1 # end of the last rectangle\n",
    "    for p in points:\n",
    "        if p[0] > last:\n",
    "            ans += 1\n",
    "            last = p[0] + w\n",
    "    \n",
    "    return ans\n",
    "\n",
    "\n",
    "points = [[0,0],[1,1],[2,2],[3,3],[4,4],[5,5],[6,6]]\n",
    "w = 2\n",
    "\n",
    "minRectanglesToCoverPoints(points, w)"
   ]
  }
 ],
 "metadata": {
  "kernelspec": {
   "display_name": "Python 3",
   "language": "python",
   "name": "python3"
  },
  "language_info": {
   "codemirror_mode": {
    "name": "ipython",
    "version": 3
   },
   "file_extension": ".py",
   "mimetype": "text/x-python",
   "name": "python",
   "nbconvert_exporter": "python",
   "pygments_lexer": "ipython3",
   "version": "3.12.3"
  }
 },
 "nbformat": 4,
 "nbformat_minor": 2
}

{
 "cells": [
  {
   "cell_type": "code",
   "execution_count": 12,
   "metadata": {},
   "outputs": [
    {
     "name": "stdout",
     "output_type": "stream",
     "text": [
      "===============\n",
      "[1, 1, 1, 1, 1]\n",
      "[1, 0, 0, 0, 1]\n",
      "[1, 0, 1, 0, 1]\n",
      "[1, 0, 0, 0, 1]\n",
      "[1, 1, 1, 1, 1]\n",
      "===============\n",
      "[1, 1, 1, 1, 1]\n",
      "[1, 0, 0, 0, 1]\n",
      "[1, 0, 2, 0, 1]\n",
      "[1, 0, 0, 0, 1]\n",
      "[1, 1, 1, 1, 1]\n",
      "===============\n",
      "[1, 1, 1, 1, 1]\n",
      "[1, 0, 0, 0, 1]\n",
      "[1, 0, 1, 0, 1]\n",
      "[1, 0, 0, 0, 1]\n",
      "[1, 1, 1, 1, 1]\n"
     ]
    },
    {
     "data": {
      "text/plain": [
       "1"
      ]
     },
     "execution_count": 12,
     "metadata": {},
     "output_type": "execute_result"
    }
   ],
   "source": [
    "from utils.show import show2D\n",
    "from functools import cache\n",
    "\n",
    "def shortestBridge(grid):\n",
    "    show2D(grid)\n",
    "    # 2 lands\n",
    "    def paint(i, j, color):\n",
    "        visited[i][j] = 1\n",
    "        grid[i][j] = color\n",
    "        for ni, nj in [(i+1, j), (i-1, j), (i, j+1), (i, j-1)]:\n",
    "            if 0 <= ni < m and 0 <= nj < n and grid[ni][nj] == 1 and visited[ni][nj] == 0:\n",
    "                paint(ni, nj, color)\n",
    "        return \n",
    "\n",
    "    m, n = len(grid), len(grid[0])\n",
    "    visited = [[0] * n for _ in range(m)]\n",
    "    color = 1\n",
    "    for i in range(m):\n",
    "        for j in range(n):\n",
    "            if grid[i][j] == 1 and visited[i][j] == 0:\n",
    "                paint(i, j, color)\n",
    "                color += 1\n",
    "    \n",
    "    show2D(grid)\n",
    "    show2D(visited)\n",
    "\n",
    "    # bfs\n",
    "    q = []\n",
    "    for i in range(m):\n",
    "        for j in range(n):\n",
    "            if grid[i][j] == 1:\n",
    "                q.append((i,j))\n",
    "    \n",
    "    # we can continue using visited, since 0 hasn't been visitied\n",
    "    d = 0\n",
    "    while q:\n",
    "        nxtQ = []\n",
    "        for i, j in q:\n",
    "            for ni, nj in [(i+1, j), (i-1, j), (i, j+1), (i, j-1)]:\n",
    "                if 0 <= ni < m and 0 <= nj < n:\n",
    "                    if grid[ni][nj] == 2:\n",
    "                        return d\n",
    "                    if grid[ni][nj] == 0 and visited[ni][nj] == 0:\n",
    "                        nxtQ.append((ni, nj))\n",
    "                        visited[ni][nj] = 1\n",
    "        \n",
    "        q = nxtQ\n",
    "        d += 1\n",
    "\n",
    "\n",
    "\n",
    "grid = [[1,1,1,1,1],[1,0,0,0,1],[1,0,1,0,1],[1,0,0,0,1],[1,1,1,1,1]]\n",
    "shortestBridge(grid)"
   ]
  }
 ],
 "metadata": {
  "kernelspec": {
   "display_name": "Python 3",
   "language": "python",
   "name": "python3"
  },
  "language_info": {
   "codemirror_mode": {
    "name": "ipython",
    "version": 3
   },
   "file_extension": ".py",
   "mimetype": "text/x-python",
   "name": "python",
   "nbconvert_exporter": "python",
   "pygments_lexer": "ipython3",
   "version": "3.12.3"
  }
 },
 "nbformat": 4,
 "nbformat_minor": 2
}

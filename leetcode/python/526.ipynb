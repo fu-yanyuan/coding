{
 "cells": [
  {
   "cell_type": "markdown",
   "metadata": {},
   "source": [
    "# 状态压缩"
   ]
  },
  {
   "cell_type": "code",
   "execution_count": 6,
   "metadata": {},
   "outputs": [
    {
     "name": "stdout",
     "output_type": "stream",
     "text": [
      "[[], [1, 2], [1, 2]]\n",
      "[[], [1]]\n"
     ]
    },
    {
     "data": {
      "text/plain": [
       "1"
      ]
     },
     "execution_count": 6,
     "metadata": {},
     "output_type": "execute_result"
    }
   ],
   "source": [
    "from functools import cache\n",
    "\n",
    "# 1 <= n <= 15\n",
    "\n",
    "def count(n):\n",
    "    termianteVal = (1 << 15) - 1\n",
    "    # preprocessing\n",
    "    choice = [[] for _ in range(n+1)]\n",
    "    for i in range(1, n+1):\n",
    "        for j in range(1, n+1):\n",
    "            if i % j == 0 or j % i == 0:\n",
    "                choice[i].append(j)\n",
    "    # print(choice)\n",
    "\n",
    "    @cache\n",
    "    def dp(i, status):\n",
    "        if i > n:\n",
    "            return 1\n",
    "        \n",
    "        cnt = 0\n",
    "        for k in choice[i]:\n",
    "            if (1 << k) & status == 0:\n",
    "                cnt += dp(i+1, status + (1 << k))\n",
    "        return cnt\n",
    "    \n",
    "    return dp(1, 0)\n",
    "\n",
    "count(2)\n",
    "\n",
    "count(1)"
   ]
  },
  {
   "cell_type": "code",
   "execution_count": 7,
   "metadata": {},
   "outputs": [
    {
     "data": {
      "text/plain": [
       "2"
      ]
     },
     "execution_count": 7,
     "metadata": {},
     "output_type": "execute_result"
    }
   ],
   "source": [
    "from functools import cache\n",
    "\n",
    "def count(n):\n",
    "    def isBeautiful(i, j):\n",
    "        return i % j == 0 or j % i == 0\n",
    "\n",
    "    @cache\n",
    "    def dp(i, status):\n",
    "        # i is 1-indexed, i = [1, 2, ..., n]\n",
    "        if i > n:\n",
    "            return 1\n",
    "        \n",
    "        cnt = 0\n",
    "        for b in range(n):\n",
    "            if (1 << b) & status == 0 and isBeautiful(i, b+1):\n",
    "                cnt += dp(i+1, status + (1 << b))\n",
    "\n",
    "        return cnt\n",
    "    \n",
    "    return dp(1, 0)\n",
    "\n",
    "\n",
    "count(2)"
   ]
  },
  {
   "cell_type": "code",
   "execution_count": 1,
   "metadata": {},
   "outputs": [
    {
     "name": "stdout",
     "output_type": "stream",
     "text": [
      "1\n"
     ]
    }
   ],
   "source": [
    "print( 1 % 3)"
   ]
  }
 ],
 "metadata": {
  "kernelspec": {
   "display_name": "Python 3",
   "language": "python",
   "name": "python3"
  },
  "language_info": {
   "codemirror_mode": {
    "name": "ipython",
    "version": 3
   },
   "file_extension": ".py",
   "mimetype": "text/x-python",
   "name": "python",
   "nbconvert_exporter": "python",
   "pygments_lexer": "ipython3",
   "version": "3.12.3"
  }
 },
 "nbformat": 4,
 "nbformat_minor": 2
}

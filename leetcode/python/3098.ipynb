{
 "cells": [
  {
   "cell_type": "markdown",
   "metadata": {},
   "source": [
    "# # dp(i, j) can return not only a value, but also a dict."
   ]
  },
  {
   "cell_type": "code",
   "execution_count": 5,
   "metadata": {},
   "outputs": [
    {
     "data": {
      "text/plain": [
       "0"
      ]
     },
     "execution_count": 5,
     "metadata": {},
     "output_type": "execute_result"
    }
   ],
   "source": [
    "import collections\n",
    "from functools import cache\n",
    "\n",
    "def sumOfPowers(nums, k):\n",
    "    # subsequence has no order, if we need to find the mindiff between 2 elements -> o(n^2)\n",
    "    # sort the nums and them mindiff is just among 2 nearby elements\n",
    "    nums.sort()\n",
    "\n",
    "    # one trick for subsequence is to fix a ending position, so that we can iterate through the nums\n",
    "    # dp[i][j] = ending at i, length j, dict\n",
    "    @cache\n",
    "    def dp(i, l):\n",
    "        # return a dict\n",
    "        cntr = collections.defaultdict(int)\n",
    "\n",
    "        # length is at least 2\n",
    "        if l == 2:\n",
    "            for j in range(i):\n",
    "                diff = nums[i] - nums[j]\n",
    "                cntr[diff] += 1\n",
    "        else:\n",
    "            # length > 2\n",
    "            # we need to find all the dp(i, l-1)\n",
    "            # with lenght == l-1, ending idx is at least l-2. [0, l-2] has length of l-1\n",
    "            for j in range(l-2, i):\n",
    "                diff = nums[i] - nums[j]\n",
    "                tmpCntr = dp(j, l-1)\n",
    "                for d, freq in tmpCntr.items():\n",
    "                    if diff < d:\n",
    "                        cntr[diff] += freq\n",
    "                    else:\n",
    "                        cntr[d] += freq\n",
    "        \n",
    "        return cntr\n",
    "\n",
    "    n = len(nums)\n",
    "    ans = 0\n",
    "    for i in range(k-1, n):\n",
    "        cntr = dp(i, k)\n",
    "        for d, freq in cntr.items():\n",
    "            ans += d * freq\n",
    "    \n",
    "    return ans\n",
    "\n",
    "\n",
    "nums = [4,3,-1]\n",
    "k = 2\n",
    "\n",
    "nums = [1,2,3,4]\n",
    "k = 3\n",
    "\n",
    "nums = [2,2]\n",
    "k = 2\n",
    "\n",
    "sumOfPowers(nums, k)\n",
    "\n"
   ]
  }
 ],
 "metadata": {
  "kernelspec": {
   "display_name": "Python 3",
   "language": "python",
   "name": "python3"
  },
  "language_info": {
   "codemirror_mode": {
    "name": "ipython",
    "version": 3
   },
   "file_extension": ".py",
   "mimetype": "text/x-python",
   "name": "python",
   "nbconvert_exporter": "python",
   "pygments_lexer": "ipython3",
   "version": "3.12.2"
  }
 },
 "nbformat": 4,
 "nbformat_minor": 2
}

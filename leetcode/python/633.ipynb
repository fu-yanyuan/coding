{
 "cells": [
  {
   "cell_type": "code",
   "execution_count": null,
   "metadata": {},
   "outputs": [],
   "source": [
    "class Solution:\n",
    "    def judgeSquareSum(self, c: int) -> bool:\n",
    "        # let's say c = a*a + b*b where b >= a\n",
    "        l = 0\n",
    "        r = math.isqrt(c)\n",
    "\n",
    "        while l <= r:\n",
    "            cur = l*l + r*r\n",
    "            if cur == c:\n",
    "                return True\n",
    "            if cur < c:\n",
    "                l += 1\n",
    "            else:\n",
    "                r -= 1\n",
    "        \n",
    "        return False"
   ]
  },
  {
   "cell_type": "code",
   "execution_count": 11,
   "metadata": {},
   "outputs": [
    {
     "data": {
      "text/plain": [
       "False"
      ]
     },
     "execution_count": 11,
     "metadata": {},
     "output_type": "execute_result"
    }
   ],
   "source": [
    "from math import sqrt\n",
    "\n",
    "def judgeSquareSum(c):\n",
    "    # let's say c = a*a + b*b where b >= a\n",
    "    l = 0\n",
    "    r = int(sqrt(c)) + 1\n",
    "\n",
    "    def isValid(a):\n",
    "        if a*a > c:\n",
    "            return False\n",
    "        b = int(sqrt(c - a * a))\n",
    "        if a*a + b*b == c:\n",
    "            return True\n",
    "        return False\n",
    "\n",
    "    while l <= r:\n",
    "        m = (l + r) // 2\n",
    "        if isValid(m):\n",
    "            return True\n",
    "    \n",
    "        if c < 2 * m * m:\n",
    "            r = m - 1\n",
    "        else:\n",
    "            if isValid(l):\n",
    "                return True\n",
    "            l += 1\n",
    "    \n",
    "    return False\n",
    "\n",
    "judgeSquareSum(3)"
   ]
  },
  {
   "cell_type": "code",
   "execution_count": 12,
   "metadata": {},
   "outputs": [
    {
     "name": "stdout",
     "output_type": "stream",
     "text": [
      "2.23606797749979 2\n"
     ]
    }
   ],
   "source": [
    "import math\n",
    "\n",
    "n = 5\n",
    "a = math.sqrt(n)\n",
    "b = math.isqrt(n)\n",
    "print(a, b)"
   ]
  }
 ],
 "metadata": {
  "kernelspec": {
   "display_name": "Python 3",
   "language": "python",
   "name": "python3"
  },
  "language_info": {
   "codemirror_mode": {
    "name": "ipython",
    "version": 3
   },
   "file_extension": ".py",
   "mimetype": "text/x-python",
   "name": "python",
   "nbconvert_exporter": "python",
   "pygments_lexer": "ipython3",
   "version": "3.12.2"
  }
 },
 "nbformat": 4,
 "nbformat_minor": 2
}

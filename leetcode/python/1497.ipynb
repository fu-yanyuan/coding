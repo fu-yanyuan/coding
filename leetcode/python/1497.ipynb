{
 "cells": [
  {
   "cell_type": "code",
   "execution_count": 2,
   "metadata": {},
   "outputs": [
    {
     "name": "stdout",
     "output_type": "stream",
     "text": [
      "[0, 2, 6]\n"
     ]
    },
    {
     "data": {
      "text/plain": [
       "False"
      ]
     },
     "execution_count": 2,
     "metadata": {},
     "output_type": "execute_result"
    }
   ],
   "source": [
    "def canArrange(arr, k):\n",
    "    remains = [0] * k\n",
    "    for num in arr:\n",
    "        remains[num % k] += 1\n",
    "    \n",
    "    if remains[0] % 2 == 1:\n",
    "        return False\n",
    "    print(remains)\n",
    "\n",
    "    l, r = 1, k-1\n",
    "    while l <= r:\n",
    "        if remains[l] != remains[r]:\n",
    "            return False\n",
    "        l += 1\n",
    "        r -= 1\n",
    "    return True\n",
    "\n",
    "arr = [-1,-1,-1,-1,2,2,-2,-2]\n",
    "k = 3\n",
    "\n",
    "canArrange(arr, k)"
   ]
  }
 ],
 "metadata": {
  "kernelspec": {
   "display_name": "Python 3",
   "language": "python",
   "name": "python3"
  },
  "language_info": {
   "codemirror_mode": {
    "name": "ipython",
    "version": 3
   },
   "file_extension": ".py",
   "mimetype": "text/x-python",
   "name": "python",
   "nbconvert_exporter": "python",
   "pygments_lexer": "ipython3",
   "version": "3.12.3"
  }
 },
 "nbformat": 4,
 "nbformat_minor": 2
}

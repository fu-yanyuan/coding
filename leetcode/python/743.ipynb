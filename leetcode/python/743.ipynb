{
 "cells": [
  {
   "cell_type": "code",
   "execution_count": 3,
   "metadata": {},
   "outputs": [
    {
     "name": "stdout",
     "output_type": "stream",
     "text": [
      "[1, 0]\n"
     ]
    },
    {
     "data": {
      "text/plain": [
       "1"
      ]
     },
     "execution_count": 3,
     "metadata": {},
     "output_type": "execute_result"
    }
   ],
   "source": [
    "import collections\n",
    "import heapq\n",
    "\n",
    "def networkDelayTime(times, n, k):\n",
    "    # construct graph\n",
    "    adj = collections.defaultdict(list)\n",
    "    for u, v, w in times:\n",
    "        adj[u].append((v, w))\n",
    "    \n",
    "    timeTo = [float('inf')] * n # 0-indexed\n",
    "    timeTo[k-1] = 0\n",
    "\n",
    "    pq = []\n",
    "    heapq.heappush(pq, (0, k))\n",
    "\n",
    "    while pq:\n",
    "        t, u = heapq.heappop(pq)\n",
    "\n",
    "        for v, w in adj[u]:\n",
    "            if t + w < timeTo[v-1]:\n",
    "                timeTo[v-1] = t + w\n",
    "                heapq.heappush(pq, (timeTo[v-1], v))\n",
    "\n",
    "    print(timeTo)\n",
    "    ans = max(timeTo)\n",
    "    return ans if ans < float('inf') else -1\n",
    "\n",
    "times = [[2,1,1],[2,3,1],[3,4,1]]\n",
    "n = 4\n",
    "k = 2\n",
    "\n",
    "times = [[1,2,1]]\n",
    "n = 2\n",
    "k = 2\n",
    "\n",
    "networkDelayTime(times, n, k)"
   ]
  }
 ],
 "metadata": {
  "kernelspec": {
   "display_name": "Python 3",
   "language": "python",
   "name": "python3"
  },
  "language_info": {
   "codemirror_mode": {
    "name": "ipython",
    "version": 3
   },
   "file_extension": ".py",
   "mimetype": "text/x-python",
   "name": "python",
   "nbconvert_exporter": "python",
   "pygments_lexer": "ipython3",
   "version": "3.12.3"
  }
 },
 "nbformat": 4,
 "nbformat_minor": 2
}

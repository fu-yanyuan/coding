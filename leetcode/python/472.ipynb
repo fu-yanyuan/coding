{
 "cells": [
  {
   "cell_type": "code",
   "execution_count": 14,
   "metadata": {},
   "outputs": [
    {
     "name": "stdout",
     "output_type": "stream",
     "text": [
      "['cat', 'dog', 'rat', 'cats', 'dogcatsdog', 'catsdogcats', 'ratcatdogcat', 'hippopotamuses']\n"
     ]
    },
    {
     "data": {
      "text/plain": [
       "['dogcatsdog', 'catsdogcats', 'ratcatdogcat']"
      ]
     },
     "execution_count": 14,
     "metadata": {},
     "output_type": "execute_result"
    }
   ],
   "source": [
    "import collections\n",
    "\n",
    "def findAllConcatenatedWordsInADict(words):\n",
    "    def isConcatenatedWordsInADict(word, len2set):\n",
    "        ''' \n",
    "        len2set[i] = a set of words with length = i\n",
    "        '''\n",
    "        n = len(word)\n",
    "        dp = [0] * (n+1)\n",
    "        dp[0] = 1\n",
    "\n",
    "        for i in range(n+1):\n",
    "            if dp[i] == 1:\n",
    "                for l in len2set.keys():\n",
    "                    if word[i:i+l] in len2set[l]:\n",
    "                        dp[i+l] = 1\n",
    "        \n",
    "        return dp[-1] == 1\n",
    "\n",
    "    words.sort(key=lambda x: len(x))\n",
    "    print(words)\n",
    "\n",
    "    ans = []\n",
    "\n",
    "    len2set = collections.defaultdict(set)\n",
    "    len2set[len(words[0])].add(words[0])\n",
    "    for word in words[1:]:\n",
    "        if isConcatenatedWordsInADict(word, len2set):\n",
    "            # check if cur word can be centatenated by cur dict\n",
    "            ans.append(word)\n",
    "        len2set[len(word)].add(word)\n",
    "    \n",
    "    return ans\n",
    "\n",
    "words = [\"cat\",\"cats\",\"catsdogcats\",\"dog\",\"dogcatsdog\",\"hippopotamuses\",\"rat\",\"ratcatdogcat\"]\n",
    "\n",
    "findAllConcatenatedWordsInADict(words)"
   ]
  },
  {
   "cell_type": "code",
   "execution_count": 11,
   "metadata": {},
   "outputs": [
    {
     "name": "stdout",
     "output_type": "stream",
     "text": [
      "[1, 0, 0, 1, 0, 0, 1, 1, 0, 0, 1]\n"
     ]
    },
    {
     "data": {
      "text/plain": [
       "True"
      ]
     },
     "execution_count": 11,
     "metadata": {},
     "output_type": "execute_result"
    }
   ],
   "source": [
    "def isConcatenatedWordsInADict(word, len2set):\n",
    "    ''' \n",
    "    len2set[i] = a set of words with length = i\n",
    "    '''\n",
    "    n = len(word)\n",
    "    dp = [0] * (n+1)\n",
    "    dp[0] = 1\n",
    "\n",
    "    for i in range(n+1):\n",
    "        if dp[i] == 1:\n",
    "            for l in len2set.keys():\n",
    "                if word[i:i+l] in len2set[l]:\n",
    "                    dp[i+l] = 1\n",
    "    \n",
    "    print(dp)\n",
    "    return dp[-1] == 1\n",
    "\n",
    "\n",
    "len2set = {3: {'rat', 'cat', 'dog'}, 4: {'cats'}}\n",
    "word = 'dogcatsdog'\n",
    "\n",
    "isConcatenatedWordsInADict(word, len2set)\n",
    "\n"
   ]
  }
 ],
 "metadata": {
  "kernelspec": {
   "display_name": "Python 3",
   "language": "python",
   "name": "python3"
  },
  "language_info": {
   "codemirror_mode": {
    "name": "ipython",
    "version": 3
   },
   "file_extension": ".py",
   "mimetype": "text/x-python",
   "name": "python",
   "nbconvert_exporter": "python",
   "pygments_lexer": "ipython3",
   "version": "3.12.3"
  }
 },
 "nbformat": 4,
 "nbformat_minor": 2
}

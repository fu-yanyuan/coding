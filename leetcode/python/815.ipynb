{
 "cells": [
  {
   "cell_type": "code",
   "execution_count": 1,
   "metadata": {},
   "outputs": [
    {
     "data": {
      "text/plain": [
       "2"
      ]
     },
     "execution_count": 1,
     "metadata": {},
     "output_type": "execute_result"
    }
   ],
   "source": [
    "import collections\n",
    "\n",
    "def numBusesToDestination(routes, source, target):\n",
    "    if source == target:\n",
    "        return 0\n",
    "\n",
    "    # construct graph\n",
    "    busstop2route = collections.defaultdict(list)\n",
    "    for i in range(len(routes)):\n",
    "        for busstop in routes[i]:\n",
    "            busstop2route[busstop].append(i)\n",
    "    \n",
    "    if target not in busstop2route or source not in busstop2route:\n",
    "        return -1\n",
    "\n",
    "    # bfs\n",
    "    depth = 0\n",
    "    pq = [source]\n",
    "    visitedRoutes = [0] * len(routes)\n",
    "    visitedBusstop = {source}\n",
    "\n",
    "    while pq:\n",
    "        nxt = []\n",
    "        depth += 1\n",
    "        for curStop in pq:\n",
    "            for route in busstop2route[curStop]:\n",
    "                if visitedRoutes[route] == 0:\n",
    "                    for busstop in routes[route]:\n",
    "                        if not busstop in visitedBusstop:\n",
    "                            if busstop == target:\n",
    "                                return depth\n",
    "                            nxt.append(busstop)\n",
    "                            visitedBusstop.add(busstop)\n",
    "                    visitedRoutes[route] = 1\n",
    "        pq = nxt\n",
    "                        \n",
    "routes = [[1,2,7],[3,6,7]]\n",
    "source = 1\n",
    "target = 6\n",
    "\n",
    "numBusesToDestination(routes, source, target)"
   ]
  },
  {
   "cell_type": "code",
   "execution_count": null,
   "metadata": {},
   "outputs": [],
   "source": []
  }
 ],
 "metadata": {
  "kernelspec": {
   "display_name": "Python 3",
   "language": "python",
   "name": "python3"
  },
  "language_info": {
   "codemirror_mode": {
    "name": "ipython",
    "version": 3
   },
   "file_extension": ".py",
   "mimetype": "text/x-python",
   "name": "python",
   "nbconvert_exporter": "python",
   "pygments_lexer": "ipython3",
   "version": "3.12.2"
  }
 },
 "nbformat": 4,
 "nbformat_minor": 2
}

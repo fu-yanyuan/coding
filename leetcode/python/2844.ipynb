{
 "cells": [
  {
   "cell_type": "code",
   "execution_count": null,
   "metadata": {},
   "outputs": [],
   "source": [
    "class Solution:\n",
    "    def minimumOperations(self, num: str) -> int:\n",
    "        zero_found = False\n",
    "        five_found = False\n",
    "        \n",
    "        for i in range(len(num) - 1, -1, -1):\n",
    "            \n",
    "            if zero_found:\n",
    "                if num[i] == '0' or num[i] == '5': return len(num) - 2 - i\n",
    "            if five_found:\n",
    "                if num[i] == '2' or num[i] == '7': return len(num) - 2 - i\n",
    "            \n",
    "            if num[i] == '5': five_found = True\n",
    "            if num[i] == '0': zero_found = True\n",
    "        if zero_found: return len(num) - 1\n",
    "        return len(num)"
   ]
  },
  {
   "cell_type": "markdown",
   "metadata": {},
   "source": [
    "### my code ⬇️\n",
    "\n",
    "the idea is same with the one above but that one is more elegant."
   ]
  },
  {
   "cell_type": "code",
   "execution_count": 6,
   "metadata": {},
   "outputs": [
    {
     "data": {
      "text/plain": [
       "1"
      ]
     },
     "execution_count": 6,
     "metadata": {},
     "output_type": "execute_result"
    }
   ],
   "source": [
    "def minimumOperations(num):\n",
    "    n = len(num)\n",
    "    # edge case: 0 => we can delete all to get 0.\n",
    "    # 25 can only divided a number that is end with 00, 25, 50, 75\n",
    "    # 25, 75\n",
    "    # 00, 50\n",
    "\n",
    "    def find(idx, targets):\n",
    "        # starting from idx and search reverse\n",
    "        # return the index of the frist target\n",
    "        # if not return -1\n",
    "        while idx >= 0:\n",
    "            if num[idx] in targets:\n",
    "                return idx\n",
    "            idx -= 1\n",
    "        return -1\n",
    "\n",
    "    # check for the case 25 and 75\n",
    "    i = find(n-1, {'5'})\n",
    "    j = find(i-1, {'2', '7'})\n",
    "    tmp1 = n if j < 0 else n - j - 2\n",
    "\n",
    "    # check for the case 00 and 50\n",
    "    i = find(n-1, {'0'})\n",
    "    if i < 0:\n",
    "        return tmp1\n",
    "\n",
    "    # at least one 0\n",
    "    j = find(i-1, {'0', '5'})\n",
    "    tmp2 = n-1 if j < 0 else n - j - 2\n",
    "\n",
    "    return min(tmp1, tmp2)\n",
    "\n",
    "num = \"2245047\"\n",
    "\n",
    "num = \"2908305\"\n",
    "\n",
    "num = \"10\"\n",
    "\n",
    "minimumOperations(num)\n",
    "        "
   ]
  }
 ],
 "metadata": {
  "kernelspec": {
   "display_name": "Python 3",
   "language": "python",
   "name": "python3"
  },
  "language_info": {
   "codemirror_mode": {
    "name": "ipython",
    "version": 3
   },
   "file_extension": ".py",
   "mimetype": "text/x-python",
   "name": "python",
   "nbconvert_exporter": "python",
   "pygments_lexer": "ipython3",
   "version": "3.12.3"
  }
 },
 "nbformat": 4,
 "nbformat_minor": 2
}

{
 "cells": [
  {
   "cell_type": "code",
   "execution_count": null,
   "metadata": {},
   "outputs": [],
   "source": [
    "class Solution:\n",
    "    def minDays(self, bloomDay: List[int], m: int, k: int) -> int:\n",
    "        # binary search\n",
    "        n = len(bloomDay)\n",
    "        if k * m > n:\n",
    "            return -1\n",
    "        \n",
    "        def isValid(d):\n",
    "            cnt = 0\n",
    "            curL = 0 # current consective bloomed flowers\n",
    "            for i in range(n):\n",
    "                if bloomDay[i] <= d:\n",
    "                    curL += 1\n",
    "                    if curL == k:\n",
    "                        cnt += 1\n",
    "                        curL = 0\n",
    "                else:\n",
    "                    curL = 0\n",
    "            return cnt >= m\n",
    "        \n",
    "        days = list(set(bloomDay))\n",
    "        days.sort()\n",
    "\n",
    "        l, r = 0, len(days)\n",
    "        while l < r:\n",
    "            mid = (l + r) // 2\n",
    "            if not isValid(days[mid]):\n",
    "                l = mid + 1\n",
    "            else:\n",
    "                r = mid\n",
    "        \n",
    "        # l is the first Valid day\n",
    "        return days[l]"
   ]
  },
  {
   "cell_type": "code",
   "execution_count": 13,
   "metadata": {},
   "outputs": [
    {
     "name": "stdout",
     "output_type": "stream",
     "text": [
      "3 True\n",
      "3 True\n",
      "3 True\n",
      "3 True\n",
      "3 True\n"
     ]
    },
    {
     "data": {
      "text/plain": [
       "3"
      ]
     },
     "execution_count": 13,
     "metadata": {},
     "output_type": "execute_result"
    }
   ],
   "source": [
    "def minDays(bloomDay, m, k):\n",
    "    # binary search\n",
    "    n = len(bloomDay)\n",
    "    if k * m > n:\n",
    "        return -1\n",
    "    \n",
    "    def isValid(d):\n",
    "        cnt = 0\n",
    "        curL = 0 # current consective bloomed flowers\n",
    "        for i in range(n):\n",
    "            if bloomDay[i] <= d:\n",
    "                curL += 1\n",
    "                if curL == k:\n",
    "                    cnt += 1\n",
    "                    curL = 0\n",
    "            else:\n",
    "                curL = 0\n",
    "        return cnt >= m\n",
    "    \n",
    "    l, r = 0, max(bloomDay)\n",
    "    while l < r:\n",
    "        mid = (l + r) // 2\n",
    "        print(m, isValid(m))\n",
    "        if not isValid(mid):\n",
    "            l = mid + 1\n",
    "        else:\n",
    "            r = mid\n",
    "    \n",
    "    # l is the first Valid day\n",
    "    return l\n",
    "\n",
    "bloomDay = [7,7,7,7,12,7,7]\n",
    "m = 2\n",
    "k = 3\n",
    "\n",
    "bloomDay = [1,10,3,10,2]\n",
    "m = 3\n",
    "k = 1\n",
    "\n",
    "minDays(bloomDay, m, k)\n"
   ]
  },
  {
   "cell_type": "code",
   "execution_count": 6,
   "metadata": {},
   "outputs": [
    {
     "data": {
      "text/plain": [
       "3"
      ]
     },
     "execution_count": 6,
     "metadata": {},
     "output_type": "execute_result"
    }
   ],
   "source": [
    "# bloomDay = [7,7,7,7,12,7,7]\n",
    "bloomDay = [1,10,3,10,2]\n",
    "n = len(bloomDay)\n",
    "k = 1\n",
    "\n",
    "def isValid(d):\n",
    "    cnt = 0\n",
    "    curL = 0 # current consective bloomed flowers\n",
    "    for i in range(n):\n",
    "        if bloomDay[i] <= d:\n",
    "            curL += 1\n",
    "            if curL == k:\n",
    "                cnt += 1\n",
    "                curL = 0\n",
    "        else:\n",
    "            curL = 0\n",
    "    return cnt\n",
    "\n",
    "isValid(3)"
   ]
  },
  {
   "cell_type": "markdown",
   "metadata": {},
   "source": [
    "# memory limist exceeded"
   ]
  },
  {
   "cell_type": "code",
   "execution_count": null,
   "metadata": {},
   "outputs": [],
   "source": [
    "class Solution:\n",
    "    def minDays(self, bloomDay: List[int], m: int, k: int) -> int:\n",
    "        if len(bloomDay) < m * k:\n",
    "            return -1\n",
    "        \n",
    "        n = len(bloomDay)\n",
    "\n",
    "        maxofPreK = [0] * n\n",
    "        for i in range(k-1, n):\n",
    "            maxofPreK[i] = max(bloomDay[i+1-k:i+1])\n",
    "        # print(maxofPreK)\n",
    "\n",
    "        dp = [[float('inf')]*(n) for _ in range(m)]\n",
    "        # define dp[i][j] = minDay for previous j flowers to get i bouquet\n",
    "        # init for m = 1\n",
    "        for i in range(k-1, n-(m-1)*k):\n",
    "            dp[0][i] = min(max(bloomDay[i+1-k:i+1]), dp[0][i-1])\n",
    "\n",
    "        for i in range(1, m):\n",
    "            for j in range((i+1)*k-1, n-(m-i-1)*k):\n",
    "                # print(dp[i][j-1])\n",
    "                # print(bloomDay[j+1-k:j+1])\n",
    "                dp[i][j] = min(dp[i][j-1], # cur flower is not used\n",
    "                            max(max(bloomDay[j+1-k:j+1]), dp[i-1][j-k])\n",
    "                            )\n",
    "        \n",
    "        return min(dp[-1])"
   ]
  }
 ],
 "metadata": {
  "kernelspec": {
   "display_name": "Python 3",
   "language": "python",
   "name": "python3"
  },
  "language_info": {
   "codemirror_mode": {
    "name": "ipython",
    "version": 3
   },
   "file_extension": ".py",
   "mimetype": "text/x-python",
   "name": "python",
   "nbconvert_exporter": "python",
   "pygments_lexer": "ipython3",
   "version": "3.12.3"
  }
 },
 "nbformat": 4,
 "nbformat_minor": 2
}

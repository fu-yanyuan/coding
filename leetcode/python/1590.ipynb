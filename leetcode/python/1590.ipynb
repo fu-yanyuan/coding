{
 "cells": [
  {
   "cell_type": "code",
   "execution_count": null,
   "metadata": {},
   "outputs": [],
   "source": [
    "class Solution:\n",
    "    def minSubarray(self, nums: List[int], p: int) -> int:\n",
    "        # prefixSum + suffixSum can be divided by p\n",
    "        # and for divided by p, we can use re\n",
    "\n",
    "        if sum(nums) % p == 0:\n",
    "            return 0\n",
    "\n",
    "        n = len(nums)\n",
    "\n",
    "        suffixRemainder = [0] * (n+1)\n",
    "        # suffixRemaider[n] = 0\n",
    "        for i in range(n-1, -1, -1):\n",
    "            suffixRemainder[i] = (suffixRemainder[i+1] + nums[i]) % p\n",
    "        # print(suffixRemainder)\n",
    "\n",
    "        # for prefix\n",
    "        remainder2idx = collections.defaultdict(int)\n",
    "        remainder2idx[0] = -1 # measn  sum(... + nums[idx]) % p = 0\n",
    "        \n",
    "        ans = float('inf')\n",
    "        prefixSumRemainder = 0\n",
    "        for i in range(n+1):\n",
    "            rs = suffixRemainder[i] # remainder for sum(nums[i:])\n",
    "            rp = (p - rs) % p # we want rp \n",
    "\n",
    "            if rp in remainder2idx:\n",
    "                ans = min(i - remainder2idx[rp] - 1, ans)\n",
    "            if i < n:\n",
    "                prefixSumRemainder = (prefixSumRemainder + nums[i]) % p\n",
    "                remainder2idx[prefixSumRemainder] = i\n",
    "        \n",
    "        return ans if ans < n else -1"
   ]
  },
  {
   "cell_type": "code",
   "execution_count": 14,
   "metadata": {},
   "outputs": [
    {
     "name": "stdout",
     "output_type": "stream",
     "text": [
      "7 2\n",
      "1 8\n",
      "7 2\n",
      "2 7\n",
      "0 0\n"
     ]
    },
    {
     "data": {
      "text/plain": [
       "2"
      ]
     },
     "execution_count": 14,
     "metadata": {},
     "output_type": "execute_result"
    }
   ],
   "source": [
    "import collections\n",
    "\n",
    "def minSubarray(nums, p):\n",
    "    # [1,2,3,3,X,X,X,3,5,6,8] [x,x,x] is the subarray to be removed\n",
    "    # prefixSum + suffixSum can be divided by p\n",
    "    # and for divided by p, we can use re\n",
    "    total = sum(nums)\n",
    "    if total % p == 0:\n",
    "        return 0\n",
    "\n",
    "    n = len(nums)\n",
    "\n",
    "    # for prefix\n",
    "    remainder2idx = collections.defaultdict(int)\n",
    "    remainder2idx[0] = -1 # measn  sum(... + nums[idx]) % p = 0\n",
    "    prefixSum = 0\n",
    "    \n",
    "    ans = float('inf')\n",
    "    prefixSumRemainder = 0\n",
    "    for i in range(n+1):\n",
    "        rs = (total - prefixSum) % p # remainder for sum(nums[i:])\n",
    "        rp = (p - rs) % p # we want rp \n",
    "        print(rs, rp)\n",
    "\n",
    "        if rp in remainder2idx:\n",
    "            ans = min(i - remainder2idx[rp] - 1, ans)\n",
    "        if i < n:\n",
    "            prefixSumRemainder = (prefixSumRemainder + nums[i]) % p\n",
    "            remainder2idx[prefixSumRemainder] = i\n",
    "            prefixSum += nums[i]\n",
    "    \n",
    "    return ans if ans < n else -1\n",
    "\n",
    "nums = [6,3,5,2]\n",
    "p = 9\n",
    "minSubarray(nums, p)"
   ]
  },
  {
   "cell_type": "code",
   "execution_count": 12,
   "metadata": {},
   "outputs": [
    {
     "name": "stdout",
     "output_type": "stream",
     "text": [
      "[7, 1, 7, 2, 0]\n",
      "7 2 -2\n",
      "1 8 -2\n",
      "7 2 -2\n",
      "2 7 -2\n",
      "0 0 1\n"
     ]
    },
    {
     "data": {
      "text/plain": [
       "2"
      ]
     },
     "execution_count": 12,
     "metadata": {},
     "output_type": "execute_result"
    }
   ],
   "source": [
    "def minSubarray(nums, p):\n",
    "    # [1,2,3,3,X,X,X,3,5,6,8] [x,x,x] is the subarray to be removed\n",
    "    # prefixSum + suffixSum can be divided by p\n",
    "    # and for divided by p, we can use re\n",
    "\n",
    "    if sum(nums) % p == 0:\n",
    "        return 0\n",
    "\n",
    "    n = len(nums)\n",
    "\n",
    "    suffixRemainder = [0] * (n+1)\n",
    "    # suffixRemaider[n] = 0\n",
    "    for i in range(n-1, -1, -1):\n",
    "        suffixRemainder[i] = (suffixRemainder[i+1] + nums[i]) % p\n",
    "    print(suffixRemainder)\n",
    "\n",
    "    # for prefix\n",
    "    remainder2idx = [-2] * p\n",
    "    remainder2idx[0] = -1 # measn  sum(... + nums[idx]) % p = 0\n",
    "    \n",
    "    ans = float('inf')\n",
    "    prefixSumRemainder = 0\n",
    "    for i in range(n+1):\n",
    "        rs = suffixRemainder[i] # remainder for sum(nums[i:])\n",
    "        rp = (p - rs) % p # we want rp \n",
    "        idx = remainder2idx[rp] # max idx s.t. sum(nums[:idx]) % p = rp\n",
    "        print(rs, rp, idx)\n",
    "\n",
    "        if idx != -2:\n",
    "            ans = min(i - remainder2idx[rp] - 1, ans)\n",
    "        if i < n:\n",
    "            prefixSumRemainder = (prefixSumRemainder + nums[i]) % p\n",
    "            remainder2idx[prefixSumRemainder] = i\n",
    "    \n",
    "    return ans if ans < float('inf') else -1\n",
    "\n",
    "\n",
    "nums = [6,3,5,2]\n",
    "p = 9\n",
    "minSubarray(nums, p)"
   ]
  },
  {
   "cell_type": "code",
   "execution_count": null,
   "metadata": {},
   "outputs": [],
   "source": []
  }
 ],
 "metadata": {
  "kernelspec": {
   "display_name": "Python 3",
   "language": "python",
   "name": "python3"
  },
  "language_info": {
   "codemirror_mode": {
    "name": "ipython",
    "version": 3
   },
   "file_extension": ".py",
   "mimetype": "text/x-python",
   "name": "python",
   "nbconvert_exporter": "python",
   "pygments_lexer": "ipython3",
   "version": "3.12.3"
  }
 },
 "nbformat": 4,
 "nbformat_minor": 2
}

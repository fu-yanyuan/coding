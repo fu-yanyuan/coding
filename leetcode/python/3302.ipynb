{
 "cells": [
  {
   "cell_type": "markdown",
   "metadata": {},
   "source": [
    "# 前后缀分解"
   ]
  },
  {
   "cell_type": "code",
   "execution_count": 4,
   "metadata": {},
   "outputs": [
    {
     "name": "stdout",
     "output_type": "stream",
     "text": [
      "[1, 2, 2, 2, 2, 3]\n"
     ]
    },
    {
     "data": {
      "text/plain": [
       "[1, 2, 4]"
      ]
     },
     "execution_count": 4,
     "metadata": {},
     "output_type": "execute_result"
    }
   ],
   "source": [
    "def validSequence(word1, word2):\n",
    "    n, m = len(word1), len(word2)\n",
    "    # suffix[i] = j  <=> word2[j:] is a subsequence of word1[i:]\n",
    "    suffix = [0] * (n+1)\n",
    "    suffix[n] = m # word2[m:] = \"\" is a subsequece of word1[n:] = \"\"\n",
    "    j = m-1\n",
    "    for i in range(n-1, -1, -1):\n",
    "        if j >= 0 and word1[i] == word2[j]:\n",
    "            suffix[i] = j\n",
    "            j -= 1\n",
    "        else:\n",
    "            suffix[i] = suffix[i+1]\n",
    "    print(suffix)\n",
    "\n",
    "    ans = []\n",
    "    changed = False\n",
    "    # greedy\n",
    "\n",
    "    j = 0\n",
    "    for i in range(n):\n",
    "        if word1[i] == word2[j]:\n",
    "            ans.append(i)\n",
    "            j += 1\n",
    "        else:\n",
    "            if not changed and suffix[i+1] <= j + 1: # as long as word[i+1:] is a sub-sequence in the future\n",
    "                # change cur char\n",
    "                changed = True\n",
    "                ans.append(i)\n",
    "                j += 1\n",
    "        if j == m:\n",
    "            return ans\n",
    "    return []\n",
    "\n",
    "word1 = \"vbcca\"\n",
    "word2 = \"abc\"\n",
    "\n",
    "word1 = \"bacdc\"\n",
    "word2 = \"abc\"\n",
    "\n",
    "validSequence(word1, word2)\n",
    "\n",
    "\n"
   ]
  },
  {
   "cell_type": "code",
   "execution_count": null,
   "metadata": {},
   "outputs": [],
   "source": []
  }
 ],
 "metadata": {
  "kernelspec": {
   "display_name": "Python 3",
   "language": "python",
   "name": "python3"
  },
  "language_info": {
   "codemirror_mode": {
    "name": "ipython",
    "version": 3
   },
   "file_extension": ".py",
   "mimetype": "text/x-python",
   "name": "python",
   "nbconvert_exporter": "python",
   "pygments_lexer": "ipython3",
   "version": "3.12.2"
  }
 },
 "nbformat": 4,
 "nbformat_minor": 2
}

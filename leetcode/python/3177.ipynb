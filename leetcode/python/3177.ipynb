{
 "cells": [
  {
   "cell_type": "markdown",
   "metadata": {},
   "source": [
    "# why dp(i, j, andVal) is faster than dp(i, j)"
   ]
  },
  {
   "cell_type": "code",
   "execution_count": null,
   "metadata": {},
   "outputs": [],
   "source": [
    "from functools import cache\n",
    "\n",
    "def minimumValueSum(nums, andValues):\n",
    "    n, m = len(nums), len(andValues)\n",
    "    if n < m:\n",
    "        return -1\n",
    "    \n",
    "    @cache\n",
    "    def dp(i, j, andVal):\n",
    "        if i == n and j == m:\n",
    "            return 0\n",
    "        if i == n or j == m:\n",
    "            return float('inf')\n",
    "\n",
    "        andVal &= nums[i]\n",
    "        if andVal < andValues[j]:\n",
    "            return float('inf')\n",
    "        if andVal > andValues[j]:\n",
    "            return dp(i+1, j, andVal)\n",
    "        return min(nums[i] + dp(i+1, j+1, -1), dp(i+1, j, andVal))\n",
    "        \n",
    "    ans = dp(0, 0, -1)\n",
    "    return ans if ans < float('inf') else -1"
   ]
  },
  {
   "cell_type": "code",
   "execution_count": 65,
   "metadata": {},
   "outputs": [
    {
     "name": "stdout",
     "output_type": "stream",
     "text": [
      "[2, 3, 5, 7, 7, 7, 5]\n",
      "[0, 7, 5]\n"
     ]
    },
    {
     "data": {
      "text/plain": [
       "17"
      ]
     },
     "execution_count": 65,
     "metadata": {},
     "output_type": "execute_result"
    }
   ],
   "source": [
    "from functools import cache\n",
    "\n",
    "def minimumValueSum(nums, andValues):\n",
    "    n, m = len(nums), len(andValues)\n",
    "    if n < m:\n",
    "        return -1\n",
    "    \n",
    "    print(nums)\n",
    "    print(andValues)\n",
    "    \n",
    "    @cache\n",
    "    def dp(i, j):\n",
    "        ''' \n",
    "        return minValueSum for nums[i:] and andValues[j:]\n",
    "        '''\n",
    "        if j == m-1:\n",
    "            tmp = -1\n",
    "            for i in range(i, n):\n",
    "                tmp &= nums[i]\n",
    "            if tmp == andValues[j]:\n",
    "                return nums[-1]\n",
    "            else:\n",
    "                return float('inf')\n",
    "        \n",
    "        # i, i+1,         ..., n-1    #  n - ni\n",
    "        # j        , j+1, ..., m-1    # remain m-1-j\n",
    "        # n - ni >=  m - 1 - j => ni <= n - m + j + 1\n",
    "        # cur arr is nums[i:ni]\n",
    "        minVal = float('inf')\n",
    "        andVal = -1\n",
    "        for ni in range(i+1, n-m+j+2):\n",
    "            andVal &= nums[ni-1]\n",
    "            if andVal < andValues[j]:\n",
    "                break\n",
    "            elif andVal > andValues[j]:\n",
    "                continue\n",
    "            else:\n",
    "                tmp = dp(ni, j+1)\n",
    "                minVal = min(minVal, nums[ni-1] + tmp)\n",
    "        \n",
    "        return minVal\n",
    "    \n",
    "    return dp(0, 0) if dp(0, 0) < float('inf') else -1\n",
    "\n",
    "\n",
    "nums = [2,3,5,7,7,7,5]\n",
    "andValues = [0,7,5]\n",
    "\n",
    "# nums = [7,7,7,5]\n",
    "# andValues = [7,5]\n",
    "minimumValueSum(nums, andValues)"
   ]
  },
  {
   "cell_type": "code",
   "execution_count": 60,
   "metadata": {},
   "outputs": [
    {
     "data": {
      "text/plain": [
       "12"
      ]
     },
     "execution_count": 60,
     "metadata": {},
     "output_type": "execute_result"
    }
   ],
   "source": [
    "from functools import cache\n",
    "\n",
    "def minimumValueSum(nums, andValues):\n",
    "    n, m = len(nums), len(andValues)\n",
    "    if n < m:\n",
    "        return -1\n",
    "    \n",
    "    def andFunc(arr):\n",
    "        ans = arr[0]\n",
    "        for i in range(1, len(arr)):\n",
    "            ans &= arr[i]\n",
    "        return ans\n",
    "        \n",
    "    @cache\n",
    "    def dp(i, j):\n",
    "        ''' \n",
    "        return minValueSum for nums[i:] and andValues[j:]\n",
    "        '''\n",
    "        if j == m-1:\n",
    "            if andFunc(nums[i:]) == andValues[j]:\n",
    "                return nums[-1]\n",
    "            else:\n",
    "                return float('inf')\n",
    "        \n",
    "        # i, i+1,         ..., n-1    #  n - ni\n",
    "        # j        , j+1, ..., m-1    # remain m-1-j\n",
    "        # n - ni >=  m - 1 - j => ni <= n - m + j + 1\n",
    "        # cur arr is nums[i:ni]\n",
    "        minVal = float('inf')\n",
    "        for ni in range(i+1, n-m+j+2):\n",
    "            if andFunc(nums[i:ni]) != andValues[j]:\n",
    "                continue\n",
    "            tmp = dp(ni, j+1)\n",
    "            minVal = min(minVal, nums[ni-1] + tmp)\n",
    "        \n",
    "        return minVal\n",
    "    \n",
    "    return dp(0, 0) if dp(0, 0) < float('inf') else -1\n",
    "        \n",
    "\n",
    "nums = [2,3,5,7,7,7,5]\n",
    "andValues = [0,7,5]\n",
    "\n",
    "minimumValueSum(nums, andValues)"
   ]
  },
  {
   "cell_type": "code",
   "execution_count": 4,
   "metadata": {},
   "outputs": [
    {
     "name": "stdout",
     "output_type": "stream",
     "text": [
      "1\n",
      "2\n",
      "3\n"
     ]
    }
   ],
   "source": [
    "n = 5 # 0 1 2 3 4 \n",
    "m = 3 # 0 1 2 \n",
    "i, j = 0, 0\n",
    "\n",
    "# m-1-j <= n-end\n",
    "\n",
    "for end in range(i+1, n-m+j+1+1):\n",
    "    print(end)"
   ]
  },
  {
   "cell_type": "code",
   "execution_count": 7,
   "metadata": {},
   "outputs": [
    {
     "name": "stdout",
     "output_type": "stream",
     "text": [
      "True\n"
     ]
    }
   ],
   "source": [
    "a = float('inf')\n",
    "b = 1 + float('inf') * 2\n",
    "print(a == b)"
   ]
  },
  {
   "cell_type": "code",
   "execution_count": 24,
   "metadata": {},
   "outputs": [
    {
     "name": "stdout",
     "output_type": "stream",
     "text": [
      "1\n"
     ]
    }
   ],
   "source": [
    "nums = [2,3,5,7,7,7,5]\n",
    "n = len(nums)\n",
    "\n",
    "a = 1 \n",
    "b = 5\n",
    "print(a & b)"
   ]
  },
  {
   "cell_type": "code",
   "execution_count": 27,
   "metadata": {},
   "outputs": [
    {
     "name": "stdout",
     "output_type": "stream",
     "text": [
      "[2, 2, 0, 0, 0, 0, 0]\n",
      "3\n",
      "0\n"
     ]
    }
   ],
   "source": [
    "nums = [2,3,5,7,7,7,5]\n",
    "n = len(nums)\n",
    "andArr = [0] * n\n",
    "\n",
    "andArr[0] = nums[0]\n",
    "for i in range(1, n):\n",
    "    andArr[i] = andArr[i-1] & nums[i]\n",
    "print(andArr)\n",
    "\n",
    "# andArr[i] = nums[0] & nums[1] & ... & nums[i]\n",
    "# andArr[j] = nums[0] & nums[1] & ... & nums[i] & nums[i+1] & ... & nums[j]\n",
    "\n",
    "# a\n",
    "# a & b\n",
    "# b = ?\n",
    "\n",
    "a = 3\n",
    "b = 7\n",
    "print(a & b)\n",
    "print(a ^ a)\n",
    "\n",
    "\n",
    "# & \n",
    "0 0  0\n",
    "0 1  0\n",
    "1 0  0\n",
    "1 1  1"
   ]
  },
  {
   "cell_type": "code",
   "execution_count": 40,
   "metadata": {},
   "outputs": [
    {
     "name": "stdout",
     "output_type": "stream",
     "text": [
      "0b111\n",
      "0b110\n",
      "0b11\n",
      "0b10\n",
      "2\n",
      "0\n"
     ]
    }
   ],
   "source": [
    "def andFunc(arr):\n",
    "    ans = arr[0]\n",
    "    for i in range(1, len(arr)):\n",
    "        ans &= arr[i]\n",
    "    return ans\n",
    "\n",
    "a = [7, 6, 3, 2]\n",
    "for n in a:\n",
    "    print(bin(n))\n",
    "print(andFunc(a))\n",
    "\n",
    "print(2 ^ 7 & 6 & 3 & 2)"
   ]
  },
  {
   "cell_type": "code",
   "execution_count": 42,
   "metadata": {},
   "outputs": [
    {
     "name": "stdout",
     "output_type": "stream",
     "text": [
      "0\n",
      "computing 0\n",
      "0\n",
      "computing 1\n",
      "1\n",
      "computing 2\n",
      "3\n"
     ]
    }
   ],
   "source": [
    "from functools import cache\n",
    "\n",
    "@cache\n",
    "def func1(i):\n",
    "    print(f'computing {i}')\n",
    "    return i\n",
    "\n",
    "def dp(x):\n",
    "    tmp = 0\n",
    "    for i in range(x):\n",
    "        tmp = 0\n",
    "        for j in range(i):\n",
    "            tmp += func1(j)\n",
    "        print(tmp)\n",
    "\n",
    "dp(4)"
   ]
  },
  {
   "cell_type": "code",
   "execution_count": 46,
   "metadata": {},
   "outputs": [
    {
     "name": "stdout",
     "output_type": "stream",
     "text": [
      "-0b1\n",
      "4\n",
      "0\n"
     ]
    }
   ],
   "source": [
    "a = -1\n",
    "print(bin(a))\n",
    "\n",
    "print(a & 4)\n",
    "\n",
    "print(1 & 4)"
   ]
  }
 ],
 "metadata": {
  "kernelspec": {
   "display_name": "Python 3",
   "language": "python",
   "name": "python3"
  },
  "language_info": {
   "codemirror_mode": {
    "name": "ipython",
    "version": 3
   },
   "file_extension": ".py",
   "mimetype": "text/x-python",
   "name": "python",
   "nbconvert_exporter": "python",
   "pygments_lexer": "ipython3",
   "version": "3.12.3"
  }
 },
 "nbformat": 4,
 "nbformat_minor": 2
}

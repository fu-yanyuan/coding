{
 "cells": [
  {
   "cell_type": "code",
   "execution_count": null,
   "metadata": {},
   "outputs": [],
   "source": [
    "# 只要目前的油没法到达终点，就得加油\n",
    "# heap 来维护当前能加的stop，maxheap\n",
    "# 加完油后还要更新能加的stop\n",
    "\n",
    "import heapq\n",
    "\n",
    "def minRefuelStops(target, startFuel, stations):\n",
    "    curFuel = startFuel\n",
    "    i = 0\n",
    "    n = len(stations)\n",
    "    maxHeap = [] # available stations\n",
    "    cnt = 0\n",
    "    while curFuel < target:\n",
    "        # update the stops we can use for fueling\n",
    "        while i < n and curFuel >= stations[i][0]:\n",
    "            heapq.heappush(maxHeap, -stations[i][1])\n",
    "            i += 1\n",
    "\n",
    "        # fueling\n",
    "        # greedy\n",
    "        if maxHeap:\n",
    "            fuel = - heapq.heappop(maxHeap)\n",
    "            curFuel += fuel\n",
    "            cnt += 1\n",
    "        else:\n",
    "            return -1 # curFuel < target and we can not fueling\n",
    "    \n",
    "    return cnt\n"
   ]
  },
  {
   "cell_type": "code",
   "execution_count": 6,
   "metadata": {},
   "outputs": [
    {
     "name": "stdout",
     "output_type": "stream",
     "text": [
      "25 27 [83]\n",
      "36 187 [83, 110]\n",
      "140 186 [83, 270, 297]\n",
      "378 6 [270, 456, 483]\n",
      "492 202 [456, 483, 489]\n"
     ]
    },
    {
     "data": {
      "text/plain": [
       "-1"
      ]
     },
     "execution_count": 6,
     "metadata": {},
     "output_type": "execute_result"
    }
   ],
   "source": [
    "import bisect\n",
    "\n",
    "def minRefuelStops(target, startFuel, stations):\n",
    "    fuels = [startFuel] # fuels[i] = with (startCnt + i) tims fueling, the maxFuels we can have\n",
    "    startCnt = 0\n",
    "\n",
    "    for pos, fuel in stations:\n",
    "        print(pos, fuel, fuels)\n",
    "        # make sure we can arrive this station\n",
    "        if pos > fuels[-1]:\n",
    "            return -1\n",
    "        # use bisect left to find at least we need how many times to fueling\n",
    "        idx = bisect.bisect_left(fuels, pos)\n",
    "        for _ in range(idx):\n",
    "            fuels.pop(0)\n",
    "        startCnt += idx\n",
    "        \n",
    "        # # the reamaining fuels can go further\n",
    "        # # udpate \n",
    "        # for i in range(1, len(fuels)):\n",
    "        #     fuels[i] = max(fuels[i], fuels[i-1] + fuel)\n",
    "        # fuels.append(fuels[-1] + fuel)\n",
    "\n",
    "        # the reamaining fuels can go further\n",
    "        # udpate in reverse order\n",
    "        fuels.append(fuels[-1] + fuel)\n",
    "        for i in range(len(fuels)-2, 0, -1):\n",
    "            fuels[i] = max(fuels[i], fuels[i-1] + fuel)\n",
    "        \n",
    "\n",
    "    # for the target\n",
    "    if target > fuels[-1]:\n",
    "        return -1\n",
    "    idx = bisect.bisect_left(fuels, target)\n",
    "    return startCnt + idx\n",
    "\n",
    "\n",
    "target = 100\n",
    "startFuel = 10\n",
    "stations = [[10,60],[20,30],[30,30],[60,40]]\n",
    "\n",
    "target = 1000\n",
    "startFuel = 83\n",
    "stations = [[25,27],[36,187],[140,186],[378,6],[492,202],[517,89],[579,234],[673,86],[808,53],[954,49]]\n",
    "\n",
    "minRefuelStops(target, startFuel, stations)\n"
   ]
  },
  {
   "cell_type": "code",
   "execution_count": null,
   "metadata": {},
   "outputs": [],
   "source": []
  }
 ],
 "metadata": {
  "kernelspec": {
   "display_name": "Python 3",
   "language": "python",
   "name": "python3"
  },
  "language_info": {
   "codemirror_mode": {
    "name": "ipython",
    "version": 3
   },
   "file_extension": ".py",
   "mimetype": "text/x-python",
   "name": "python",
   "nbconvert_exporter": "python",
   "pygments_lexer": "ipython3",
   "version": "3.12.2"
  }
 },
 "nbformat": 4,
 "nbformat_minor": 2
}

{
 "cells": [
  {
   "cell_type": "code",
   "execution_count": 21,
   "metadata": {},
   "outputs": [
    {
     "data": {
      "text/plain": [
       "[5, 6, 8, 9]"
      ]
     },
     "execution_count": 21,
     "metadata": {},
     "output_type": "execute_result"
    }
   ],
   "source": [
    "def relocateMarbles(nums, moveFrom, moveTo):\n",
    "    pos = set(nums)\n",
    "\n",
    "    for start, end in zip(moveFrom, moveTo):\n",
    "        # if start in pos:\n",
    "        #     pos.remove(start)\n",
    "        pos.remove(start)\n",
    "        pos.add(end)\n",
    "    \n",
    "    return sorted(list(pos))\n",
    "\n",
    "nums = [1,6,7,8]\n",
    "moveFrom = [1,7,2]\n",
    "moveTo = [2,9,5]\n",
    "\n",
    "# nums = [3, 4]\n",
    "# moveFrom = [4,3,1,2,2,3,2,4,1]\n",
    "# moveTo = [3,1,2,2,3,2,4,1,1]\n",
    "\n",
    "relocateMarbles(nums, moveFrom, moveTo)"
   ]
  },
  {
   "cell_type": "code",
   "execution_count": 17,
   "metadata": {},
   "outputs": [
    {
     "data": {
      "text/plain": [
       "[1]"
      ]
     },
     "execution_count": 17,
     "metadata": {},
     "output_type": "execute_result"
    }
   ],
   "source": [
    "import collections\n",
    "\n",
    "def relocateMarbles(nums, moveFrom, moveTo):\n",
    "    cntr = collections.defaultdict(int)\n",
    "    for i in range(len(nums)):\n",
    "        cntr[nums[i]] += 1\n",
    "    \n",
    "    for i in range(len(moveFrom)):\n",
    "        tmp = cntr[moveFrom[i]]\n",
    "        cntr[moveTo[i]] += tmp\n",
    "        cntr[moveFrom[i]] -= tmp\n",
    "    \n",
    "    ans = []\n",
    "    for k, v in sorted(cntr.items()):\n",
    "        if v > 0:\n",
    "            ans.append(k) \n",
    "    return ans\n",
    "\n",
    "\n",
    "\n",
    "nums = [1,6,7,8]\n",
    "moveFrom = [1,7,2]\n",
    "moveTo = [2,9,5]\n",
    "\n",
    "nums = [3, 4]\n",
    "moveFrom = [4,3,1,2,2,3,2,4,1]\n",
    "moveTo = [3,1,2,2,3,2,4,1,1]\n",
    "\n",
    "relocateMarbles(nums, moveFrom, moveTo)"
   ]
  }
 ],
 "metadata": {
  "kernelspec": {
   "display_name": "Python 3",
   "language": "python",
   "name": "python3"
  },
  "language_info": {
   "codemirror_mode": {
    "name": "ipython",
    "version": 3
   },
   "file_extension": ".py",
   "mimetype": "text/x-python",
   "name": "python",
   "nbconvert_exporter": "python",
   "pygments_lexer": "ipython3",
   "version": "3.12.3"
  }
 },
 "nbformat": 4,
 "nbformat_minor": 2
}

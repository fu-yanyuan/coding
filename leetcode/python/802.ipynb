{
 "cells": [
  {
   "cell_type": "code",
   "execution_count": 5,
   "metadata": {},
   "outputs": [
    {
     "name": "stdout",
     "output_type": "stream",
     "text": [
      "[0, 0, 0, 0, 1]\n"
     ]
    },
    {
     "data": {
      "text/plain": [
       "[4]"
      ]
     },
     "execution_count": 5,
     "metadata": {},
     "output_type": "execute_result"
    }
   ],
   "source": [
    "def eventualSafeNodes(graph):\n",
    "    V = len(graph)\n",
    "    status = [-1] * V # visited = 0, safe = 1\n",
    "\n",
    "    def dfs(i):\n",
    "        if status[i] == 0:\n",
    "            return False\n",
    "        if status[i] == 1:\n",
    "            return True\n",
    "\n",
    "        status[i] = 0 # visited\n",
    "        for u in graph[i]:\n",
    "            if not dfs(u):\n",
    "                return False\n",
    "        status[i] = 1\n",
    "        return True\n",
    "\n",
    "    ans = []\n",
    "    for i in range(V):\n",
    "        if dfs(i):\n",
    "            ans.append(i)\n",
    "    print(status)\n",
    "    return ans\n",
    "\n",
    "graph = [[1,2],[2,3],[5],[0],[5],[],[]]\n",
    "\n",
    "graph = [[1,2,3,4],[1,2],[3,4],[0,4],[]]\n",
    "\n",
    "eventualSafeNodes(graph)"
   ]
  }
 ],
 "metadata": {
  "kernelspec": {
   "display_name": "Python 3",
   "language": "python",
   "name": "python3"
  },
  "language_info": {
   "codemirror_mode": {
    "name": "ipython",
    "version": 3
   },
   "file_extension": ".py",
   "mimetype": "text/x-python",
   "name": "python",
   "nbconvert_exporter": "python",
   "pygments_lexer": "ipython3",
   "version": "3.12.3"
  }
 },
 "nbformat": 4,
 "nbformat_minor": 2
}

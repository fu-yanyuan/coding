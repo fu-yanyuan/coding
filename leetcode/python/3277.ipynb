{
 "cells": [
  {
   "cell_type": "markdown",
   "metadata": {},
   "source": [
    "# 区间dp"
   ]
  },
  {
   "cell_type": "code",
   "execution_count": 8,
   "metadata": {},
   "outputs": [
    {
     "name": "stdout",
     "output_type": "stream",
     "text": [
      "=====================\n",
      "[0, 7, 3, 6, 8, 10, 10]\n",
      "[0, 7, 4, 5, 14, 2, 0]\n",
      "[0, 0, 3, 1, 11, 12, 2]\n",
      "[0, 0, 0, 2, 10, 7, 14]\n",
      "[0, 0, 0, 0, 8, 13, 9]\n",
      "[0, 0, 0, 0, 0, 5, 4]\n",
      "[0, 0, 0, 0, 0, 0, 1]\n",
      "=====================\n",
      "[0, 7, 7, 7, 14, 14, 14]\n",
      "[0, 7, 7, 7, 14, 14, 14]\n",
      "[0, 0, 3, 3, 11, 13, 14]\n",
      "[0, 0, 0, 2, 10, 13, 14]\n",
      "[0, 0, 0, 0, 8, 13, 13]\n",
      "[0, 0, 0, 0, 0, 5, 5]\n",
      "[0, 0, 0, 0, 0, 0, 1]\n"
     ]
    },
    {
     "data": {
      "text/plain": [
       "[7, 14, 11, 14, 5]"
      ]
     },
     "execution_count": 8,
     "metadata": {},
     "output_type": "execute_result"
    }
   ],
   "source": [
    "from utils.show import show2D\n",
    "\n",
    "def maximumSubarrayXor(nums, queries):\n",
    "    n = len(nums)\n",
    "\n",
    "    # O(n*n) to get the XOR score matrix\n",
    "    # score[i][j] = xor score of subarray of nums[i...j]\n",
    "    score = [[0] * n for _ in range(n)]\n",
    "    for i in range(n-1, -1, -1):\n",
    "        score[i][i] = nums[i]\n",
    "        for j in range(i+1, n):\n",
    "            score[i][j] = score[i][j-1] ^ score[i+1][j]\n",
    "    show2D(score)\n",
    "\n",
    "    # O(n*n) to get maxScore matrix\n",
    "    # maxScore[i][j] = queries of [i...j]\n",
    "    # maxScore[i][j] = max(maxScore[i][j-1], maxScore[i+1][j], score[i][j])\n",
    "    maxScore = [[0] * n for _ in range(n)]\n",
    "    for i in range(n-1, -1, -1):\n",
    "        maxScore[i][i] = nums[i]\n",
    "        for j in range(i+1, n):\n",
    "            maxScore[i][j] = max([maxScore[i][j-1], maxScore[i+1][j], score[i][j]])\n",
    "    show2D(maxScore)\n",
    "\n",
    "    ans = []\n",
    "    for i, j in queries:\n",
    "        ans.append(maxScore[i][j])\n",
    "    return ans\n",
    "\n",
    "nums = [2,8,4,32,16,1]\n",
    "queries = [[0,2],[1,4],[0,5]]\n",
    "\n",
    "nums = [0,7,3,2,8,5,1]\n",
    "queries = [[0,3],[1,5],[2,4],[2,6],[5,6]]\n",
    "\n",
    "maximumSubarrayXor(nums, queries)\n"
   ]
  },
  {
   "cell_type": "code",
   "execution_count": 9,
   "metadata": {},
   "outputs": [
    {
     "data": {
      "text/plain": [
       "[7, 14, 11, 14, 5]"
      ]
     },
     "execution_count": 9,
     "metadata": {},
     "output_type": "execute_result"
    }
   ],
   "source": [
    "def maximumSubarrayXor(nums, queries):\n",
    "    n = len(nums)\n",
    "    score = [[0] * n for _ in range(n)]\n",
    "    maxScore = [[0] * n for _ in range(n)]\n",
    "    for i in range(n-1, -1, -1):\n",
    "        score[i][i] = nums[i]\n",
    "        maxScore[i][i] = nums[i]\n",
    "        for j in range(i+1, n):\n",
    "            score[i][j] = score[i][j-1] ^ score[i+1][j]\n",
    "            maxScore[i][j] = max([maxScore[i][j-1], maxScore[i+1][j], score[i][j]])\n",
    "    \n",
    "    ans = []\n",
    "    for i, j in queries:\n",
    "        ans.append(maxScore[i][j])\n",
    "    return ans\n",
    "\n",
    "nums = [0,7,3,2,8,5,1]\n",
    "queries = [[0,3],[1,5],[2,4],[2,6],[5,6]]\n",
    "\n",
    "maximumSubarrayXor(nums, queries)\n",
    "\n",
    "    "
   ]
  },
  {
   "cell_type": "code",
   "execution_count": null,
   "metadata": {},
   "outputs": [],
   "source": []
  }
 ],
 "metadata": {
  "kernelspec": {
   "display_name": "Python 3",
   "language": "python",
   "name": "python3"
  },
  "language_info": {
   "codemirror_mode": {
    "name": "ipython",
    "version": 3
   },
   "file_extension": ".py",
   "mimetype": "text/x-python",
   "name": "python",
   "nbconvert_exporter": "python",
   "pygments_lexer": "ipython3",
   "version": "3.12.2"
  }
 },
 "nbformat": 4,
 "nbformat_minor": 2
}

{
 "cells": [
  {
   "cell_type": "code",
   "execution_count": null,
   "metadata": {},
   "outputs": [],
   "source": [
    "from functools import cache\n",
    "\n",
    "def numberOfStableArrays(zero, one, limit):\n",
    "\n",
    "    mod = 10**9 + 7\n",
    "\n",
    "    # with n0 zeros and n1 ones left, and the n0 + n1 position is k(0 or 1)\n",
    "    @cache\n",
    "    def dp(n0, n1, k):\n",
    "        if n0 < 0 or n1 < 0:\n",
    "            return 0\n",
    "        \n",
    "        if n0 == 0:\n",
    "            return 1 if k == 1 and n1 <= limit else 0\n",
    "        if n1 == 0:\n",
    "            return 1 if k == 0 and n0 <= limit else 0\n",
    "\n",
    "        if k == 0:\n",
    "            return (dp(n0 - 1, n1, 0) + dp(n0 - 1, n1, 1) - dp(n0 - limit - 1, n1, 1)) % mod # dp(n0 - limit - 1, n1, 0) means limit+1 consective 0s\n",
    "        return (dp(n0, n1 - 1, 0) + dp(n0, n1 - 1, 1) - dp(n0, n1 - limit - 1, 0)) % mod\n",
    "    \n",
    "    return (dp(zero, one, 0) + dp(zero, one, 1)) % mod\n",
    "\n"
   ]
  },
  {
   "cell_type": "markdown",
   "metadata": {},
   "source": [
    "## time limit exceed"
   ]
  },
  {
   "cell_type": "code",
   "execution_count": null,
   "metadata": {},
   "outputs": [],
   "source": [
    "from functools import cache\n",
    "import math\n",
    "\n",
    "def numberOfStableArrays(zero, one, limit):\n",
    "    # length is zero + one\n",
    "    # #zeros = zero, #ones = one\n",
    "    # no consective #limit+1 ones or zeros\n",
    "\n",
    "    mod = 10**9 + 7\n",
    "\n",
    "    @cache\n",
    "    def dp(n0, n1, prev0, prev1):\n",
    "        if n0 == 0 and n1 == 0:\n",
    "            return 1\n",
    "\n",
    "        if limit - prev0 >= n0 and limit - prev1 >= n1:\n",
    "            return math.comb(n0+n1, n0) % mod\n",
    "        \n",
    "        count = 0\n",
    "        # choose 0 for cur position., m\n",
    "        if n0 > 0 and prev0 < limit:\n",
    "            count += dp(n0-1, n1, prev0 + 1, 0)\n",
    "        # choose 1 for cur position\n",
    "        if n1 > 0 and prev1 < limit:\n",
    "            count += dp(n0, n1-1, 0, prev1 + 1)\n",
    "        \n",
    "        return count % mod\n",
    "\n",
    "    return dp(zero, one, 0, 0)\n",
    "\n",
    "\n",
    "        "
   ]
  }
 ],
 "metadata": {
  "language_info": {
   "name": "python"
  }
 },
 "nbformat": 4,
 "nbformat_minor": 2
}

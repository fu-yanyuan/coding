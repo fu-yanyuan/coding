{
 "cells": [
  {
   "cell_type": "code",
   "execution_count": null,
   "metadata": {},
   "outputs": [],
   "source": [
    "def snakesAndLadders(board):\n",
    "    n = len(board)\n",
    "    destination = n * n\n",
    "    visited = [0] * (destination + 1) # dunmmy 0 index\n",
    "    # flat\n",
    "    flat = [0] # dummy 0\n",
    "    k = 0\n",
    "    for i in range(n-1, -1, -1):\n",
    "        if k % 2 == 0:\n",
    "            flat += board[i]\n",
    "        else:\n",
    "            flat += board[i][::-1]\n",
    "        k += 1\n",
    "    print(flat)\n",
    "    # for debug\n",
    "    steps = [0] * (destination + 1)\n",
    "\n",
    "    def moveTo(idx):\n",
    "        return flat[idx] if flat[idx] != -1 else idx\n",
    "\n",
    "    q = [1]\n",
    "    visited[1] = 1\n",
    "    step = 0\n",
    "    while q:\n",
    "        print(q)\n",
    "        step += 1\n",
    "        nxtQ = []\n",
    "        for cur in q:\n",
    "            for k in range(cur+1, min(cur+6, destination)+1):\n",
    "                # if k == destination:\n",
    "                #     return step\n",
    "                nxt = moveTo(k)\n",
    "                if nxt == destination:\n",
    "                    print(k, nxt)\n",
    "                    return step\n",
    "                if visited[nxt] == 0:\n",
    "                    nxtQ.append(nxt)\n",
    "                    visited[nxt] = 1\n",
    "                    visited[k] = 1\n",
    "                    steps[nxt] = step\n",
    "        print(steps)\n",
    "        q = nxtQ\n",
    "\n",
    "    return -1\n",
    "\n",
    "board = [[-1,-1,-1,-1,-1,-1],[-1,-1,-1,-1,-1,-1],[-1,-1,-1,-1,-1,-1],[-1,35,-1,-1,13,-1],[-1,-1,-1,-1,-1,-1],[-1,15,-1,-1,-1,-1]]\n",
    "\n",
    "board = [[-1,-1],[-1,3]]\n",
    "\n",
    "board = [[1,1,-1],[1,1,1],[-1,1,1]]\n",
    "\n",
    "board = [[-1,-1,27,13,-1,25,-1],[-1,-1,-1,-1,-1,-1,-1],[44,-1,8,-1,-1,2,-1],[-1,30,-1,-1,-1,-1,-1],[3,-1,20,-1,46,6,-1],[-1,-1,-1,-1,-1,-1,29],[-1,29,21,33,-1,-1,-1]]\n",
    "\n",
    "snakesAndLadders(board)"
   ]
  },
  {
   "cell_type": "code",
   "execution_count": 5,
   "metadata": {},
   "outputs": [
    {
     "name": "stdout",
     "output_type": "stream",
     "text": [
      "==================\n",
      "[1, 1, 1, 1, 1, 1]\n",
      "[1, 0, 0, 0, 0, 0]\n",
      "[0, 0, 0, 0, 0, 0]\n",
      "[0, 0, 0, 0, 0, 0]\n",
      "[0, 0, 0, 0, 0, 0]\n",
      "[0, 0, 0, 0, 0, 0]\n",
      "==================\n",
      "[1, 1, 1, 1, 1, 1]\n",
      "[1, 2, 2, 2, 2, 2]\n",
      "[2, 0, 0, 0, 0, 0]\n",
      "[0, 0, 0, 0, 0, 0]\n",
      "[0, 0, 0, 0, 0, 0]\n",
      "[0, 0, 0, 0, 0, 0]\n",
      "==================\n",
      "[1, 1, 1, 1, 1, 1]\n",
      "[1, 2, 2, 2, 2, 2]\n",
      "[2, 3, 3, 3, 3, 3]\n",
      "[3, 0, 0, 0, 0, 0]\n",
      "[0, 0, 0, 0, 0, 0]\n",
      "[0, 0, 0, 0, 0, 0]\n",
      "==================\n",
      "[1, 1, 1, 1, 1, 1]\n",
      "[1, 2, 2, 2, 2, 2]\n",
      "[2, 3, 3, 3, 3, 3]\n",
      "[3, 0, 4, 4, 0, 4]\n",
      "[4, 0, 0, 0, 0, 0]\n",
      "[0, 0, 0, 0, 4, 0]\n"
     ]
    },
    {
     "data": {
      "text/plain": [
       "5"
      ]
     },
     "execution_count": 5,
     "metadata": {},
     "output_type": "execute_result"
    }
   ],
   "source": [
    "from utils.show import show2D\n",
    "\n",
    "def snakesAndLadders(board):\n",
    "    n = len(board)\n",
    "    destination = n * n\n",
    "    visited = [0] * (destination+1) # dunmmy 0 index\n",
    "    \n",
    "    steps = [[0]*n for _ in range(n)]\n",
    "\n",
    "    # # num2ij\n",
    "    # def num2ij(num):\n",
    "    #     # 1 <= num <= n * n\n",
    "    #     i = (num-1) // n\n",
    "    #     j = (num-1) % n\n",
    "    #     return i, j\n",
    "    def setSteps(num, step):\n",
    "        i = (num-1) // n\n",
    "        j = (num-1) % n\n",
    "        steps[i][j] = step\n",
    "    def moveTo(num):\n",
    "        i = (num-1) // n\n",
    "        j = (num-1) % n\n",
    "        return board[i][j] if board[i][j] != -1 else num\n",
    "    \n",
    "    q = [1] # cur breadth\n",
    "    visited[0] = 0\n",
    "    step = 0\n",
    "    while q:\n",
    "        nxtQ = []\n",
    "        step += 1\n",
    "\n",
    "        for cur in q:\n",
    "            # check [cur+1, min(cur+6, destination)]\n",
    "            # and we also need to check cur if there is a path starting from cur\n",
    "            for k in range(cur, min(cur+6, destination)+1):\n",
    "                nxt = moveTo(k)\n",
    "                if nxt == destination:\n",
    "                    return step\n",
    "                if visited[nxt] == 0:\n",
    "                    nxtQ.append(nxt)\n",
    "                    visited[nxt] = 1\n",
    "                    setSteps(nxt, step)\n",
    "        \n",
    "        show2D(steps)\n",
    "        q = nxtQ\n",
    "\n",
    "\n",
    "board = [[-1,-1,-1,-1,-1,-1],[-1,-1,-1,-1,-1,-1],[-1,-1,-1,-1,-1,-1],[-1,35,-1,-1,13,-1],[-1,-1,-1,-1,-1,-1],[-1,15,-1,-1,-1,-1]]\n",
    "snakesAndLadders(board)"
   ]
  },
  {
   "cell_type": "code",
   "execution_count": 26,
   "metadata": {},
   "outputs": [
    {
     "name": "stdout",
     "output_type": "stream",
     "text": [
      "[0, -1, 29, 21, 33, -1, -1, -1, 29, -1, -1, -1, -1, -1, -1, 3, -1, 20, -1, 46, 6, -1, -1, -1, -1, -1, -1, 30, -1, 44, -1, 8, -1, -1, 2, -1, -1, -1, -1, -1, -1, -1, -1, -1, -1, 27, 13, -1, 25, -1]\n",
      "[1]\n",
      "[0, 0, 0, 0, 0, 1, 1, 1, 0, 0, 0, 0, 0, 0, 0, 0, 0, 0, 0, 0, 0, 1, 0, 0, 0, 0, 0, 0, 0, 1, 0, 0, 0, 1, 0, 0, 0, 0, 0, 0, 0, 0, 0, 0, 0, 0, 0, 0, 0, 0]\n",
      "[29, 21, 33, 5, 6, 7]\n",
      "[0, 0, 0, 0, 0, 1, 1, 1, 2, 2, 2, 2, 2, 2, 0, 0, 0, 0, 0, 0, 0, 1, 2, 2, 2, 2, 2, 0, 0, 1, 2, 0, 2, 1, 0, 2, 2, 2, 2, 2, 0, 0, 0, 0, 0, 0, 0, 0, 0, 0]\n",
      "[30, 8, 32, 35, 22, 23, 24, 25, 26, 36, 37, 38, 39, 9, 10, 11, 12, 13]\n",
      "[0, 0, 0, 0, 0, 1, 1, 1, 2, 2, 2, 2, 2, 2, 3, 0, 3, 0, 3, 0, 3, 1, 2, 2, 2, 2, 2, 3, 3, 1, 2, 0, 2, 1, 0, 2, 2, 2, 2, 2, 3, 3, 3, 3, 3, 0, 3, 0, 0, 0]\n",
      "[14, 40, 41, 28, 44, 42, 43, 27, 16, 20, 18, 46]\n",
      "49 49\n"
     ]
    },
    {
     "data": {
      "text/plain": [
       "4"
      ]
     },
     "execution_count": 26,
     "metadata": {},
     "output_type": "execute_result"
    }
   ],
   "source": [
    "def snakesAndLadders(board):\n",
    "    n = len(board)\n",
    "    destination = n * n\n",
    "    visited = [0] * (destination + 1) # dunmmy 0 index\n",
    "    # flat\n",
    "    flat = [0] # dummy 0\n",
    "    k = 0\n",
    "    for i in range(n-1, -1, -1):\n",
    "        if k % 2 == 0:\n",
    "            flat += board[i]\n",
    "        else:\n",
    "            flat += board[i][::-1]\n",
    "        k += 1\n",
    "    print(flat)\n",
    "    # for debug\n",
    "    steps = [0] * (destination + 1)\n",
    "\n",
    "    def moveTo(idx):\n",
    "        return flat[idx] if flat[idx] != -1 else idx\n",
    "\n",
    "    q = [1]\n",
    "    visited[1] = 1\n",
    "    step = 0\n",
    "    while q:\n",
    "        print(q)\n",
    "        step += 1\n",
    "        nxtQ = []\n",
    "        for cur in q:\n",
    "            for k in range(cur+1, min(cur+6, destination)+1):\n",
    "                # if k == destination:\n",
    "                #     return step\n",
    "                nxt = moveTo(k)\n",
    "                if nxt == destination:\n",
    "                    print(k, nxt)\n",
    "                    return step\n",
    "                if visited[nxt] == 0:\n",
    "                    nxtQ.append(nxt)\n",
    "                    visited[nxt] = 1\n",
    "                    visited[k] = 1\n",
    "                    steps[nxt] = step\n",
    "        print(steps)\n",
    "        q = nxtQ\n",
    "\n",
    "    return -1\n",
    "\n",
    "board = [[-1,-1,-1,-1,-1,-1],[-1,-1,-1,-1,-1,-1],[-1,-1,-1,-1,-1,-1],[-1,35,-1,-1,13,-1],[-1,-1,-1,-1,-1,-1],[-1,15,-1,-1,-1,-1]]\n",
    "\n",
    "board = [[-1,-1],[-1,3]]\n",
    "\n",
    "board = [[1,1,-1],[1,1,1],[-1,1,1]]\n",
    "\n",
    "board = [[-1,-1,27,13,-1,25,-1],[-1,-1,-1,-1,-1,-1,-1],[44,-1,8,-1,-1,2,-1],[-1,30,-1,-1,-1,-1,-1],[3,-1,20,-1,46,6,-1],[-1,-1,-1,-1,-1,-1,29],[-1,29,21,33,-1,-1,-1]]\n",
    "\n",
    "snakesAndLadders(board)\n"
   ]
  },
  {
   "cell_type": "code",
   "execution_count": 24,
   "metadata": {},
   "outputs": [
    {
     "name": "stdout",
     "output_type": "stream",
     "text": [
      "[0, -1, 29, 21, 33, -1, -1, -1, 29, -1, -1, -1, -1, -1, -1, 3, -1, 20, -1, 46, 6, -1, -1, -1, -1, -1, -1, 30, -1, 44, -1, 8, -1, -1, 2, -1, -1, -1, -1, -1, -1, -1, -1, -1, -1, 27, 13, -1, 25, -1]\n",
      "=====================\n",
      "[-1, -1, 27, 13, -1, 25, -1]\n",
      "[-1, -1, -1, -1, -1, -1, -1]\n",
      "[44, -1, 8, -1, -1, 2, -1]\n",
      "[-1, 30, -1, -1, -1, -1, -1]\n",
      "[3, -1, 20, -1, 46, 6, -1]\n",
      "[-1, -1, -1, -1, -1, -1, 29]\n",
      "[-1, 29, 21, 33, -1, -1, -1]\n"
     ]
    }
   ],
   "source": [
    "from utils.show import show2D\n",
    "\n",
    "board = [[-1,-1,-1,-1,-1,-1],[-1,-1,-1,-1,-1,-1],[-1,-1,-1,-1,-1,-1],[-1,35,-1,-1,13,-1],[-1,-1,-1,-1,-1,-1],[-1,15,-1,-1,-1,-1]]\n",
    "board = [[-1,-1,27,13,-1,25,-1],[-1,-1,-1,-1,-1,-1,-1],[44,-1,8,-1,-1,2,-1],[-1,30,-1,-1,-1,-1,-1],[3,-1,20,-1,46,6,-1],[-1,-1,-1,-1,-1,-1,29],[-1,29,21,33,-1,-1,-1]]\n",
    "row = [0]\n",
    "n = len(board)\n",
    "k = 0\n",
    "for i in range(n-1, -1, -1):\n",
    "    if k % 2 == 0:\n",
    "        row += board[i]\n",
    "    else:\n",
    "        row += board[i][::-1]\n",
    "    k += 1\n",
    "\n",
    "print(row)\n",
    "\n",
    "board = [[-1,-1,27,13,-1,25,-1],[-1,-1,-1,-1,-1,-1,-1],[44,-1,8,-1,-1,2,-1],[-1,30,-1,-1,-1,-1,-1],[3,-1,20,-1,46,6,-1],[-1,-1,-1,-1,-1,-1,29],[-1,29,21,33,-1,-1,-1]]\n",
    "show2D(board)"
   ]
  },
  {
   "cell_type": "code",
   "execution_count": 3,
   "metadata": {},
   "outputs": [
    {
     "data": {
      "text/plain": [
       "(0, 0)"
      ]
     },
     "execution_count": 3,
     "metadata": {},
     "output_type": "execute_result"
    }
   ],
   "source": [
    "m, n = 6, 6\n",
    "def num2ij(num):\n",
    "    i = (num-1) // m\n",
    "    j = (num-1) % m\n",
    "    return i, j\n",
    "\n",
    "num2ij(1)"
   ]
  }
 ],
 "metadata": {
  "kernelspec": {
   "display_name": "Python 3",
   "language": "python",
   "name": "python3"
  },
  "language_info": {
   "codemirror_mode": {
    "name": "ipython",
    "version": 3
   },
   "file_extension": ".py",
   "mimetype": "text/x-python",
   "name": "python",
   "nbconvert_exporter": "python",
   "pygments_lexer": "ipython3",
   "version": "3.12.3"
  }
 },
 "nbformat": 4,
 "nbformat_minor": 2
}

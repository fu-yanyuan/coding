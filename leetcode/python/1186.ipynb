{
 "cells": [
  {
   "cell_type": "code",
   "execution_count": 3,
   "metadata": {},
   "outputs": [
    {
     "name": "stdout",
     "output_type": "stream",
     "text": [
      "[-1, -1, -1, -1]\n",
      "[0, -1, -1, -1]\n"
     ]
    },
    {
     "data": {
      "text/plain": [
       "-1"
      ]
     },
     "execution_count": 3,
     "metadata": {},
     "output_type": "execute_result"
    }
   ],
   "source": [
    "def maximumSum(arr):\n",
    "    n = len(arr)\n",
    "    if n == 1:\n",
    "        return arr[0]\n",
    "\n",
    "    dp0 = [0] * n  # dp[i] = maximual sum of subarray that ends at i and without deleting operation\n",
    "    dp1 = [0] * n  # dp[i] = maximual sum of subarray that ends at i and already operated one deletion\n",
    "\n",
    "    # init\n",
    "    dp0[0] = arr[0]\n",
    "    dp1[0] = 0\n",
    "    for i in range(1, n):\n",
    "        dp0[i] = max(arr[i], dp0[i-1] + arr[i])\n",
    "        dp1[i] = max(dp1[i-1] + arr[i], dp0[i-1]) # dp1[i-1] + arr[i] => one deletion before, dp0[i-1] => no deletion before and delete arr[i]\n",
    "\n",
    "    print(dp0)\n",
    "    print(dp1)\n",
    "    \n",
    "    return max(max(dp0), max(dp1[1:]))  # dp1[0] is a empty subarray\n",
    "\n",
    "arr = [-1,-1,-1,-1]\n",
    "maximumSum(arr)"
   ]
  }
 ],
 "metadata": {
  "kernelspec": {
   "display_name": "Python 3",
   "language": "python",
   "name": "python3"
  },
  "language_info": {
   "codemirror_mode": {
    "name": "ipython",
    "version": 3
   },
   "file_extension": ".py",
   "mimetype": "text/x-python",
   "name": "python",
   "nbconvert_exporter": "python",
   "pygments_lexer": "ipython3",
   "version": "3.12.2"
  }
 },
 "nbformat": 4,
 "nbformat_minor": 2
}

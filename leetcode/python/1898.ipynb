{
 "cells": [
  {
   "cell_type": "code",
   "execution_count": 14,
   "metadata": {},
   "outputs": [
    {
     "name": "stdout",
     "output_type": "stream",
     "text": [
      "{12} True\n",
      "{12, 5} True\n",
      "3 3\n"
     ]
    },
    {
     "data": {
      "text/plain": [
       "2"
      ]
     },
     "execution_count": 14,
     "metadata": {},
     "output_type": "execute_result"
    }
   ],
   "source": [
    "# let's use standard bisect_left or bisect_right\n",
    "\n",
    "def maximumRemovals(s, p, removable):\n",
    "    def isSubsequence(s, p, removed):\n",
    "        '''\n",
    "        return true if p is a subsequence of s\n",
    "        '''\n",
    "        m, n = len(s), len(p)\n",
    "        j = 0\n",
    "        for i in range(n):\n",
    "            while (j in removed) or (j < m and s[j] != p[i]):\n",
    "                j += 1\n",
    "            if j == m:\n",
    "                return False\n",
    "            j += 1\n",
    "        return True\n",
    "\n",
    "\n",
    "    # for each value in [0, len(removable)], the result of isSubsequence() will be\n",
    "    # [True, .., True, False, ..., False], we want to find the first i that isSubsequence is false\n",
    "    # if we treat target as True,  true = arr[:i] <= target(true) < arr[i:] = False, this is bisect_right\n",
    "    # if we treat target as False, true = arr[:i] < target(false) <= arr[i:] = False, this is biset_left\n",
    "    # which one?\n",
    "    \n",
    "    # bisect_right\n",
    "    l, r = 0, len(removable)+1  # this is very important. \n",
    "    while l < r:\n",
    "        m = (l + r) // 2\n",
    "        removed = set(removable[:m])\n",
    "        print(removed, isSubsequence(s, p, removed))\n",
    "        if isSubsequence(s, p, removed):\n",
    "            l = m + 1\n",
    "        else:\n",
    "            r = m\n",
    "    print(l, r)\n",
    "    return l - 1\n",
    "\n",
    "    # # bisect_left\n",
    "    # l, r = 0, len(removable)\n",
    "    # while l < r:\n",
    "    #     m = (l + r) // 2\n",
    "    #     removed = set(removable[:m])\n",
    "    #     if isSubsequence(s, p, removed) == True:\n",
    "    #         l = m + 1\n",
    "    #     else:\n",
    "    #         r = m\n",
    "    \n",
    "    # return l - 1\n",
    "\n",
    "s = \"abcacb\"\n",
    "p = \"ab\"\n",
    "removable = [3,1,0]\n",
    "\n",
    "s = \"abcbddddd\"\n",
    "p = \"abcd\"\n",
    "removable = [3,2,1,4,5,6]\n",
    "\n",
    "s = \"abcab\"\n",
    "p = \"abc\"\n",
    "removable = [0,1,2,3,4]\n",
    "\n",
    "s = \"qlevcvgzfpryiqlwy\"\n",
    "p = \"qlecfqlw\"\n",
    "removable = [12,5]\n",
    "\n",
    "maximumRemovals(s, p, removable)"
   ]
  },
  {
   "cell_type": "code",
   "execution_count": 11,
   "metadata": {},
   "outputs": [
    {
     "name": "stdout",
     "output_type": "stream",
     "text": [
      "True\n",
      "True\n",
      "True\n"
     ]
    }
   ],
   "source": [
    "def isSubsequence(s, p, removed):\n",
    "    '''\n",
    "    return true if p is a subsequence of s\n",
    "    '''\n",
    "    m, n = len(s), len(p)\n",
    "    j = 0\n",
    "    for i in range(n):\n",
    "        while (j in removed) or (j < m and s[j] != p[i]):\n",
    "            j += 1\n",
    "        if j == m:\n",
    "            return False\n",
    "        j += 1\n",
    "    return True\n",
    "\n",
    "print(isSubsequence(\"qlevcvgzfpryiqlwy\", \"qlecfqlw\", set()))\n",
    "print(isSubsequence(\"qlevcvgzfpryiqlwy\", \"qlecfqlw\", set({12})))\n",
    "print(isSubsequence(\"qlevcvgzfpryiqlwy\", \"qlecfqlw\", set({12, 5})))\n"
   ]
  },
  {
   "cell_type": "code",
   "execution_count": 13,
   "metadata": {},
   "outputs": [
    {
     "name": "stdout",
     "output_type": "stream",
     "text": [
      "2 3\n",
      "3 3\n",
      "3\n"
     ]
    }
   ],
   "source": [
    "arr = [1,1,1,1,0,0,0]\n",
    "arr = [1,1,1]\n",
    "l, r = 0, len(arr)\n",
    "while l < r:\n",
    "    m = (l+r) // 2\n",
    "    if arr[m] == 1:\n",
    "        l = m + 1\n",
    "    else:\n",
    "        r = m\n",
    "    print(l, r)\n",
    "print(l)\n"
   ]
  },
  {
   "cell_type": "code",
   "execution_count": 3,
   "metadata": {},
   "outputs": [
    {
     "name": "stdout",
     "output_type": "stream",
     "text": [
      "0 2 1\n",
      "2 2 2\n"
     ]
    },
    {
     "data": {
      "text/plain": [
       "2"
      ]
     },
     "execution_count": 3,
     "metadata": {},
     "output_type": "execute_result"
    }
   ],
   "source": [
    "def maximumRemovals(s, p, removable):\n",
    "    def isSubsequence(s, p, removed):\n",
    "        '''\n",
    "        return true if p is a subsequence of s\n",
    "        '''\n",
    "        m, n = len(s), len(p)\n",
    "        j = 0\n",
    "        for i in range(n):\n",
    "            while (j in removed) or (j < m and s[j] != p[i]):\n",
    "                j += 1\n",
    "            if j == m:\n",
    "                return False\n",
    "            j += 1\n",
    "        return True\n",
    "\n",
    "    l, r = 0, len(removable)\n",
    "    while l <= r:\n",
    "        m = (l + r) // 2\n",
    "        print(l, r, m)\n",
    "        removed = set(removable[:m])\n",
    "        if not isSubsequence(s, p, removed):\n",
    "            r = m - 1\n",
    "        else:\n",
    "            l = m + 1\n",
    "    \n",
    "    return r\n",
    "\n",
    "s = \"abcacb\"\n",
    "p = \"ab\"\n",
    "removable = [3,1,0]\n",
    "\n",
    "s = \"abcbddddd\"\n",
    "p = \"abcd\"\n",
    "removable = [3,2,1,4,5,6]\n",
    "\n",
    "s = \"abcab\"\n",
    "p = \"abc\"\n",
    "removable = [0,1,2,3,4]\n",
    "\n",
    "s = \"qlevcvgzfpryiqlwy\"\n",
    "p = \"qlecfqlw\"\n",
    "removable = [12,5]\n",
    "\n",
    "maximumRemovals(s, p, removable)"
   ]
  }
 ],
 "metadata": {
  "kernelspec": {
   "display_name": "Python 3",
   "language": "python",
   "name": "python3"
  },
  "language_info": {
   "codemirror_mode": {
    "name": "ipython",
    "version": 3
   },
   "file_extension": ".py",
   "mimetype": "text/x-python",
   "name": "python",
   "nbconvert_exporter": "python",
   "pygments_lexer": "ipython3",
   "version": "3.12.3"
  }
 },
 "nbformat": 4,
 "nbformat_minor": 2
}

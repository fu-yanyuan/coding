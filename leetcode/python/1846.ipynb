{
 "cells": [
  {
   "cell_type": "code",
   "execution_count": null,
   "metadata": {},
   "outputs": [],
   "source": [
    "def maximumElementAfterDecrementingAndRearranging(arr):\n",
    "    arr.sort()\n",
    "    arr[0] = 1\n",
    "    for i in range(1, len(arr)):\n",
    "        if arr[i] - arr[i-1] > 1:\n",
    "            arr[i] = arr[i-1] + 1\n",
    "    \n",
    "    return arr[-1]"
   ]
  }
 ],
 "metadata": {
  "language_info": {
   "name": "python"
  }
 },
 "nbformat": 4,
 "nbformat_minor": 2
}

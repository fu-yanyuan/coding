{
 "cells": [
  {
   "cell_type": "code",
   "execution_count": null,
   "metadata": {},
   "outputs": [],
   "source": [
    "class Solution:\n",
    "    def maxScore(self, nums: List[int]) -> int:\n",
    "        n = len(nums)\n",
    "\n",
    "        prefixGCD = [0] * (n+1)\n",
    "        prefixLCM = [1] * (n+1)\n",
    "        for i in range(n):\n",
    "            prefixGCD[i+1] = math.gcd(prefixGCD[i], nums[i])\n",
    "            prefixLCM[i+1] = math.lcm(prefixLCM[i], nums[i])\n",
    "        # print(prefixGCD)\n",
    "        # print(prefixLCM)\n",
    "\n",
    "        # consider all \n",
    "        ans = prefixGCD[-1] * prefixLCM[-1]\n",
    "        suffixGCD, suffixLCM = 0, 1\n",
    "        for i in range(n-1, -1, -1):\n",
    "            # don't consider num[i]\n",
    "            g = gcd(prefixGCD[i], suffixGCD)\n",
    "            l = lcm(prefixLCM[i], suffixLCM)\n",
    "            ans = max(ans, g * l)\n",
    "\n",
    "            suffixGCD = gcd(suffixGCD, nums[i])\n",
    "            suffixLCM = lcm(suffixLCM, nums[i])\n",
    "        \n",
    "        return ans\n",
    "            \n",
    "            \n",
    "            "
   ]
  },
  {
   "cell_type": "code",
   "execution_count": 17,
   "metadata": {},
   "outputs": [
    {
     "data": {
      "text/plain": [
       "9"
      ]
     },
     "execution_count": 17,
     "metadata": {},
     "output_type": "execute_result"
    }
   ],
   "source": [
    "import math\n",
    "\n",
    "def maxScore(nums):\n",
    "    n = len(nums)\n",
    "    if n == 1:\n",
    "        return nums[0] * nums[0]\n",
    "\n",
    "    prefixGCD = [0] * n\n",
    "    prefixLCM = [1] * n\n",
    "    for i in range(n-1):\n",
    "        prefixGCD[i+1] = math.gcd(prefixGCD[i], nums[i])\n",
    "        prefixLCM[i+1] = math.lcm(prefixLCM[i], nums[i])\n",
    "    print(prefixGCD)\n",
    "    print(prefixLCM)\n",
    "    \n",
    "    suffixGCD = [0] * n\n",
    "    suffixLCM = [1] * n\n",
    "    for i in range(n-2, -1, -1):\n",
    "        suffixGCD[i] = math.gcd(suffixGCD[i+1], nums[i+1])\n",
    "        suffixLCM[i] = math.lcm(suffixLCM[i+1], nums[i+1])\n",
    "    print(suffixGCD)\n",
    "    print(suffixLCM)\n",
    "\n",
    "    ans = 0\n",
    "    for i in range(n):\n",
    "        g = math.gcd(prefixGCD[i], suffixGCD[i])\n",
    "        l = math.lcm(prefixLCM[i], suffixLCM[i])\n",
    "        ans = max(ans, l * g)\n",
    "    return ans\n",
    "    \n",
    "nums = [2,4,8,16]\n",
    "\n",
    "nums = [3]\n",
    "maxScore(nums)"
   ]
  },
  {
   "cell_type": "code",
   "execution_count": 12,
   "metadata": {},
   "outputs": [
    {
     "name": "stdout",
     "output_type": "stream",
     "text": [
      "[0, 2, 2, 2, 2]\n",
      "[1, 2, 4, 8, 16]\n",
      "[2, 4, 8, 16, 0]\n",
      "[2, 4, 8, 16, 1]\n"
     ]
    },
    {
     "data": {
      "text/plain": [
       "32"
      ]
     },
     "execution_count": 12,
     "metadata": {},
     "output_type": "execute_result"
    }
   ],
   "source": [
    "import math\n",
    "\n",
    "def maxScore(nums):\n",
    "    n = len(nums)\n",
    "    prefixGCD = [0] * (n+1)\n",
    "    prefixLCM = [1] * (n+1)\n",
    "    for i in range(n):\n",
    "        prefixGCD[i+1] = math.gcd(prefixGCD[i], nums[i])\n",
    "        prefixLCM[i+1] = math.lcm(prefixLCM[i], nums[i])\n",
    "    print(prefixGCD)\n",
    "    print(prefixLCM)\n",
    "    \n",
    "    suffixGCD = [0] * (n+1)\n",
    "    suffixLCM = [1] * (n+1)\n",
    "    for i in range(n-1, -1, -1):\n",
    "        suffixGCD[i] = math.gcd(suffixGCD[i], nums[i])\n",
    "        suffixLCM[i] = math.lcm(suffixLCM[i], nums[i])\n",
    "    print(suffixGCD)\n",
    "    print(suffixLCM)\n",
    "\n",
    "    ans = 0\n",
    "    for i in range(n+1):\n",
    "        g = math.gcd(prefixGCD[i], suffixGCD[i])\n",
    "        l = math.lcm(prefixLCM[i], suffixLCM[i])\n",
    "        ans = max(ans, l * g)\n",
    "    return ans\n",
    "    \n",
    "nums = [2,4,8,16]\n",
    "\n",
    "# nums = [3]\n",
    "maxScore(nums)"
   ]
  },
  {
   "cell_type": "code",
   "execution_count": null,
   "metadata": {},
   "outputs": [],
   "source": []
  }
 ],
 "metadata": {
  "kernelspec": {
   "display_name": "Python 3",
   "language": "python",
   "name": "python3"
  },
  "language_info": {
   "codemirror_mode": {
    "name": "ipython",
    "version": 3
   },
   "file_extension": ".py",
   "mimetype": "text/x-python",
   "name": "python",
   "nbconvert_exporter": "python",
   "pygments_lexer": "ipython3",
   "version": "3.12.2"
  }
 },
 "nbformat": 4,
 "nbformat_minor": 2
}

{
 "cells": [
  {
   "cell_type": "code",
   "execution_count": null,
   "metadata": {},
   "outputs": [],
   "source": [
    "import math\n",
    "\n",
    "def waysToReachStair(k):\n",
    "    ans = 0\n",
    "\n",
    "    jumps = 0\n",
    "    while True:\n",
    "        maxReach = 2 ** jumps\n",
    "        maxBackwards = jumps + 1\n",
    "\n",
    "        if maxReach - maxBackwards > k:\n",
    "            return ans\n",
    "    \n",
    "        if k <= maxReach and k >= maxReach - maxBackwards:\n",
    "            ans += math.comb(maxBackwards, maxReach - k)\n",
    "        \n",
    "        jumps += 1"
   ]
  }
 ],
 "metadata": {
  "language_info": {
   "name": "python"
  }
 },
 "nbformat": 4,
 "nbformat_minor": 2
}

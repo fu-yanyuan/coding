{
 "cells": [
  {
   "cell_type": "code",
   "execution_count": 34,
   "metadata": {},
   "outputs": [
    {
     "data": {
      "text/plain": [
       "7"
      ]
     },
     "execution_count": 34,
     "metadata": {},
     "output_type": "execute_result"
    }
   ],
   "source": [
    "from utils.show import show2D\n",
    "\n",
    "def lengthAfterTransformations(s, t, nums):\n",
    "    MOD = 10**9 + 7\n",
    "    def matrix_mul(A, B):\n",
    "        \"\"\"\n",
    "        M is a matrix\n",
    "        return A * B\n",
    "        \"\"\"\n",
    "        return [[sum( x * y for x, y in zip(row, col)) % MOD for col in zip(*B)] for row in A]\n",
    "    \n",
    "    def pow_matrix(A, t):\n",
    "        \"\"\"\n",
    "        return A ^ t\n",
    "        \"\"\"\n",
    "        n = len(A)\n",
    "        res = [[0] * n for _ in range(n)]\n",
    "        for i in range(n):\n",
    "            res[i][i] = 1\n",
    "        tmp = A\n",
    "        while t:\n",
    "            if t & 1 != 0:\n",
    "                res = matrix_mul(tmp, res)\n",
    "            tmp = matrix_mul(tmp, tmp)\n",
    "            t = t >> 1\n",
    "        return res\n",
    "    \n",
    "    # contruct the matrix\n",
    "    matrix = [[0] * 26 for _ in range(26)]\n",
    "    for i in range(len(nums)):\n",
    "        for j in range(i+1, i+nums[i]+1):\n",
    "            matrix[j % 26][i] = 1\n",
    "\n",
    "    # compute matrix ^ t\n",
    "    matrix_t = pow_matrix(matrix, t)\n",
    "    # show2D(matrix_t)\n",
    "\n",
    "    # construct v0\n",
    "    v0 = [[0] for _ in range(26)]\n",
    "    for ch in s:\n",
    "        v0[ord(ch) - ord('a')][0] += 1\n",
    "\n",
    "    res_vector = matrix_mul(matrix_t, v0)\n",
    "    # show2D(res_vector)\n",
    "\n",
    "    ans = 0\n",
    "    for i in range(26):\n",
    "        ans += res_vector[i][0]\n",
    "    return ans\n",
    "    \n",
    "\n",
    "# s = \"azbk\"\n",
    "# t = 1\n",
    "# nums = [2,2,2,2,2,2,2,2,2,2,2,2,2,2,2,2,2,2,2,2,2,2,2,2,2,2]\n",
    "\n",
    "s = \"abcyy\"\n",
    "t = 2\n",
    "nums = [1,1,1,1,1,1,1,1,1,1,1,1,1,1,1,1,1,1,1,1,1,1,1,1,1,2]\n",
    "\n",
    "lengthAfterTransformations(s, t, nums)\n",
    "        \n",
    "        "
   ]
  },
  {
   "cell_type": "code",
   "execution_count": 2,
   "metadata": {},
   "outputs": [
    {
     "name": "stdout",
     "output_type": "stream",
     "text": [
      "[(1, 1), (2, 2), (3, 3), (4, 4)]\n"
     ]
    }
   ],
   "source": [
    "a = [1,2,3,4]\n",
    "b = [1,2,3,4]\n",
    "print(list(zip(a, b)))"
   ]
  }
 ],
 "metadata": {
  "kernelspec": {
   "display_name": "Python 3",
   "language": "python",
   "name": "python3"
  },
  "language_info": {
   "codemirror_mode": {
    "name": "ipython",
    "version": 3
   },
   "file_extension": ".py",
   "mimetype": "text/x-python",
   "name": "python",
   "nbconvert_exporter": "python",
   "pygments_lexer": "ipython3",
   "version": "3.12.2"
  }
 },
 "nbformat": 4,
 "nbformat_minor": 2
}

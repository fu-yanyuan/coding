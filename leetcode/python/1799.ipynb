{
 "cells": [
  {
   "cell_type": "markdown",
   "metadata": {},
   "source": [
    "# 状态压缩"
   ]
  },
  {
   "cell_type": "code",
   "execution_count": 19,
   "metadata": {},
   "outputs": [
    {
     "data": {
      "text/plain": [
       "14"
      ]
     },
     "execution_count": 19,
     "metadata": {},
     "output_type": "execute_result"
    }
   ],
   "source": [
    "import math\n",
    "from utils.show import show2D\n",
    "from functools import cache\n",
    "\n",
    "def maxScore(nums):\n",
    "    # preprocessing\n",
    "    n = len(nums)\n",
    "    gcdMatrix = [[0] * n for _ in range(n)]\n",
    "    for i in range(n):\n",
    "        for j in range(n):\n",
    "            gcdMatrix[i][j] = math.gcd(nums[i], nums[j])\n",
    "    # show2D(gcdMatrix)\n",
    "\n",
    "    # returnVal = (1 << n) - 1\n",
    "    @cache\n",
    "    def dp(i, status):\n",
    "        if i > n // 2:\n",
    "            return 0\n",
    "\n",
    "        pos = []\n",
    "        for j in range(n):\n",
    "            if (1 << j) & status == 0:\n",
    "                pos.append(j)\n",
    "\n",
    "        m = len(pos)\n",
    "        score = 0\n",
    "        for j in range(m - 1):\n",
    "            for k in range(j+1, m):\n",
    "                nxtStatus = status + (1 << pos[j]) + (1 << pos[k])\n",
    "                tmp = dp(i+1, nxtStatus) + i * gcdMatrix[pos[j]][pos[k]]\n",
    "                score = max(score, tmp)\n",
    "        return score\n",
    "    \n",
    "    return dp(1, 0)\n",
    "\n",
    "nums = [3,4,6,8]\n",
    "nums = [1,2,3,4,5,6]\n",
    "maxScore(nums)"
   ]
  },
  {
   "cell_type": "code",
   "execution_count": 15,
   "metadata": {},
   "outputs": [
    {
     "name": "stdout",
     "output_type": "stream",
     "text": [
      "[0, 1, 1, 1, 1, 1]\n",
      "[0, 0, 1, 2, 1, 2]\n",
      "[0, 0, 0, 1, 1, 3]\n",
      "[0, 0, 0, 0, 1, 2]\n",
      "[0, 0, 0, 0, 0, 1]\n",
      "[0, 0, 0, 0, 0, 0]\n"
     ]
    }
   ],
   "source": [
    "from utils.gcd import gcd\n",
    "\n",
    "gcd(6, 8)\n",
    "\n",
    "\n",
    "nums = [1,2,3,4,5,6] # 14\n",
    "n = len(nums)\n",
    "dp = [[0] * n for _ in range(n)]\n",
    "\n",
    "for i in range(n):\n",
    "    for j in range(i+1, n):\n",
    "        dp[i][j] = gcd(nums[i], nums[j])\n",
    "    # dp[i][i] = float('inf')\n",
    "\n",
    "for row in dp:\n",
    "    print(row)\n",
    "\n",
    "\n",
    "#              a     b      a*b          a*c\n",
    "#              3     5      15            21"
   ]
  },
  {
   "cell_type": "code",
   "execution_count": null,
   "metadata": {},
   "outputs": [],
   "source": [
    "from utils.gcd import gcd\n",
    "\n",
    "def maxScore(n):\n",
    "    n = n * 2\n",
    "    # create gcd dict\n",
    "    gcd_dict = {}\n",
    "    for a in range(1, n):\n",
    "        for b in range(a+1, n+1):\n",
    "            gcd_dict[(a, b)] = gcd(a, b)\n",
    "\n",
    "    visited = [0] * n\n",
    "    nums = list(range(1, n+1))\n",
    "    memo = {():0}\n",
    "\n",
    "    def dfs(nums):\n",
    "        nums_tuple = tuple(nums)\n",
    "        if nums_tuple in memo:\n",
    "            return memo(nums_tuple)\n",
    "        \n",
    "        m = len(nums)\n",
    "        score = 0\n",
    "        for i in range(m-1):\n",
    "            for j in range(i+1, m):\n",
    "                curScore = gcd_dict[(nums[i], nums[j])]\n",
    "                next_nums = sorted(list)"
   ]
  },
  {
   "cell_type": "code",
   "execution_count": 20,
   "metadata": {},
   "outputs": [
    {
     "name": "stdout",
     "output_type": "stream",
     "text": [
      "hi\n",
      "hi\n"
     ]
    },
    {
     "data": {
      "text/plain": [
       "4"
      ]
     },
     "execution_count": 20,
     "metadata": {},
     "output_type": "execute_result"
    }
   ],
   "source": [
    "from functools import cache\n",
    "\n",
    "@cache\n",
    "def test(nums):\n",
    "    print('hi')\n",
    "    return len(nums)\n",
    "\n",
    "test((1,2,3,4))\n",
    "test((1,2,3))\n",
    "test((1,2,3,4))"
   ]
  },
  {
   "cell_type": "code",
   "execution_count": 6,
   "metadata": {},
   "outputs": [
    {
     "name": "stdout",
     "output_type": "stream",
     "text": [
      "16383\n",
      "0b11111111111111\n",
      "0b11111111111111\n"
     ]
    }
   ],
   "source": [
    "# 状态压缩 dp\n",
    "n = 14\n",
    "s = 2**14 - 1\n",
    "print(s)\n",
    "print(bin(s))\n",
    "\n",
    "print( bin((1 << 14) - 1))"
   ]
  }
 ],
 "metadata": {
  "kernelspec": {
   "display_name": "Python 3",
   "language": "python",
   "name": "python3"
  },
  "language_info": {
   "codemirror_mode": {
    "name": "ipython",
    "version": 3
   },
   "file_extension": ".py",
   "mimetype": "text/x-python",
   "name": "python",
   "nbconvert_exporter": "python",
   "pygments_lexer": "ipython3",
   "version": "3.12.3"
  }
 },
 "nbformat": 4,
 "nbformat_minor": 2
}

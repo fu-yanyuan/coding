{
 "cells": [
  {
   "cell_type": "code",
   "execution_count": 26,
   "metadata": {},
   "outputs": [
    {
     "data": {
      "text/plain": [
       "[9, 8, 7, 6, 5, 4, 3, 2, 1, 0]"
      ]
     },
     "execution_count": 26,
     "metadata": {},
     "output_type": "execute_result"
    }
   ],
   "source": [
    "# from functools import cache\n",
    "\n",
    "def sortJumbles(mapping, nums):\n",
    "    # @cache\n",
    "    def f(num):\n",
    "        if num == 0: \n",
    "            return mapping[0]\n",
    "\n",
    "        tmp = 0\n",
    "        scale = 1\n",
    "        while num:\n",
    "            num, r = divmod(num, 10)\n",
    "            tmp += mapping[r] * scale\n",
    "            scale *= 10\n",
    "        return tmp\n",
    "    \n",
    "    nums.sort(key=f)\n",
    "    return nums\n",
    "\n",
    "mapping = [9,8,7,6,5,4,3,2,1,0]\n",
    "nums    = [0,1,2,3,4,5,6,7,8,9]\n",
    "\n",
    "sortJumbles(mapping, nums)"
   ]
  },
  {
   "cell_type": "code",
   "execution_count": 25,
   "metadata": {},
   "outputs": [
    {
     "name": "stdout",
     "output_type": "stream",
     "text": [
      "[9, 8, 7, 6, 5, 4, 3, 2, 1, 0]\n",
      "[(0, 9), (1, 8), (2, 7), (3, 6), (4, 5), (5, 4), (6, 3), (7, 2), (8, 1), (9, 0)]\n"
     ]
    },
    {
     "data": {
      "text/plain": [
       "[9, 8, 7, 6, 5, 4, 3, 2, 1, 0]"
      ]
     },
     "execution_count": 25,
     "metadata": {},
     "output_type": "execute_result"
    }
   ],
   "source": [
    "def sortJumbles(mapping, nums):\n",
    "    key = []\n",
    "\n",
    "    for num in nums:\n",
    "        if num == 0:\n",
    "            key.append(mapping[0])\n",
    "            continue\n",
    "        tmp = 0\n",
    "        scale = 1 # 10^i\n",
    "        while num:\n",
    "            num, r = divmod(num, 10)\n",
    "            tmp += scale * mapping[r]\n",
    "            scale *= 10\n",
    "        \n",
    "        key.append(tmp)\n",
    "    print(key)\n",
    "            \n",
    "\n",
    "    order = sorted(zip(key, nums), key=lambda x:x[0])\n",
    "    print(order)\n",
    "    return [o[1] for o in order]\n",
    "\n",
    "mapping = [8,9,4,0,2,1,3,5,7,6]\n",
    "nums = [991,338,38]\n",
    "\n",
    "# mapping = [0,1,2,3,4,5,6,7,8,9]\n",
    "# nums = [789,456,123]\n",
    "\n",
    "mapping = [9,8,7,6,5,4,3,2,1,0]\n",
    "nums    = [0,1,2,3,4,5,6,7,8,9]\n",
    "\n",
    "sortJumbles(mapping, nums)"
   ]
  },
  {
   "cell_type": "code",
   "execution_count": 17,
   "metadata": {},
   "outputs": [
    {
     "name": "stdout",
     "output_type": "stream",
     "text": [
      "(34, 5)\n"
     ]
    }
   ],
   "source": [
    "print(divmod(345, 10))"
   ]
  }
 ],
 "metadata": {
  "kernelspec": {
   "display_name": "Python 3",
   "language": "python",
   "name": "python3"
  },
  "language_info": {
   "codemirror_mode": {
    "name": "ipython",
    "version": 3
   },
   "file_extension": ".py",
   "mimetype": "text/x-python",
   "name": "python",
   "nbconvert_exporter": "python",
   "pygments_lexer": "ipython3",
   "version": "3.12.3"
  }
 },
 "nbformat": 4,
 "nbformat_minor": 2
}

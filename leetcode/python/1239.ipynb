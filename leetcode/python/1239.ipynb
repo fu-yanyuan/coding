{
 "cells": [
  {
   "cell_type": "markdown",
   "metadata": {},
   "source": [
    "# backtracking"
   ]
  },
  {
   "cell_type": "code",
   "execution_count": 3,
   "metadata": {},
   "outputs": [
    {
     "name": "stdout",
     "output_type": "stream",
     "text": [
      "0\n",
      "1\n",
      "2\n",
      "3\n",
      "3\n",
      "2\n",
      "3\n",
      "3\n",
      "1\n",
      "2\n",
      "3\n",
      "2\n",
      "3\n"
     ]
    },
    {
     "data": {
      "text/plain": [
       "4"
      ]
     },
     "execution_count": 3,
     "metadata": {},
     "output_type": "execute_result"
    }
   ],
   "source": [
    "def maxLength(arr):\n",
    "    pool = set()\n",
    "    n = len(arr)\n",
    "\n",
    "    ans = 0\n",
    "    def dfs(i):\n",
    "        print(i)\n",
    "        if i == n:\n",
    "            nonlocal ans\n",
    "            ans = max(ans, len(pool))\n",
    "            return\n",
    "        # don't choose i-th str\n",
    "        dfs(i+1)\n",
    "\n",
    "        # choose i-th str if possible\n",
    "        for ch in arr[i]:\n",
    "            if ch in pool:\n",
    "                return\n",
    "                \n",
    "        for ch in arr[i]:\n",
    "            pool.add(ch)\n",
    "        \n",
    "        dfs(i+1)\n",
    "        # remove \n",
    "        for ch in arr[i]:\n",
    "            pool.remove(ch)\n",
    "        \n",
    "        return\n",
    "    \n",
    "    dfs(0)\n",
    "    return ans\n",
    "\n",
    "arr = [\"un\",\"iq\",\"ue\"]\n",
    "maxLength(arr)"
   ]
  }
 ],
 "metadata": {
  "kernelspec": {
   "display_name": "Python 3",
   "language": "python",
   "name": "python3"
  },
  "language_info": {
   "codemirror_mode": {
    "name": "ipython",
    "version": 3
   },
   "file_extension": ".py",
   "mimetype": "text/x-python",
   "name": "python",
   "nbconvert_exporter": "python",
   "pygments_lexer": "ipython3",
   "version": "3.12.2"
  }
 },
 "nbformat": 4,
 "nbformat_minor": 2
}

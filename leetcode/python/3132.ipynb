{
 "cells": [
  {
   "cell_type": "code",
   "execution_count": 4,
   "metadata": {},
   "outputs": [
    {
     "data": {
      "text/plain": [
       "2"
      ]
     },
     "execution_count": 4,
     "metadata": {},
     "output_type": "execute_result"
    }
   ],
   "source": [
    "def minimumAddedInteger(nums1, nums2):\n",
    "    nums1.sort()\n",
    "    nums2.sort()\n",
    "    n = len(nums2)\n",
    "\n",
    "    def check(arr1, arr2, k):\n",
    "        prev, cur = 0, 1\n",
    "        p2 = 1\n",
    "\n",
    "        while p2 < n:\n",
    "            delta = arr2[p2] - arr2[p2-1] - arr1[cur] + arr1[prev]\n",
    "            if delta < 0:\n",
    "                return False\n",
    "            elif delta > 0:\n",
    "                if k == 0:\n",
    "                    return False\n",
    "                k -= 1\n",
    "                cur += 1\n",
    "            else:\n",
    "                p2 += 1\n",
    "                prev, cur = cur, cur + 1\n",
    "        return True\n",
    "\n",
    "    # check in the reverse order\n",
    "    if check(nums1[2:], nums2, 0):\n",
    "        return nums2[0] - nums1[2]\n",
    "    elif check(nums1[1:], nums2, 1):\n",
    "        return nums2[0] - nums1[1]\n",
    "    else:\n",
    "        return nums2[0] - nums1[0]\n",
    "\n",
    "nums1 = [4,20,16,12,8]\n",
    "nums2 = [14,18,10]\n",
    "\n",
    "nums1 = [3,5,5,3]\n",
    "nums2 = [7,7]\n",
    "minimumAddedInteger(nums1, nums2)\n",
    "\n"
   ]
  }
 ],
 "metadata": {
  "kernelspec": {
   "display_name": "Python 3",
   "language": "python",
   "name": "python3"
  },
  "language_info": {
   "codemirror_mode": {
    "name": "ipython",
    "version": 3
   },
   "file_extension": ".py",
   "mimetype": "text/x-python",
   "name": "python",
   "nbconvert_exporter": "python",
   "pygments_lexer": "ipython3",
   "version": "3.12.3"
  }
 },
 "nbformat": 4,
 "nbformat_minor": 2
}

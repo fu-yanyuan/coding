{
 "cells": [
  {
   "cell_type": "code",
   "execution_count": 24,
   "metadata": {},
   "outputs": [
    {
     "data": {
      "text/plain": [
       "'-227/105'"
      ]
     },
     "execution_count": 24,
     "metadata": {},
     "output_type": "execute_result"
    }
   ],
   "source": [
    "import math\n",
    "\n",
    "def fractionAddition(expression):\n",
    "    \n",
    "    def str2fraction(s):\n",
    "        s = s.split('/')\n",
    "        numerator, denominator = s[0], s[1]\n",
    "        return [int(numerator), int(denominator)]\n",
    "    \n",
    "    def add(f1, f2):\n",
    "        denominator = f1[1] * f2[1]\n",
    "        numerator = f1[0] * f2[1] + f1[1] * f2[0]\n",
    "        # reduce\n",
    "        gcd = math.gcd(numerator, denominator)\n",
    "        numerator = numerator // gcd\n",
    "        denominator = denominator // gcd\n",
    "        return [numerator, denominator]\n",
    "\n",
    "    n = len(expression)\n",
    "    cur = [0, 1]\n",
    "    i = 0\n",
    "\n",
    "    while i < n:\n",
    "        ni = i+1\n",
    "        while ni < n and expression[ni] not in {'+', '-'}:\n",
    "            ni += 1\n",
    "        f = str2fraction(expression[i:ni])\n",
    "        cur = add(cur, f)\n",
    "        i = ni\n",
    "    \n",
    "    return f'{cur[0]}/{cur[1]}'\n",
    "\n",
    "expression = \"-5/2+10/3+7/9\"\n",
    "expression = \"3/10+1/5-10/7-5/6-2/5\"\n",
    "\n",
    "# expression = \"3/10+1/5-10/7-5/6-2/5\"\n",
    "fractionAddition(expression)"
   ]
  },
  {
   "cell_type": "code",
   "execution_count": 4,
   "metadata": {},
   "outputs": [
    {
     "name": "stdout",
     "output_type": "stream",
     "text": [
      "['+1', '2']\n",
      "1 2\n"
     ]
    }
   ],
   "source": [
    "s = '+1/2'\n",
    "s = s.split('/')\n",
    "print(s)\n",
    "print(int(s[0]), int(s[1]))"
   ]
  }
 ],
 "metadata": {
  "kernelspec": {
   "display_name": "Python 3",
   "language": "python",
   "name": "python3"
  },
  "language_info": {
   "codemirror_mode": {
    "name": "ipython",
    "version": 3
   },
   "file_extension": ".py",
   "mimetype": "text/x-python",
   "name": "python",
   "nbconvert_exporter": "python",
   "pygments_lexer": "ipython3",
   "version": "3.12.3"
  }
 },
 "nbformat": 4,
 "nbformat_minor": 2
}

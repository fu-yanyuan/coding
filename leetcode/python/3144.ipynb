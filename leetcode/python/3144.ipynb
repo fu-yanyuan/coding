{
 "cells": [
  {
   "cell_type": "code",
   "execution_count": 4,
   "metadata": {},
   "outputs": [
    {
     "data": {
      "text/plain": [
       "3"
      ]
     },
     "execution_count": 4,
     "metadata": {},
     "output_type": "execute_result"
    }
   ],
   "source": [
    "import collections\n",
    "\n",
    "def minimumSubstringsInPartition(s):\n",
    "    def isBalanced(cntr):\n",
    "        return len(set(cntr.values())) == 1\n",
    "\n",
    "    n = len(s)\n",
    "    dp = [i for i in range(n+1)]\n",
    "    dp[0] = 0\n",
    "\n",
    "    # for\n",
    "    for end in range(n):\n",
    "        cntr = collections.defaultdict(int)\n",
    "        for start in range(end, -1, -1):\n",
    "            cntr[s[start]] += 1\n",
    "            if isBalanced(cntr):\n",
    "                dp[end+1] = min(dp[end+1], dp[start]+1)\n",
    "    \n",
    "    return dp[-1]\n",
    "\n",
    "s = 'fabccddg'\n",
    "minimumSubstringsInPartition(s)"
   ]
  }
 ],
 "metadata": {
  "kernelspec": {
   "display_name": "Python 3",
   "language": "python",
   "name": "python3"
  },
  "language_info": {
   "codemirror_mode": {
    "name": "ipython",
    "version": 3
   },
   "file_extension": ".py",
   "mimetype": "text/x-python",
   "name": "python",
   "nbconvert_exporter": "python",
   "pygments_lexer": "ipython3",
   "version": "3.12.3"
  }
 },
 "nbformat": 4,
 "nbformat_minor": 2
}

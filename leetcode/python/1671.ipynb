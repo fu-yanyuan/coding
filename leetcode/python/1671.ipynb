{
 "cells": [
  {
   "cell_type": "code",
   "execution_count": 8,
   "metadata": {},
   "outputs": [
    {
     "name": "stdout",
     "output_type": "stream",
     "text": [
      "[1, 1, 1, 1, 1, 1, 1, 2, 1]\n",
      "[7, 6, 5, 4, 3, 2, 1, 2, 1]\n"
     ]
    },
    {
     "data": {
      "text/plain": [
       "6"
      ]
     },
     "execution_count": 8,
     "metadata": {},
     "output_type": "execute_result"
    }
   ],
   "source": [
    "from bisect import bisect_left\n",
    "\n",
    "def minimumMountainRemovals(nums):\n",
    "    prefixLIS = [] # prefixLIS[i] is the LIS length that ends with nums[i]\n",
    "\n",
    "    arr = []\n",
    "    for num in nums:\n",
    "        idx = bisect_left(arr, num)\n",
    "        prefixLIS.append(idx+1)\n",
    "        if idx == len(arr):\n",
    "            arr.append(num)\n",
    "            continue\n",
    "        arr[idx] = num\n",
    "    print(prefixLIS)\n",
    "\n",
    "    suffixLIS = []\n",
    "\n",
    "    arr = []\n",
    "    for num in nums[::-1]:\n",
    "        idx = bisect_left(arr, num)\n",
    "        suffixLIS.append(idx+1)\n",
    "        if idx == len(arr):\n",
    "            arr.append(num)\n",
    "            continue\n",
    "        arr[idx] = num\n",
    "    suffixLIS = suffixLIS[::-1]\n",
    "    print(suffixLIS)\n",
    "\n",
    "    n = len(nums)\n",
    "    l = 0\n",
    "    for i in range(1, n-1): # summit cannot be the first or last element\n",
    "        if prefixLIS[i] > 1 and suffixLIS[i] > 1:\n",
    "            l = max(l, prefixLIS[i] + suffixLIS[i] - 1)\n",
    "    \n",
    "    return n - l\n",
    "\n",
    "\n",
    "nums = [2,1,1,5,6,2,3,1]\n",
    "\n",
    "nums = [1,3,1]\n",
    "\n",
    "nums = [100,92,89,77,74,66,64,66,64]\n",
    "\n",
    "minimumMountainRemovals(nums)"
   ]
  },
  {
   "cell_type": "code",
   "execution_count": null,
   "metadata": {},
   "outputs": [],
   "source": []
  }
 ],
 "metadata": {
  "kernelspec": {
   "display_name": "Python 3",
   "language": "python",
   "name": "python3"
  },
  "language_info": {
   "codemirror_mode": {
    "name": "ipython",
    "version": 3
   },
   "file_extension": ".py",
   "mimetype": "text/x-python",
   "name": "python",
   "nbconvert_exporter": "python",
   "pygments_lexer": "ipython3",
   "version": "3.12.2"
  }
 },
 "nbformat": 4,
 "nbformat_minor": 2
}

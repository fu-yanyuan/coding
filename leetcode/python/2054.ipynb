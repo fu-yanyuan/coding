{
 "cells": [
  {
   "cell_type": "markdown",
   "metadata": {},
   "source": [
    "## timestamp"
   ]
  },
  {
   "cell_type": "code",
   "execution_count": 22,
   "metadata": {},
   "outputs": [
    {
     "name": "stdout",
     "output_type": "stream",
     "text": [
      "[(10, 0, 53), (51, 0, 16), (61, 1, 16), (63, 0, 45), (83, 1, 53), (87, 1, 45), (97, 0, 32), (100, 1, 32)]\n"
     ]
    },
    {
     "data": {
      "text/plain": [
       "85"
      ]
     },
     "execution_count": 22,
     "metadata": {},
     "output_type": "execute_result"
    }
   ],
   "source": [
    "def maxTwoEvents(events):\n",
    "    timestamp = [] # (t, isEnd, val)\n",
    "    for event in events:\n",
    "        timestamp.append((event[0], 0, event[2]))\n",
    "        timestamp.append((event[1], 1, event[2]))\n",
    "    timestamp.sort()\n",
    "    print(timestamp)\n",
    "\n",
    "    ans = 0\n",
    "    prevMax = 0\n",
    "    for _, isEnd, val in timestamp:\n",
    "        if isEnd:\n",
    "            prevMax = max(prevMax, val)\n",
    "        else:\n",
    "            ans = max(ans, prevMax + val)\n",
    "    return ans\n",
    "\n",
    "\n",
    "events = [[10,83,53],[63,87,45],[97,100,32],[51,61,16]]\n",
    "\n",
    "maxTwoEvents(events)"
   ]
  },
  {
   "cell_type": "markdown",
   "metadata": {},
   "source": [
    "## heap\n",
    "use a heap to store (endtime, val). while curtime > heap[0][0], pop out and compare with prevMax"
   ]
  },
  {
   "cell_type": "code",
   "execution_count": 23,
   "metadata": {},
   "outputs": [
    {
     "data": {
      "text/plain": [
       "85"
      ]
     },
     "execution_count": 23,
     "metadata": {},
     "output_type": "execute_result"
    }
   ],
   "source": [
    "import heapq\n",
    "\n",
    "def maxTwoEvents(events):\n",
    "    events.sort()\n",
    "    minHeap = []\n",
    "\n",
    "    ans = 0\n",
    "    prevMax = 0\n",
    "    for event in events:\n",
    "        while minHeap and event[0] > minHeap[0][0]:\n",
    "            tmp = heapq.heappop(minHeap)\n",
    "            prevMax = max(prevMax, tmp[1])\n",
    "        ans = max(ans, event[2] + prevMax)\n",
    "        heapq.heappush(minHeap, (event[1], event[2]))\n",
    "    \n",
    "    return ans\n",
    "\n",
    "events = [[10,83,53],[63,87,45],[97,100,32],[51,61,16]]\n",
    "\n",
    "maxTwoEvents(events)"
   ]
  },
  {
   "cell_type": "markdown",
   "metadata": {},
   "source": [
    "## my solution ⬇️"
   ]
  },
  {
   "cell_type": "code",
   "execution_count": 20,
   "metadata": {},
   "outputs": [
    {
     "name": "stdout",
     "output_type": "stream",
     "text": [
      "[[51, 61, 16], [10, 83, 53], [63, 87, 45], [97, 100, 32]]\n",
      "[0, 16, 53, 53, 53]\n",
      "[-1, 61, 83, 87, 100]\n",
      "start at 51\n",
      "0 0 16\n",
      "start at 10\n",
      "0 0 53\n",
      "start at 63\n",
      "1 16 61\n",
      "start at 97\n",
      "3 53 85\n"
     ]
    },
    {
     "data": {
      "text/plain": [
       "85"
      ]
     },
     "execution_count": 20,
     "metadata": {},
     "output_type": "execute_result"
    }
   ],
   "source": [
    "import bisect\n",
    "\n",
    "def maxTwoEvents(events):\n",
    "    events.sort(key=lambda x:x[1])\n",
    "    n = len(events)\n",
    "    print(events)\n",
    "\n",
    "    # maxOneEvents[i] is the max val that ends <= events[i]\n",
    "    maxOneEvents = [0] * (n+1)  # dummy 0\n",
    "    maxOneEvents[1] = events[0][2]\n",
    "    for i in range(2, n+1):\n",
    "        maxOneEvents[i] = max(maxOneEvents[i-1], events[i-1][2])\n",
    "    print(maxOneEvents)\n",
    "\n",
    "    ans = 0\n",
    "    t2idx = [-1] + [events[i][1] for i in range(n)]\n",
    "    print(t2idx)\n",
    "    for i in range(n):\n",
    "        print(f'start at {events[i][0]}')\n",
    "        idx = bisect.bisect_left(t2idx, events[i][0]) - 1\n",
    "        print(idx, maxOneEvents[idx], events[i][2] + maxOneEvents[idx])\n",
    "        ans = max(ans, events[i][2] + maxOneEvents[idx])\n",
    "    return ans\n",
    "\n",
    "events = [[1,3,2],[4,5,2],[2,4,3]]\n",
    "\n",
    "events = [[10,83,53],[63,87,45],[97,100,32],[51,61,16]]\n",
    "\n",
    "maxTwoEvents(events)\n",
    "        "
   ]
  },
  {
   "cell_type": "code",
   "execution_count": null,
   "metadata": {},
   "outputs": [],
   "source": []
  }
 ],
 "metadata": {
  "kernelspec": {
   "display_name": "Python 3",
   "language": "python",
   "name": "python3"
  },
  "language_info": {
   "codemirror_mode": {
    "name": "ipython",
    "version": 3
   },
   "file_extension": ".py",
   "mimetype": "text/x-python",
   "name": "python",
   "nbconvert_exporter": "python",
   "pygments_lexer": "ipython3",
   "version": "3.12.3"
  }
 },
 "nbformat": 4,
 "nbformat_minor": 2
}

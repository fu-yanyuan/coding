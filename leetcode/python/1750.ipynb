{
 "cells": [
  {
   "cell_type": "code",
   "execution_count": null,
   "metadata": {},
   "outputs": [],
   "source": [
    "class Solution:\n",
    "    def minimumLength(self, s: str) -> int:\n",
    "        l, r = 0, len(s) - 1\n",
    "        while s[l] == s[r] and l < r:\n",
    "            cur = s[l]\n",
    "            while l <= r and s[l] == cur:\n",
    "                l += 1\n",
    "            \n",
    "            while r >= l and s[r] == cur:\n",
    "                r -= 1\n",
    "            \n",
    "        return r - l + 1"
   ]
  }
 ],
 "metadata": {
  "language_info": {
   "name": "python"
  }
 },
 "nbformat": 4,
 "nbformat_minor": 2
}

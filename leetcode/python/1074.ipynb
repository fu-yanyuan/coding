{
 "cells": [
  {
   "cell_type": "markdown",
   "metadata": {},
   "source": [
    "### define a submatrices by side"
   ]
  },
  {
   "cell_type": "code",
   "execution_count": 6,
   "metadata": {},
   "outputs": [
    {
     "data": {
      "text/plain": [
       "5"
      ]
     },
     "execution_count": 6,
     "metadata": {},
     "output_type": "execute_result"
    }
   ],
   "source": [
    "import collections\n",
    "\n",
    "def numSubmatrixSumTarget(matrix, target):\n",
    "    ans = 0\n",
    "\n",
    "    m, n = len(matrix), len(matrix[0])\n",
    "    for up in range(m):\n",
    "        colSum = [0] * n\n",
    "        for down in range(up, m):\n",
    "            # update colSum\n",
    "            for j in range(n):\n",
    "                colSum[j] += matrix[down][j]\n",
    "            \n",
    "            # subproblem: give a array, find the subarray that sum up to target value\n",
    "            # here, sum up the subarray of colSum is just the sum of sub matrix\n",
    "            hashmap = collections.defaultdict(int)\n",
    "            hashmap[0] = 1\n",
    "            accSum = 0\n",
    "            for j in range(n):\n",
    "                accSum += colSum[j]\n",
    "                if accSum - target in hashmap:\n",
    "                    ans += hashmap[accSum - target]\n",
    "                hashmap[accSum] += 1\n",
    "    \n",
    "    return ans\n",
    "\n",
    "matrix = [[0,1,0],[1,1,1],[0,1,0]]\n",
    "target = 0\n",
    "\n",
    "matrix = [[1,-1],[-1,1]]\n",
    "target = 0\n",
    "\n",
    "numSubmatrixSumTarget(matrix, target)"
   ]
  },
  {
   "cell_type": "markdown",
   "metadata": {},
   "source": [
    "### use this 2D prefixSum will end up with a time complexity of O(m * n * m * n)"
   ]
  },
  {
   "cell_type": "code",
   "execution_count": 4,
   "metadata": {},
   "outputs": [
    {
     "name": "stdout",
     "output_type": "stream",
     "text": [
      "---------\n",
      "[0, 1, 0]\n",
      "[1, 1, 1]\n",
      "[0, 1, 0]\n",
      "------------\n",
      "[0, 0, 0, 0]\n",
      "[0, 0, 1, 1]\n",
      "[0, 1, 3, 4]\n",
      "[0, 1, 4, 5]\n"
     ]
    }
   ],
   "source": [
    "def show2D(ma):\n",
    "    print('---' * len(ma[0]))\n",
    "    for row in ma:\n",
    "        print(row)\n",
    "\n",
    "\n",
    "def numSubmatrixSumTarget(matrix, target):\n",
    "    m, n = len(matrix), len(matrix[0])\n",
    "    accSum = [[0] * (n+1) for _ in range(m+1)]\n",
    "    for i in range(1, m+1):\n",
    "        for j in range(1, n+1):\n",
    "            accSum[i][j] = matrix[i-1][j-1] + accSum[i-1][j] + accSum[i][j-1] - accSum[i-1][j-1]\n",
    "    show2D(matrix)\n",
    "    show2D(accSum)\n",
    "\n",
    "    # dict:  sum 2 matrix (0, 0, x, y)\n",
    "\n",
    "\n",
    "matrix = [[0,1,0],[1,1,1],[0,1,0]]\n",
    "target = 0\n",
    "\n",
    "numSubmatrixSumTarget(matrix, 0)"
   ]
  }
 ],
 "metadata": {
  "kernelspec": {
   "display_name": "Python 3",
   "language": "python",
   "name": "python3"
  },
  "language_info": {
   "codemirror_mode": {
    "name": "ipython",
    "version": 3
   },
   "file_extension": ".py",
   "mimetype": "text/x-python",
   "name": "python",
   "nbconvert_exporter": "python",
   "pygments_lexer": "ipython3",
   "version": "3.12.2"
  }
 },
 "nbformat": 4,
 "nbformat_minor": 2
}

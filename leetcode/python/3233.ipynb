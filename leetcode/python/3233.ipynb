{
 "cells": [
  {
   "cell_type": "markdown",
   "metadata": {},
   "source": [
    "## get all the prime number for the range [0, n] first, then check one by one"
   ]
  },
  {
   "cell_type": "code",
   "execution_count": 4,
   "metadata": {},
   "outputs": [
    {
     "name": "stdout",
     "output_type": "stream",
     "text": [
      "[0, 0, 1, 1, 0]\n"
     ]
    },
    {
     "data": {
      "text/plain": [
       "11"
      ]
     },
     "execution_count": 4,
     "metadata": {},
     "output_type": "execute_result"
    }
   ],
   "source": [
    "import math\n",
    "\n",
    "def nonSpecialCount(l, r):\n",
    "    a = math.ceil(math.sqrt(l))\n",
    "    b = math.floor(math.sqrt(r))\n",
    "\n",
    "    # all the prime in the range [0, b]\n",
    "    isPrime = [1] * (b+1)\n",
    "    isPrime[0], isPrime[1] = 0, 0\n",
    "    for i in range(2, b+1):\n",
    "        if isPrime[i]:\n",
    "            for j in range(i * i, b+1, i):\n",
    "                isPrime[j] = 0\n",
    "    print(isPrime)\n",
    "    exclude = sum(isPrime[a:b+1])\n",
    "    return r - l + 1 - exclude\n",
    "\n",
    "nonSpecialCount(4, 16)"
   ]
  },
  {
   "cell_type": "markdown",
   "metadata": {},
   "source": [
    "## for each position, check if it is a prime numebr"
   ]
  },
  {
   "cell_type": "code",
   "execution_count": 7,
   "metadata": {},
   "outputs": [
    {
     "data": {
      "text/plain": [
       "11"
      ]
     },
     "execution_count": 7,
     "metadata": {},
     "output_type": "execute_result"
    }
   ],
   "source": [
    "import math\n",
    "\n",
    "from utils.prime import isPrime\n",
    "\n",
    "def nonSpecialCount(l, r):\n",
    "    # prime number is not, since it has only 1\n",
    "    # for any other number, 1 x n means at least 1, any if it has 2, which means it is a*a and a is prime\n",
    "    a = math.ceil(math.sqrt(l))\n",
    "    b = math.floor(math.sqrt(r))\n",
    "    # print(a, b)\n",
    "    proper = 0\n",
    "    for num in range(a, b+1):\n",
    "        if isPrime(num):\n",
    "            proper += 1\n",
    "\n",
    "    return r - l + 1 - proper\n",
    "\n",
    "nonSpecialCount(4, 16)\n"
   ]
  }
 ],
 "metadata": {
  "kernelspec": {
   "display_name": "Python 3",
   "language": "python",
   "name": "python3"
  },
  "language_info": {
   "codemirror_mode": {
    "name": "ipython",
    "version": 3
   },
   "file_extension": ".py",
   "mimetype": "text/x-python",
   "name": "python",
   "nbconvert_exporter": "python",
   "pygments_lexer": "ipython3",
   "version": "3.12.3"
  }
 },
 "nbformat": 4,
 "nbformat_minor": 2
}

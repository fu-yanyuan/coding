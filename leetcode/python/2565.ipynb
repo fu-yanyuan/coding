{
 "cells": [
  {
   "cell_type": "markdown",
   "metadata": {},
   "source": [
    "# prefix and suffix"
   ]
  },
  {
   "cell_type": "code",
   "execution_count": 9,
   "metadata": {},
   "outputs": [
    {
     "name": "stdout",
     "output_type": "stream",
     "text": [
      "[0, 0, 0, 0, 0, 0, 0, 1, 1, 1, 2, 2, 2, 3, 3, 4, 4, 5]\n",
      "0 1\n",
      "0 2\n",
      "0 2\n",
      "0 3\n",
      "0 3\n",
      "0 3\n",
      "1 4\n",
      "1 4\n",
      "1 4\n",
      "2 4\n",
      "2 4\n",
      "2 4\n",
      "3 4\n",
      "3 4\n",
      "4 4\n",
      "4 4\n",
      "5 5\n"
     ]
    },
    {
     "data": {
      "text/plain": [
       "-3"
      ]
     },
     "execution_count": 9,
     "metadata": {},
     "output_type": "execute_result"
    }
   ],
   "source": [
    "def minimumScore(s, t):\n",
    "    n, m = len(s), len(t)\n",
    "    suffix = [0] * (n+1) # suffix[i] = r means, t[r:] is a subsequence of s[i:]\n",
    "    suffix[n] = m # t[m:] is \"\", s[n:] is \"\"\n",
    "    j = m - 1\n",
    "    for i in range(n-1, -1, -1):\n",
    "        if j >= 0 and s[i] == t[j]:\n",
    "            suffix[i] = j\n",
    "            j -= 1\n",
    "        else:\n",
    "            suffix[i] = suffix[i+1]\n",
    "        \n",
    "        # if it is already a subarry. no need to remove anything\n",
    "        if j < 0:\n",
    "            return 0\n",
    "    print(suffix)\n",
    "\n",
    "    # check prefix\n",
    "    # t[:j] is a subsequence of s[:i]\n",
    "    # prefix = [0] * (n+1)\n",
    "    # prefix[0] = 0\n",
    "    # j = 0\n",
    "    # for i in range(1, n+1):\n",
    "    #     if j < m and s[i-1] == t[j]:\n",
    "    #         j += 1\n",
    "    #         prefix[i] = j\n",
    "    #     else:\n",
    "    #         prefix[i] = prefix[i-1]\n",
    "    # print(prefix)\n",
    "    j = 0\n",
    "    # i = 0\n",
    "    ans = suffix[i] - j\n",
    "    for i in range(1, n+1):\n",
    "        if j < m and s[i-1] == t[j]:\n",
    "            j += 1\n",
    "        print(suffix[i], j)\n",
    "        ans = min(ans, suffix[i] - j)\n",
    "    return ans\n",
    "\n",
    "\n",
    "    # # i = 0, s[:0] = \"\", t[:0] = \"\"\n",
    "    # ans = suffix[0] - 0 - 1\n",
    "    # j = 0\n",
    "    # for i in range(1, n+1):\n",
    "    #     if j < m and s[i-1] == t[j]:\n",
    "    #         j += 1\n",
    "    #     ans = min(ans, suffix[i] - j)\n",
    "    # return ans\n",
    "        \n",
    "\n",
    "\n",
    "s = \"abacaba\"\n",
    "t = \"bzaa\"\n",
    "\n",
    "s = \"cde\"\n",
    "t = \"xyz\"\n",
    "\n",
    "s = \"adebddaccdcabaade\"\n",
    "t = \"adbae\"\n",
    "\n",
    "minimumScore(s, t)"
   ]
  },
  {
   "cell_type": "code",
   "execution_count": null,
   "metadata": {},
   "outputs": [],
   "source": []
  }
 ],
 "metadata": {
  "kernelspec": {
   "display_name": "Python 3",
   "language": "python",
   "name": "python3"
  },
  "language_info": {
   "codemirror_mode": {
    "name": "ipython",
    "version": 3
   },
   "file_extension": ".py",
   "mimetype": "text/x-python",
   "name": "python",
   "nbconvert_exporter": "python",
   "pygments_lexer": "ipython3",
   "version": "3.12.3"
  }
 },
 "nbformat": 4,
 "nbformat_minor": 2
}

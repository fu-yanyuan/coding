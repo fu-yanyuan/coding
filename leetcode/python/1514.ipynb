{
 "cells": [
  {
   "cell_type": "code",
   "execution_count": 15,
   "metadata": {},
   "outputs": [
    {
     "name": "stdout",
     "output_type": "stream",
     "text": [
      "0 [(1, 0.5), (2, 0.2)]\n",
      "1 [(0, 0.5), (2, 0.5)]\n",
      "2 [(1, 0.5), (0, 0.2)]\n"
     ]
    },
    {
     "data": {
      "text/plain": [
       "0.25"
      ]
     },
     "execution_count": 15,
     "metadata": {},
     "output_type": "execute_result"
    }
   ],
   "source": [
    "import heapq\n",
    "\n",
    "def maxProbability(n, edges, succProb, start, end):\n",
    "    # construct graph\n",
    "    adj = [[] for _ in range(n)]\n",
    "    for i in range(len(edges)):\n",
    "        adj[edges[i][0]].append((edges[i][1], succProb[i]))\n",
    "        adj[edges[i][1]].append((edges[i][0], succProb[i]))\n",
    "    \n",
    "    for i in range(n):\n",
    "        print(i, adj[i])\n",
    "\n",
    "    # dijkstra\n",
    "    # shortest path <=> largest prob.  each succProb is [0, 1]\n",
    "    prob = [0.0] * n\n",
    "    prob[start] = 1.0\n",
    "\n",
    "    # maxHeap\n",
    "    pq = []\n",
    "    heapq.heappush(pq, (-1.0, start))\n",
    "\n",
    "    while pq:\n",
    "        curProb, curV = heapq.heappop(pq)\n",
    "        if curV == end:\n",
    "            return -curProb\n",
    "        for u, p in adj[curV]:\n",
    "            if - curProb * p > prob[u]:\n",
    "                prob[u] = - curProb * p\n",
    "                heapq.heappush(pq, (- prob[u], u))\n",
    "\n",
    "    return 0.0  # cannot reach it\n",
    "    \n",
    "n = 3\n",
    "edges = [[0,1],[1,2],[0,2]]\n",
    "succProb = [0.5,0.5,0.2]\n",
    "start = 0\n",
    "end = 2\n",
    "maxProbability(n, edges, succProb, start, end)"
   ]
  }
 ],
 "metadata": {
  "kernelspec": {
   "display_name": "Python 3",
   "language": "python",
   "name": "python3"
  },
  "language_info": {
   "codemirror_mode": {
    "name": "ipython",
    "version": 3
   },
   "file_extension": ".py",
   "mimetype": "text/x-python",
   "name": "python",
   "nbconvert_exporter": "python",
   "pygments_lexer": "ipython3",
   "version": "3.12.3"
  }
 },
 "nbformat": 4,
 "nbformat_minor": 2
}

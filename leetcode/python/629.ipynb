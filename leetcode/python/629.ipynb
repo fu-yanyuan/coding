{
 "cells": [
  {
   "cell_type": "markdown",
   "metadata": {},
   "source": [
    "### go through all the solution to see how I get the final code below."
   ]
  },
  {
   "cell_type": "code",
   "execution_count": null,
   "metadata": {},
   "outputs": [],
   "source": [
    "## bottom-up dp\n",
    "\n",
    "def dp(n, k):\n",
    "    # for n = 1\n",
    "    dp = [0] * (k+1)\n",
    "    dp[0] = 1\n",
    "\n",
    "    for i in range(2, n+1):\n",
    "        tmp = [0] * (k+1)\n",
    "        tmp[0] = 1\n",
    "        for j in range(1, k+1):\n",
    "            tmp[j] = tmp[j-1] + dp[j]\n",
    "            if j - i >= 0:\n",
    "                tmp[j] -= dp[j-i]\n",
    "        dp = tmp\n",
    "\n",
    "    return dp[-1]\n",
    "\n",
    "print([dp(3, 0), dp(3, 1), dp(3, 2), dp(3, 3)])"
   ]
  },
  {
   "cell_type": "markdown",
   "metadata": {},
   "source": [
    "###  O(n^3), but the idea is the same"
   ]
  },
  {
   "cell_type": "code",
   "execution_count": 15,
   "metadata": {},
   "outputs": [
    {
     "name": "stdout",
     "output_type": "stream",
     "text": [
      "[0, 0, 0, 0]\n",
      "[0, 0, 0, 0]\n",
      "[1, 1, 0, 0]\n",
      "[0, 0, 0, 0]\n",
      "[0, 0, 0, 0]\n",
      "[0, 0, 0, 0]\n",
      "[1, 1, 0, 0]\n",
      "[1, 2, 2, 0]\n"
     ]
    }
   ],
   "source": [
    "def kInversePairs(n, k):\n",
    "    # dp[i][j] = #arrays that for number i with j inverse pairs\n",
    "    # if we already have dp[i-1][j], j in [0, k]\n",
    "    # for dp[i][j], length is i, we can choose a position p for nums[i], and for the rest i-1 positions, we put dp[i-1][j] while maintaining the order\n",
    "    # but nums[i] at p, will contribute i - p inverse pairs, since nums[i] is larger than all the elements after it\n",
    "\n",
    "    if k == 0:\n",
    "        return 1\n",
    "    if n == 1:\n",
    "        return 0\n",
    "\n",
    "    dp = [[0] * (k+1) for _ in range(n+1)]\n",
    "    dp[2][0] = 1\n",
    "    dp[2][1] = 1\n",
    "\n",
    "    for row in dp:\n",
    "        print(row)\n",
    "    \n",
    "    for i in range(3, n+1):\n",
    "        for j in range(0, min(k+1, n*(n-1)//2)):\n",
    "            for p in range(i, 0, -1):\n",
    "                tmp = i - p\n",
    "                if tmp > j:\n",
    "                    break\n",
    "                dp[i][j] += dp[i-1][j - i + p]\n",
    "    \n",
    "    for row in dp:\n",
    "        print(row) \n",
    "\n",
    "\n",
    "# kInversePairs(3, 1)\n",
    "\n",
    "# kInversePairs(3, 0)\n",
    "\n",
    "kInversePairs(1, 1)\n",
    "\n",
    "kInversePairs(3, 3)\n",
    "\n",
    "# kInversePairs(5, 2)"
   ]
  },
  {
   "cell_type": "code",
   "execution_count": 18,
   "metadata": {},
   "outputs": [
    {
     "name": "stdout",
     "output_type": "stream",
     "text": [
      "[1, 2, 2, 1]\n"
     ]
    }
   ],
   "source": [
    "from functools import cache\n",
    "\n",
    "@cache\n",
    "def dp(n, k):\n",
    "    # for n numbers, there are n * (n-1) // 2 inverse pairs at most\n",
    "    if k > n * (n - 1) // 2:\n",
    "        return 0\n",
    "\n",
    "    if n == 1:\n",
    "        return 0\n",
    "    if k == 0:\n",
    "        return 1\n",
    "    if n == 2:\n",
    "        return 1\n",
    "    \n",
    "    ans = 0\n",
    "    for pos in range(n-1, -1, -1):\n",
    "        tmp = n-1 - pos  # pairs that are caused by the position of number n\n",
    "        if tmp > k:\n",
    "            break\n",
    "        ans += dp(n-1, k - tmp)\n",
    "    \n",
    "    return ans\n",
    "\n",
    "print([dp(3, 0), dp(3, 1), dp(3, 2), dp(3, 3)])"
   ]
  },
  {
   "cell_type": "markdown",
   "metadata": {},
   "source": [
    "### O(n^2), but the space is not good"
   ]
  },
  {
   "cell_type": "code",
   "execution_count": 19,
   "metadata": {},
   "outputs": [
    {
     "name": "stdout",
     "output_type": "stream",
     "text": [
      "[1, 2, 2, 1]\n"
     ]
    }
   ],
   "source": [
    "from functools import cache\n",
    "\n",
    "@cache\n",
    "def dp(n, k):\n",
    "    # for n numbers, there are n * (n-1) // 2 inverse pairs at most\n",
    "    if k < 0 or k > n * (n - 1) // 2:\n",
    "        return 0\n",
    "\n",
    "    if n == 1:\n",
    "        return 0\n",
    "    if k == 0:\n",
    "        return 1\n",
    "    if n == 2:\n",
    "        return 1\n",
    "    \n",
    "    # dp(n, k) = dp(n-1, k) + dp(n-1, k-1) + ... + dp(n-1, k-n+1)\n",
    "    # dp(n, k-1) = dp(n-1, k-1) + dp(n-1, k-1) + ... + dp(n-1, k-1 - (n-1))\n",
    "    ans = dp(n-1, k) + dp(n, k-1) - dp(n-1, k-n)\n",
    "\n",
    "    return ans\n",
    "\n",
    "print([dp(3, 0), dp(3, 1), dp(3, 2), dp(3, 3)])"
   ]
  },
  {
   "cell_type": "code",
   "execution_count": 21,
   "metadata": {},
   "outputs": [
    {
     "name": "stdout",
     "output_type": "stream",
     "text": [
      "[1, 2, 2, 1]\n"
     ]
    }
   ],
   "source": [
    "## bottom-up dp\n",
    "\n",
    "def dp(n, k):\n",
    "    # for n = 1\n",
    "    dp = [0] * (k+1)\n",
    "    dp[0] = 1\n",
    "\n",
    "    for i in range(2, n+1):\n",
    "        tmp = [0] * (k+1)\n",
    "        tmp[0] = 1\n",
    "        for j in range(1, k+1):\n",
    "            tmp[j] = tmp[j-1] + dp[j]\n",
    "            if j - i >= 0:\n",
    "                tmp[j] -= dp[j-i]\n",
    "        dp = tmp\n",
    "\n",
    "    return dp[-1]\n",
    "\n",
    "print([dp(3, 0), dp(3, 1), dp(3, 2), dp(3, 3)])\n",
    "    "
   ]
  }
 ],
 "metadata": {
  "kernelspec": {
   "display_name": "Python 3",
   "language": "python",
   "name": "python3"
  },
  "language_info": {
   "codemirror_mode": {
    "name": "ipython",
    "version": 3
   },
   "file_extension": ".py",
   "mimetype": "text/x-python",
   "name": "python",
   "nbconvert_exporter": "python",
   "pygments_lexer": "ipython3",
   "version": "3.12.3"
  }
 },
 "nbformat": 4,
 "nbformat_minor": 2
}

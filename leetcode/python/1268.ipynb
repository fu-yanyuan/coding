{
 "cells": [
  {
   "cell_type": "code",
   "execution_count": 9,
   "metadata": {},
   "outputs": [
    {
     "name": "stdout",
     "output_type": "stream",
     "text": [
      "['baggage', 'bags', 'banner', 'box', 'cloths']\n"
     ]
    },
    {
     "data": {
      "text/plain": [
       "[['baggage', 'bags', 'banner'],\n",
       " ['baggage', 'bags', 'banner'],\n",
       " ['baggage', 'bags'],\n",
       " ['bags']]"
      ]
     },
     "execution_count": 9,
     "metadata": {},
     "output_type": "execute_result"
    }
   ],
   "source": [
    "import bisect\n",
    "\n",
    "def suggestedProducts(products, searchWord):\n",
    "    n, m = len(products), len(searchWord)\n",
    "    products.sort()\n",
    "    print(products)\n",
    "\n",
    "    ans = []\n",
    "    l, r = 0, n\n",
    "    for i in range(m):\n",
    "        l = bisect.bisect_left(products, searchWord[:i+1], lo=l, hi=r, key=lambda x:x[:i+1])  # cur <= products[l]\n",
    "        r = bisect.bisect_right(products, searchWord[:i+1], lo=l, hi=r, key=lambda x:x[:i+1]) # products[r-1] <= cur < products[r]\n",
    "        \n",
    "        ans.append(products[l:min(l+3, r)])\n",
    "\n",
    "    return ans\n",
    "\n",
    "products = [\"mobile\",\"mouse\",\"moneypot\",\"monitor\",\"mousepad\"]\n",
    "searchWord = \"mouse\"\n",
    "\n",
    "products = [\"havana\"]\n",
    "searchWord = \"havana\"\n",
    "\n",
    "products = [\"bags\",\"baggage\",\"banner\",\"box\",\"cloths\"]\n",
    "searchWord = \"bags\"\n",
    "\n",
    "suggestedProducts(products, searchWord)\n",
    "\n",
    "\n",
    "\n"
   ]
  }
 ],
 "metadata": {
  "kernelspec": {
   "display_name": "Python 3",
   "language": "python",
   "name": "python3"
  },
  "language_info": {
   "codemirror_mode": {
    "name": "ipython",
    "version": 3
   },
   "file_extension": ".py",
   "mimetype": "text/x-python",
   "name": "python",
   "nbconvert_exporter": "python",
   "pygments_lexer": "ipython3",
   "version": "3.12.2"
  }
 },
 "nbformat": 4,
 "nbformat_minor": 2
}

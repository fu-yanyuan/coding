{
 "cells": [
  {
   "cell_type": "code",
   "execution_count": 22,
   "metadata": {},
   "outputs": [
    {
     "data": {
      "text/plain": [
       "39"
      ]
     },
     "execution_count": 22,
     "metadata": {},
     "output_type": "execute_result"
    }
   ],
   "source": [
    "def matrixScore(grid):\n",
    "    '''\n",
    "    1000 > 0111 => so make sure first col should be all 1s\n",
    "    '''\n",
    "    m, n = len(grid), len(grid[0])\n",
    "    ans = 0\n",
    "\n",
    "    # flip all 1s for the first row\n",
    "    # keep track which row has been flipped\n",
    "    rowFlipping = [0] * m\n",
    "    for i in range(m):\n",
    "        if grid[i][0] == 0:\n",
    "            rowFlipping[i] = 1\n",
    "    ans += m\n",
    "    \n",
    "    # for the cols below, conduct colFlipping if #0s > #1s\n",
    "    # don't forget the rowFlipping will switch cur val\n",
    "    ''' \n",
    "    val, flipped, new_val\n",
    "    0  0  0\n",
    "    0  1  1\n",
    "    1  0  1\n",
    "    1  1  0\n",
    "    '''\n",
    "    for j in range(1, n):\n",
    "        cntr1 = 0 # #1s for current col\n",
    "        for i in range(m):\n",
    "            # cntr1 += abs(grid[i][j] - rowFlipping[i])\n",
    "            cntr += grid[i][j] ^ rowFlipping[i] ^ 1\n",
    "        # conduct colFlipping if #0s > #1s\n",
    "        if cntr1 * 2 < m:\n",
    "            cntr1 = m - cntr1\n",
    "\n",
    "        ans = ans * 2 + cntr1\n",
    "    \n",
    "    return ans\n",
    "\n",
    "\n",
    "grid = [[0,0,1,1],[1,0,1,0],[1,1,0,0]]\n",
    "\n",
    "matrixScore(grid)"
   ]
  }
 ],
 "metadata": {
  "kernelspec": {
   "display_name": "Python 3",
   "language": "python",
   "name": "python3"
  },
  "language_info": {
   "codemirror_mode": {
    "name": "ipython",
    "version": 3
   },
   "file_extension": ".py",
   "mimetype": "text/x-python",
   "name": "python",
   "nbconvert_exporter": "python",
   "pygments_lexer": "ipython3",
   "version": "3.12.3"
  }
 },
 "nbformat": 4,
 "nbformat_minor": 2
}

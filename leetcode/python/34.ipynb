{
 "cells": [
  {
   "cell_type": "code",
   "execution_count": 4,
   "metadata": {},
   "outputs": [
    {
     "data": {
      "text/plain": [
       "[-1, -1]"
      ]
     },
     "execution_count": 4,
     "metadata": {},
     "output_type": "execute_result"
    }
   ],
   "source": [
    "import bisect\n",
    "\n",
    "def searchRange(nums, target):\n",
    "    if not nums:\n",
    "        return [-1, -1]\n",
    "    \n",
    "    l = bisect.bisect_left(nums, target)   # target <= nums[l]\n",
    "    if l == len(nums) or nums[l] != target:\n",
    "        return [-1, -1]\n",
    "    r = bisect.bisect_right(nums, target)  # nums[r-1] <= target\n",
    "\n",
    "    return [l, r-1]\n",
    "\n",
    "\n",
    "nums = [5,7,7,8,8,10]\n",
    "target = 8\n",
    "\n",
    "nums = [5,7,7,8,8,10]\n",
    "target = 6\n",
    "\n",
    "searchRange(nums, target)"
   ]
  }
 ],
 "metadata": {
  "kernelspec": {
   "display_name": "Python 3",
   "language": "python",
   "name": "python3"
  },
  "language_info": {
   "codemirror_mode": {
    "name": "ipython",
    "version": 3
   },
   "file_extension": ".py",
   "mimetype": "text/x-python",
   "name": "python",
   "nbconvert_exporter": "python",
   "pygments_lexer": "ipython3",
   "version": "3.12.3"
  }
 },
 "nbformat": 4,
 "nbformat_minor": 2
}

{
 "cells": [
  {
   "cell_type": "code",
   "execution_count": 4,
   "metadata": {},
   "outputs": [
    {
     "name": "stdout",
     "output_type": "stream",
     "text": [
      "5\n",
      "7\n",
      "=========\n",
      "[1, 0, 1]\n",
      "[1, 1, 0]\n",
      "[1, 2, 0]\n"
     ]
    },
    {
     "data": {
      "text/plain": [
       "7"
      ]
     },
     "execution_count": 4,
     "metadata": {},
     "output_type": "execute_result"
    }
   ],
   "source": [
    "from utils.show import show2D\n",
    "\n",
    "def countSquares(matrix):\n",
    "    m, n = len(matrix), len(matrix[0])\n",
    "    dp = [[0] * n for _ in range(m)] # dp[i][j] is the length of square whose right-bottom point is (i, j)\n",
    "    leftOnes = 0 # for cur row, how many consective leftOnes\n",
    "    upperOnes = [0] * n # for the row above, how many upper ones\n",
    "    ans = 0\n",
    "    # init \n",
    "    for j in range(n):\n",
    "        if matrix[0][j] == 1:\n",
    "            dp[0][j] = 1\n",
    "            upperOnes[j] = 1\n",
    "            ans += 1\n",
    "    for i in range(1, m):  ## [IMPORTANT: don't consider (0, 0) twice]\n",
    "        if matrix[i][0] == 1:\n",
    "            dp[i][0] = 1\n",
    "            ans += 1\n",
    "    \n",
    "    for i in range(1, m):\n",
    "        leftOnes = matrix[i][0]\n",
    "        for j in range(1, n):\n",
    "            if matrix[i][j] == 0:\n",
    "                leftOnes = 0\n",
    "                upperOnes[j] = 0\n",
    "                continue\n",
    "            dp[i][j] = min(dp[i-1][j-1], leftOnes, upperOnes[j]) + 1\n",
    "            leftOnes += 1\n",
    "            upperOnes[j] += 1\n",
    "            ans += dp[i][j]\n",
    "            print(ans)\n",
    "\n",
    "    show2D(dp)\n",
    "    return ans\n",
    "\n",
    "matrix = [\n",
    "  [1,0,1],\n",
    "  [1,1,0],\n",
    "  [1,1,0]]\n",
    "\n",
    "countSquares(matrix)"
   ]
  },
  {
   "cell_type": "code",
   "execution_count": null,
   "metadata": {},
   "outputs": [],
   "source": []
  }
 ],
 "metadata": {
  "kernelspec": {
   "display_name": "Python 3",
   "language": "python",
   "name": "python3"
  },
  "language_info": {
   "codemirror_mode": {
    "name": "ipython",
    "version": 3
   },
   "file_extension": ".py",
   "mimetype": "text/x-python",
   "name": "python",
   "nbconvert_exporter": "python",
   "pygments_lexer": "ipython3",
   "version": "3.12.2"
  }
 },
 "nbformat": 4,
 "nbformat_minor": 2
}

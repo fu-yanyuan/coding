{
 "cells": [
  {
   "cell_type": "code",
   "execution_count": 13,
   "metadata": {},
   "outputs": [
    {
     "name": "stdout",
     "output_type": "stream",
     "text": [
      "10 10\n",
      "0\n",
      "1\n",
      "10\n",
      "110\n"
     ]
    },
    {
     "data": {
      "text/plain": [
       "6"
      ]
     },
     "execution_count": 13,
     "metadata": {},
     "output_type": "execute_result"
    }
   ],
   "source": [
    "def minEnd(n, x):\n",
    "    ln = (n-1).bit_length()\n",
    "    sn = bin(n-1)[2:]\n",
    "    lx = x.bit_length()\n",
    "    sx = bin(x)[2:]\n",
    "    print(sn, sx)\n",
    "\n",
    "    ans = ''\n",
    "    j = ln - 1\n",
    "    for i in range(lx-1, -1, -1):\n",
    "        print(sx[i])\n",
    "        if sx[i] == '1':\n",
    "            ans = '1' + ans\n",
    "        elif j >= 0:\n",
    "            ans = sn[j] + ans\n",
    "            j -= 1\n",
    "        else:\n",
    "            ans = '0' + ans\n",
    "    \n",
    "    print(ans)\n",
    "\n",
    "    if j > -1:\n",
    "        ans = sn[0:j+1] + ans\n",
    "    print(ans)\n",
    "    return int(ans, 2)\n",
    "\n",
    "n = 3\n",
    "x = 4\n",
    "\n",
    "n = 3\n",
    "x = 2\n",
    "minEnd(n, x)"
   ]
  }
 ],
 "metadata": {
  "kernelspec": {
   "display_name": "Python 3",
   "language": "python",
   "name": "python3"
  },
  "language_info": {
   "codemirror_mode": {
    "name": "ipython",
    "version": 3
   },
   "file_extension": ".py",
   "mimetype": "text/x-python",
   "name": "python",
   "nbconvert_exporter": "python",
   "pygments_lexer": "ipython3",
   "version": "3.12.3"
  }
 },
 "nbformat": 4,
 "nbformat_minor": 2
}

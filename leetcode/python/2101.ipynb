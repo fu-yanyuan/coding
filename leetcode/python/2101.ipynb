{
 "cells": [
  {
   "cell_type": "code",
   "execution_count": 9,
   "metadata": {},
   "outputs": [
    {
     "name": "stdout",
     "output_type": "stream",
     "text": [
      "[10, 10, 3, 10, 3, 1, 12, 10, 3, 1, 1, 10, 1]\n"
     ]
    },
    {
     "data": {
      "text/plain": [
       "12"
      ]
     },
     "execution_count": 9,
     "metadata": {},
     "output_type": "execute_result"
    }
   ],
   "source": [
    "def maximumDetonation(bombs):    \n",
    "    n = len(bombs)\n",
    "    detonation = [0] * n # the number of bombs that can be detonated if detonated bombs[i] first\n",
    "\n",
    "    def inRange(b0, b1):\n",
    "        # return True if b1 is in the range of b0; else False\n",
    "        # b1 is in the range of b0 != b0 is in the range of b1\n",
    "        x, y = b0[0] - b1[0], b0[1] - b1[1]\n",
    "        if x * x + y * y <= b0[2] * b0[2]:\n",
    "            return True\n",
    "        return False\n",
    "\n",
    "    def dfs(i):\n",
    "        visited[i] = 1\n",
    "        total = 1\n",
    "\n",
    "        for j in range(n):\n",
    "            if visited[j] == 0 and inRange(bombs[i], bombs[j]):\n",
    "                total += dfs(j)\n",
    "        \n",
    "        return total\n",
    "\n",
    "    for i in range(n):\n",
    "        visited = [0] * n\n",
    "        detonation[i] = dfs(i)\n",
    "    \n",
    "    print(detonation)\n",
    "    return max(detonation)\n",
    "\n",
    "bombs = [[1,2,3],[2,3,1],[3,4,2],[4,5,3],[5,6,4]]\n",
    "\n",
    "bombs = [[634,440,278],[748,509,396],[995,881,251],[704,214,341],[832,972,238],[987,384,156],[378,988,402],[743,557,252],[814,868,196],[131,922,199],[13,398,444],[464,607,241],[426,128,81]]\n",
    "maximumDetonation(bombs)"
   ]
  },
  {
   "cell_type": "markdown",
   "metadata": {},
   "source": [
    "# Construct graph first "
   ]
  },
  {
   "cell_type": "code",
   "execution_count": 14,
   "metadata": {},
   "outputs": [
    {
     "data": {
      "text/plain": [
       "12"
      ]
     },
     "execution_count": 14,
     "metadata": {},
     "output_type": "execute_result"
    }
   ],
   "source": [
    "from collections import defaultdict\n",
    "\n",
    "def maximumDetonation(bombs):    \n",
    "\n",
    "    def inRange(b0, b1):\n",
    "        # return True if b1 is in the range of b0; else False\n",
    "        # b1 is in the range of b0 != b0 is in the range of b1\n",
    "        x, y = b0[0] - b1[0], b0[1] - b1[1]\n",
    "        if x * x + y * y <= b0[2] * b0[2]:\n",
    "            return True\n",
    "        return False\n",
    "    \n",
    "    # construct graph\n",
    "    n = len(bombs)\n",
    "    neighbours = defaultdict(list)\n",
    "    for i in range(n):\n",
    "        for j in range(n):\n",
    "            if i != j and inRange(bombs[i], bombs[j]):\n",
    "                neighbours[i].append(j)\n",
    "\n",
    "\n",
    "    def dfs(i):\n",
    "        visited[i] = 1\n",
    "        total = 1\n",
    "\n",
    "        for j in neighbours[i]:\n",
    "            if visited[j] == 0:\n",
    "                total += dfs(j)\n",
    "        \n",
    "        return total\n",
    "\n",
    "    ans = 0\n",
    "    for i in range(n):\n",
    "        visited = [0] * n\n",
    "        ans = max(ans, dfs(i))\n",
    "    \n",
    "    return ans\n",
    "\n",
    "bombs = [[1,2,3],[2,3,1],[3,4,2],[4,5,3],[5,6,4]]\n",
    "\n",
    "bombs = [[634,440,278],[748,509,396],[995,881,251],[704,214,341],[832,972,238],[987,384,156],[378,988,402],[743,557,252],[814,868,196],[131,922,199],[13,398,444],[464,607,241],[426,128,81]]\n",
    "maximumDetonation(bombs)"
   ]
  }
 ],
 "metadata": {
  "kernelspec": {
   "display_name": "Python 3",
   "language": "python",
   "name": "python3"
  },
  "language_info": {
   "codemirror_mode": {
    "name": "ipython",
    "version": 3
   },
   "file_extension": ".py",
   "mimetype": "text/x-python",
   "name": "python",
   "nbconvert_exporter": "python",
   "pygments_lexer": "ipython3",
   "version": "3.12.3"
  }
 },
 "nbformat": 4,
 "nbformat_minor": 2
}

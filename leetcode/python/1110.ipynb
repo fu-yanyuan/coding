{
 "cells": [
  {
   "cell_type": "code",
   "execution_count": null,
   "metadata": {},
   "outputs": [],
   "source": [
    "def defNodes(root, to_delete):\n",
    "    to_delete = set(to_delete)\n",
    "\n",
    "    ans = []\n",
    "\n",
    "    def traversal(root):\n",
    "        if not root:\n",
    "            return\n",
    "        \n",
    "        root.left = traversal(root.left)\n",
    "        root.right = traversal(root.right)\n",
    "\n",
    "        if root.val in to_delete:\n",
    "            if root.left:\n",
    "                ans.append(root.left)\n",
    "            if root.right:\n",
    "                ans.append(root.right)\n",
    "            return None\n",
    "        \n",
    "        return root\n",
    "\n",
    "    root = traversal(root)\n",
    "\n",
    "    return ans"
   ]
  }
 ],
 "metadata": {
  "language_info": {
   "name": "python"
  }
 },
 "nbformat": 4,
 "nbformat_minor": 2
}

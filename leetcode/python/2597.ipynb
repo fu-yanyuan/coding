{
 "cells": [
  {
   "cell_type": "markdown",
   "metadata": {},
   "source": [
    "# and there is a dp method"
   ]
  },
  {
   "cell_type": "code",
   "execution_count": 13,
   "metadata": {},
   "outputs": [
    {
     "name": "stdout",
     "output_type": "stream",
     "text": [
      "[2, 4, 6]\n"
     ]
    },
    {
     "data": {
      "text/plain": [
       "4"
      ]
     },
     "execution_count": 13,
     "metadata": {},
     "output_type": "execute_result"
    }
   ],
   "source": [
    "def beautifulSubsets(nums, k):\n",
    "    n = len(nums)\n",
    "    nums.sort()\n",
    "    print(nums)\n",
    "\n",
    "    ans = 0\n",
    "\n",
    "    def dfs(i, status):\n",
    "        nonlocal ans\n",
    "\n",
    "        if i == n:\n",
    "            if status == 0:\n",
    "                return\n",
    "            # check \n",
    "            pool = set()\n",
    "            for j in range(i):\n",
    "                if (1 << j) & status != 0:\n",
    "                    if (nums[j] - k) in pool:\n",
    "                        \n",
    "                        return\n",
    "                    pool.add(nums[j])\n",
    "            ans += 1\n",
    "            return \n",
    "        dfs(i+1, status)\n",
    "        dfs(i+1, status + (1 << i))\n",
    "\n",
    "        return\n",
    "\n",
    "    dfs(0, 0)\n",
    "\n",
    "    return ans\n",
    "\n",
    "nums = [2,4,6]\n",
    "k = 2\n",
    "beautifulSubsets(nums, k)"
   ]
  },
  {
   "cell_type": "code",
   "execution_count": 18,
   "metadata": {},
   "outputs": [
    {
     "name": "stdout",
     "output_type": "stream",
     "text": [
      "[2, 4, 6]\n",
      "[0, 0, 0, 0, 0, 0, 0]\n",
      "[0, 0, 0, 0, 0, 0, 1]\n",
      "[0, 0, 0, 0, 1, 0, 0]\n",
      "[0, 0, 1, 0, 0, 0, 0]\n",
      "[0, 0, 1, 0, 0, 0, 1]\n"
     ]
    },
    {
     "data": {
      "text/plain": [
       "5"
      ]
     },
     "execution_count": 18,
     "metadata": {},
     "output_type": "execute_result"
    }
   ],
   "source": [
    "def beautifulSubsets(nums, k):\n",
    "    n = len(nums)\n",
    "    nums.sort()\n",
    "    print(nums)\n",
    "\n",
    "    cntr = [0] * (max(nums) + 1)\n",
    "    ans = 0\n",
    "\n",
    "    def dfs(i):\n",
    "        if i == n:\n",
    "            nonlocal ans\n",
    "            print(cntr)\n",
    "            ans += 1\n",
    "            return\n",
    "\n",
    "        # don't choose current nums[i]\n",
    "        dfs(i+1)\n",
    "        # chose current if possible\n",
    "        if nums[i] - k >= 0 and cntr[nums[i] - k] == 0:\n",
    "            cntr[nums[i]] += 1\n",
    "            dfs(i+1)\n",
    "            cntr[nums[i]] -= 1\n",
    "        return\n",
    "    \n",
    "    dfs(0)\n",
    "\n",
    "    return ans - 1 # []\n",
    "\n",
    "nums = [2,4,6]\n",
    "k = 2\n",
    "beautifulSubsets(nums, k)"
   ]
  },
  {
   "cell_type": "code",
   "execution_count": 11,
   "metadata": {},
   "outputs": [
    {
     "name": "stdout",
     "output_type": "stream",
     "text": [
      "1\n",
      "1\n",
      "2\n",
      "2\n",
      "4\n",
      "4\n"
     ]
    }
   ],
   "source": [
    "status = 7\n",
    "for j in range(3):\n",
    "    print((1 << j))\n",
    "    print((1 << j) & status)"
   ]
  }
 ],
 "metadata": {
  "kernelspec": {
   "display_name": "Python 3",
   "language": "python",
   "name": "python3"
  },
  "language_info": {
   "codemirror_mode": {
    "name": "ipython",
    "version": 3
   },
   "file_extension": ".py",
   "mimetype": "text/x-python",
   "name": "python",
   "nbconvert_exporter": "python",
   "pygments_lexer": "ipython3",
   "version": "3.12.2"
  }
 },
 "nbformat": 4,
 "nbformat_minor": 2
}

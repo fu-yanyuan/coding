{
 "cells": [
  {
   "cell_type": "markdown",
   "metadata": {},
   "source": [
    "### O(n^2)\n",
    "\n",
    "### [to do] sortedlist"
   ]
  },
  {
   "cell_type": "code",
   "execution_count": null,
   "metadata": {},
   "outputs": [],
   "source": [
    "def numTeams(rating):\n",
    "    n = len(rating)\n",
    "    smaller = [0] * (n)\n",
    "    greater = [0] * (n)\n",
    "\n",
    "    ans = 0\n",
    "    for i in range(n):\n",
    "        for j in range(i):\n",
    "            if rating[j] < rating[i]:\n",
    "                smaller[i] += 1\n",
    "                ans += smaller[j]\n",
    "            else:\n",
    "                greater[i] += 1\n",
    "                ans += greater[j]\n",
    "    \n",
    "    return ans"
   ]
  }
 ],
 "metadata": {
  "language_info": {
   "name": "python"
  }
 },
 "nbformat": 4,
 "nbformat_minor": 2
}

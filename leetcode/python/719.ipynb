{
 "cells": [
  {
   "cell_type": "markdown",
   "metadata": {},
   "source": [
    "```\n",
    "nums = [1,6,1], k = 3   n <= 10**4, if we get all the nums of pairs that will be O(n**2)\n",
    "\n",
    "\n",
    "```"
   ]
  },
  {
   "cell_type": "code",
   "execution_count": 31,
   "metadata": {},
   "outputs": [
    {
     "data": {
      "text/plain": [
       "5"
      ]
     },
     "execution_count": 31,
     "metadata": {},
     "output_type": "execute_result"
    }
   ],
   "source": [
    "def smallestDistancePair(nums, k):\n",
    "    nums.sort()\n",
    "    n = len(nums)\n",
    "\n",
    "    def getNumberOfPairs(d):\n",
    "        '''\n",
    "        return #pairs whose distance <= d\n",
    "        O(n)\n",
    "        '''\n",
    "        cnt = 0\n",
    "        l, r = 0, 0\n",
    "        for r in range(n):\n",
    "            while nums[r] - nums[l] > d:\n",
    "                l += 1\n",
    "            cnt += r - l\n",
    "        return cnt\n",
    "    \n",
    "    # bisect left\n",
    "    # find the first d that getNumberOfpairs >= k\n",
    "    def bisect(l, r):\n",
    "        while l < r:\n",
    "            m = (l + r) // 2\n",
    "            if getNumberOfPairs(m) < k:\n",
    "                l = m + 1\n",
    "            else:\n",
    "                r = m\n",
    "        return l\n",
    "    \n",
    "    return bisect(0, nums[-1]-nums[0])\n",
    "    \n",
    "nums = [1,6,1]\n",
    "k = 3\n",
    "smallestDistancePair(nums, k)"
   ]
  },
  {
   "cell_type": "code",
   "execution_count": 26,
   "metadata": {},
   "outputs": [
    {
     "name": "stdout",
     "output_type": "stream",
     "text": [
      "[0, 0, 2, 2, 2, 2, 2, 3]\n",
      "[0, 0, 2, 2, 3]\n"
     ]
    },
    {
     "data": {
      "text/plain": [
       "0"
      ]
     },
     "execution_count": 26,
     "metadata": {},
     "output_type": "execute_result"
    }
   ],
   "source": [
    "from collections import Counter\n",
    "\n",
    "def smallestDistancePair(nums, k):\n",
    "    cntr = Counter(nums)\n",
    "    maxGap = max(cntr.keys())\n",
    "    arr = [0] * (maxGap + 2)  # arr[i+1] means the number of nums <= i\n",
    "    for num, freq in cntr.items():\n",
    "        arr[num+1] = freq\n",
    "    for i in range(1, maxGap + 2):\n",
    "        arr[i] += arr[i-1]\n",
    "    # print(arr)\n",
    "\n",
    "    def getNumberOfPairs(d):\n",
    "        '''\n",
    "        return #pairs whose distance <= d\n",
    "        O(n)\n",
    "        '''\n",
    "        pairs = 0\n",
    "        for k in cntr.keys():\n",
    "            # choose k, and find a value j within the \n",
    "            if k <= d:\n",
    "                n = arr[k+1]\n",
    "            else:\n",
    "                n = arr[k+1] - arr[k-d]\n",
    "            pairs += cntr[k] * (cntr[k] - 1) // 2 + cntr[k] * (n - cntr[k])\n",
    "            \n",
    "        return pairs\n",
    "    \n",
    "    # bisect \n",
    "    # find the first d that getNumberOfpairs >= k\n",
    "    def bisect(l, r):\n",
    "        while l < r:\n",
    "            m = (l + r) // 2\n",
    "            if getNumberOfPairs(m) < k:\n",
    "                l = m + 1\n",
    "            else:\n",
    "                r = m\n",
    "        return l\n",
    "    \n",
    "    return bisect(0, maxGap)\n",
    "        \n",
    "\n",
    "\n",
    "\n",
    "nums = [1,6,1]\n",
    "k = 3\n",
    "smallestDistancePair(nums, k)\n",
    "\n",
    "nums = [1,3,1]\n",
    "k = 1\n",
    "smallestDistancePair(nums, k)"
   ]
  },
  {
   "cell_type": "code",
   "execution_count": null,
   "metadata": {},
   "outputs": [],
   "source": []
  }
 ],
 "metadata": {
  "kernelspec": {
   "display_name": "Python 3",
   "language": "python",
   "name": "python3"
  },
  "language_info": {
   "codemirror_mode": {
    "name": "ipython",
    "version": 3
   },
   "file_extension": ".py",
   "mimetype": "text/x-python",
   "name": "python",
   "nbconvert_exporter": "python",
   "pygments_lexer": "ipython3",
   "version": "3.12.3"
  }
 },
 "nbformat": 4,
 "nbformat_minor": 2
}

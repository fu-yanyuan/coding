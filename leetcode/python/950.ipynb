{
 "cells": [
  {
   "cell_type": "code",
   "execution_count": 1,
   "metadata": {},
   "outputs": [
    {
     "data": {
      "text/plain": [
       "[2, 13, 3, 11, 5, 17, 7]"
      ]
     },
     "execution_count": 1,
     "metadata": {},
     "output_type": "execute_result"
    }
   ],
   "source": [
    "def deckRevealedIncreasing(deck):\n",
    "    n = len(deck)\n",
    "    ans = [0] * n\n",
    "\n",
    "    deck.sort()\n",
    "    queue = [i for i in range(n)]\n",
    "\n",
    "    k = 0\n",
    "    while k < n:\n",
    "        idx = queue.pop(0)\n",
    "        ans[idx] = deck[k]\n",
    "        k += 1\n",
    "\n",
    "        if queue:\n",
    "            queue.append(queue.pop(0))\n",
    "    \n",
    "    return ans\n",
    "\n",
    "deck = [17,13,11,2,3,5,7]\n",
    "deckRevealedIncreasing(deck)"
   ]
  }
 ],
 "metadata": {
  "kernelspec": {
   "display_name": "Python 3",
   "language": "python",
   "name": "python3"
  },
  "language_info": {
   "codemirror_mode": {
    "name": "ipython",
    "version": 3
   },
   "file_extension": ".py",
   "mimetype": "text/x-python",
   "name": "python",
   "nbconvert_exporter": "python",
   "pygments_lexer": "ipython3",
   "version": "3.12.3"
  }
 },
 "nbformat": 4,
 "nbformat_minor": 2
}

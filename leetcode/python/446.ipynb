{
 "cells": [
  {
   "cell_type": "code",
   "execution_count": null,
   "metadata": {},
   "outputs": [],
   "source": [
    "import collections\n",
    "\n",
    "def numberOfArithmeticSlices(nums):    \n",
    "    ans = 0\n",
    "    memo = [collections.defaultdict(int) for _ in range(len(nums))]  # memo[i][diff] = freq\n",
    "    for i in range(1, len(nums)):\n",
    "        for j in range(i):\n",
    "            diff = nums[i] - nums[j]\n",
    "            ans += memo[j][diff]\n",
    "            memo[i][diff] += memo[j][diff] + 1   # += not = !!!\n",
    "        \n",
    "    return ans"
   ]
  },
  {
   "cell_type": "markdown",
   "metadata": {},
   "source": [
    "### use seperate defaultdict seems cost smaller time than a whole defaultdict. why?"
   ]
  },
  {
   "cell_type": "code",
   "execution_count": 6,
   "metadata": {},
   "outputs": [
    {
     "data": {
      "text/plain": [
       "7"
      ]
     },
     "execution_count": 6,
     "metadata": {},
     "output_type": "execute_result"
    }
   ],
   "source": [
    "import collections\n",
    "\n",
    "def numberOfArithmeticSlices(nums):\n",
    "    ans = 0\n",
    "    memo = collections.defaultdict(int)  # memo[(end, diff)] = freq\n",
    "    for i in range(1, len(nums)):\n",
    "        for j in range(i):\n",
    "            diff = nums[i] - nums[j]\n",
    "            ans += memo[(j, diff)]\n",
    "            memo[(i, diff)] += memo[(j, diff)] + 1   # += not = !!!\n",
    "        \n",
    "    return ans\n",
    "\n",
    "nums = [7,7,7,7,7]\n",
    "\n",
    "nums = [2,4,6,8,10]\n",
    "\n",
    "numberOfArithmeticSlices(nums)"
   ]
  }
 ],
 "metadata": {
  "kernelspec": {
   "display_name": "Python 3",
   "language": "python",
   "name": "python3"
  },
  "language_info": {
   "codemirror_mode": {
    "name": "ipython",
    "version": 3
   },
   "file_extension": ".py",
   "mimetype": "text/x-python",
   "name": "python",
   "nbconvert_exporter": "python",
   "pygments_lexer": "ipython3",
   "version": "3.12.3"
  }
 },
 "nbformat": 4,
 "nbformat_minor": 2
}

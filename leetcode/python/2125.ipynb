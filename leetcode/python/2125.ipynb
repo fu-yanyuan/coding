{
 "cells": [
  {
   "cell_type": "code",
   "execution_count": null,
   "metadata": {},
   "outputs": [],
   "source": [
    "def numberOfBeams(bank):\n",
    "    ans = 0\n",
    "\n",
    "    prev = 0\n",
    "    for row in bank:\n",
    "        k = row.count('1')\n",
    "        if k != 0:\n",
    "            ans += prev * k\n",
    "            prev = k\n",
    "    \n",
    "    return ans"
   ]
  }
 ],
 "metadata": {
  "language_info": {
   "name": "python"
  }
 },
 "nbformat": 4,
 "nbformat_minor": 2
}

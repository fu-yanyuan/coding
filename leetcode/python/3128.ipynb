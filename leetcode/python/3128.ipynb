{
 "cells": [
  {
   "cell_type": "code",
   "execution_count": 7,
   "metadata": {},
   "outputs": [
    {
     "data": {
      "text/plain": [
       "2"
      ]
     },
     "execution_count": 7,
     "metadata": {},
     "output_type": "execute_result"
    }
   ],
   "source": [
    "def numberOfRightTriangles(grid):\n",
    "    m, n = len(grid), len(grid[0])\n",
    "    rowCntr = [0] * m\n",
    "    colCntr = [0] * n\n",
    "    for i in range(m):\n",
    "        for j in range(n):\n",
    "            rowCntr[i] += grid[i][j]\n",
    "            colCntr[j] += grid[i][j]\n",
    "    \n",
    "    ans = 0\n",
    "    for i in range(m):\n",
    "        for j in range(n):\n",
    "            if grid[i][j] == 1:\n",
    "                ans += (rowCntr[i] - 1) * (colCntr[j] - 1)\n",
    "    \n",
    "    return ans\n",
    "\n",
    "grid = [[0,1,0],[0,1,1],[0,1,0]] # 2\n",
    "\n",
    "# grid = [[1,0,1],[1,0,0],[1,0,0]] # 2\n",
    "\n",
    "# grid = [[1,0,0,0],[0,1,0,1],[1,0,0,0]] # 0\n",
    "\n",
    "numberOfRightTriangles(grid)"
   ]
  }
 ],
 "metadata": {
  "kernelspec": {
   "display_name": "Python 3",
   "language": "python",
   "name": "python3"
  },
  "language_info": {
   "codemirror_mode": {
    "name": "ipython",
    "version": 3
   },
   "file_extension": ".py",
   "mimetype": "text/x-python",
   "name": "python",
   "nbconvert_exporter": "python",
   "pygments_lexer": "ipython3",
   "version": "3.12.3"
  }
 },
 "nbformat": 4,
 "nbformat_minor": 2
}

{
 "cells": [
  {
   "cell_type": "code",
   "execution_count": 9,
   "metadata": {},
   "outputs": [
    {
     "name": "stdout",
     "output_type": "stream",
     "text": [
      "===========================\n",
      "[4, 0, 0, 0, 0, 0, 0, 0, 0]\n",
      "[0, 4, 0, 0, 0, 0, 0, 0, 0]\n"
     ]
    },
    {
     "data": {
      "text/plain": [
       "0"
      ]
     },
     "execution_count": 9,
     "metadata": {},
     "output_type": "execute_result"
    }
   ],
   "source": [
    "from utils.show import show2D\n",
    "\n",
    "def sumDigitDifferences(nums):\n",
    "    n = len(nums)\n",
    "\n",
    "    digits = 1\n",
    "    a = nums[0]\n",
    "    while a // 10:\n",
    "        digits += 1\n",
    "        a = a // 10\n",
    "    \n",
    "    cntr = [[0] * 9 for _ in range(digits)] # cntr[i][j] = cnt of j for i-th digit \n",
    "    diff = 0\n",
    "    for i in range(n):\n",
    "        num = nums[i]\n",
    "        for d in range(digits):\n",
    "            j = num % 10\n",
    "\n",
    "            # digit diff. \n",
    "            diff += i - cntr[d][j]\n",
    "\n",
    "            cntr[d][j] += 1\n",
    "            num = num // 10\n",
    "    \n",
    "    show2D(cntr)\n",
    "    return diff\n",
    "\n",
    "nums = [12, 13, 23]\n",
    "nums = [10,10,10,10]\n",
    "\n",
    "sumDigitDifferences(nums)\n",
    "\n"
   ]
  },
  {
   "cell_type": "code",
   "execution_count": 5,
   "metadata": {},
   "outputs": [
    {
     "name": "stdout",
     "output_type": "stream",
     "text": [
      "5\n"
     ]
    }
   ],
   "source": [
    "digits = 1\n",
    "a = 42361\n",
    "while a // 10:\n",
    "    digits += 1\n",
    "    a = a // 10\n",
    "\n",
    "print(digits)\n"
   ]
  }
 ],
 "metadata": {
  "kernelspec": {
   "display_name": "Python 3",
   "language": "python",
   "name": "python3"
  },
  "language_info": {
   "codemirror_mode": {
    "name": "ipython",
    "version": 3
   },
   "file_extension": ".py",
   "mimetype": "text/x-python",
   "name": "python",
   "nbconvert_exporter": "python",
   "pygments_lexer": "ipython3",
   "version": "3.12.3"
  }
 },
 "nbformat": 4,
 "nbformat_minor": 2
}

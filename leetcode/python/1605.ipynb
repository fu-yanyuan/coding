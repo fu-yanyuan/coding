{
 "cells": [
  {
   "cell_type": "code",
   "execution_count": 5,
   "metadata": {},
   "outputs": [
    {
     "name": "stdout",
     "output_type": "stream",
     "text": [
      "[5, 0, 0]\n",
      "[3, 4, 0]\n",
      "[0, 2, 8]\n"
     ]
    }
   ],
   "source": [
    "rowSum = [5,7,10]\n",
    "colSum = [8,6,8]\n",
    "\n",
    "def restoreMatrix(rowSum, colSum):\n",
    "    m, n = len(rowSum), len(colSum)\n",
    "    ans = [[0] * n for _ in range(m)]\n",
    "\n",
    "    for i in range(m):\n",
    "        for j in range(n):\n",
    "            # greedy, chose the largest possible value \n",
    "            # and then update the constrain\n",
    "            if rowSum[i] < colSum[j]:\n",
    "                ans[i][j] = rowSum[i]\n",
    "            else:\n",
    "                ans[i][j] = colSum[j]\n",
    "\n",
    "            rowSum[i] -= ans[i][j]\n",
    "            colSum[j] -= ans[i][j]\n",
    "\n",
    "    return ans\n",
    "\n",
    "restoreMatrix(rowSum, colSum)\n"
   ]
  }
 ],
 "metadata": {
  "kernelspec": {
   "display_name": "Python 3",
   "language": "python",
   "name": "python3"
  },
  "language_info": {
   "codemirror_mode": {
    "name": "ipython",
    "version": 3
   },
   "file_extension": ".py",
   "mimetype": "text/x-python",
   "name": "python",
   "nbconvert_exporter": "python",
   "pygments_lexer": "ipython3",
   "version": "3.12.3"
  }
 },
 "nbformat": 4,
 "nbformat_minor": 2
}

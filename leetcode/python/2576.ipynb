{
 "cells": [
  {
   "cell_type": "code",
   "execution_count": 6,
   "metadata": {},
   "outputs": [
    {
     "data": {
      "text/plain": [
       "0"
      ]
     },
     "execution_count": 6,
     "metadata": {},
     "output_type": "execute_result"
    }
   ],
   "source": [
    "def maxNumOfMarkedIndices(nums):\n",
    "    nums.sort()\n",
    "    n = len(nums)\n",
    "    m = n // 2 - 1\n",
    "    r = n - 1 \n",
    "    for l in range(m, -1, -1):\n",
    "        if nums[l] * 2 <= nums[r]:\n",
    "            r -= 1\n",
    "    # print(l, r)\n",
    "    return (n - 1 - r) * 2\n",
    "\n",
    "nums = [3,5,2,4]\n",
    "\n",
    "nums = [9,2,5,4]\n",
    "\n",
    "nums = [7,6,8]\n",
    "\n",
    "maxNumOfMarkedIndices(nums)\n",
    "        "
   ]
  },
  {
   "cell_type": "code",
   "execution_count": null,
   "metadata": {},
   "outputs": [],
   "source": []
  }
 ],
 "metadata": {
  "kernelspec": {
   "display_name": "Python 3",
   "language": "python",
   "name": "python3"
  },
  "language_info": {
   "codemirror_mode": {
    "name": "ipython",
    "version": 3
   },
   "file_extension": ".py",
   "mimetype": "text/x-python",
   "name": "python",
   "nbconvert_exporter": "python",
   "pygments_lexer": "ipython3",
   "version": "3.12.3"
  }
 },
 "nbformat": 4,
 "nbformat_minor": 2
}

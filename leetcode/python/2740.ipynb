{
 "cells": [
  {
   "cell_type": "code",
   "execution_count": null,
   "metadata": {},
   "outputs": [],
   "source": [
    "def findValueOfPartition(nums):\n",
    "    nums.sort()\n",
    "    \n",
    "    minGap = float('inf')\n",
    "    for i in range(1, len(nums)):\n",
    "        minGap = min(minGap, nums[i] - nums[i-1])\n",
    "    \n",
    "    return minGap\n",
    "\n",
    "\n",
    "nums = [100,1,10]\n",
    "findValueOfPartition(nums)"
   ]
  }
 ],
 "metadata": {
  "language_info": {
   "name": "python"
  }
 },
 "nbformat": 4,
 "nbformat_minor": 2
}

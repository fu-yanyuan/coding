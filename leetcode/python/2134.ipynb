{
 "cells": [
  {
   "cell_type": "code",
   "execution_count": 9,
   "metadata": {},
   "outputs": [
    {
     "data": {
      "text/plain": [
       "1"
      ]
     },
     "execution_count": 9,
     "metadata": {},
     "output_type": "execute_result"
    }
   ],
   "source": [
    "def minSwaps(nums):\n",
    "    # because its a circular array, so the start position can be any index\n",
    "    n = len(nums)\n",
    "    k = sum(nums) # #1s\n",
    "\n",
    "    curOnes = sum(nums[:k])\n",
    "    minSwap = k - curOnes\n",
    "\n",
    "    for l in range(1, n):\n",
    "        curOnes -= nums[l-1]\n",
    "        curOnes += nums[(l+k-1)%n]\n",
    "        minSwap = min(minSwap, k - curOnes)\n",
    "    \n",
    "    return minSwap\n",
    "\n",
    "nums = [0,1,1,1,0,0,1,1,0]\n",
    "\n",
    "nums = [1,1,0,0,1]\n",
    "\n",
    "nums = [0,1,0,1,1,0,0]\n",
    "\n",
    "minSwaps(nums)"
   ]
  }
 ],
 "metadata": {
  "kernelspec": {
   "display_name": "Python 3",
   "language": "python",
   "name": "python3"
  },
  "language_info": {
   "codemirror_mode": {
    "name": "ipython",
    "version": 3
   },
   "file_extension": ".py",
   "mimetype": "text/x-python",
   "name": "python",
   "nbconvert_exporter": "python",
   "pygments_lexer": "ipython3",
   "version": "3.12.3"
  }
 },
 "nbformat": 4,
 "nbformat_minor": 2
}

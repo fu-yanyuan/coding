{
 "cells": [
  {
   "cell_type": "code",
   "execution_count": null,
   "metadata": {},
   "outputs": [],
   "source": [
    "class Solution:\n",
    "    def isSubPath(self, head: Optional[ListNode], root: Optional[TreeNode]) -> bool:\n",
    "        def dfs(root, head):\n",
    "            if not head:\n",
    "                return True\n",
    "            if not root:\n",
    "                return False\n",
    "            \n",
    "            if root.val == head.val:\n",
    "                return dfs(root.left, head.next) or dfs(root.right, head.next)\n",
    "            return False\n",
    "\n",
    "        def _helper(root, head):\n",
    "            if not root:\n",
    "                return False\n",
    "            \n",
    "            return dfs(root, head) or _helper(root.left, head) or _helper(root.right, head)\n",
    "        \n",
    "        return _helper(root, head)"
   ]
  }
 ],
 "metadata": {
  "language_info": {
   "name": "python"
  }
 },
 "nbformat": 4,
 "nbformat_minor": 2
}

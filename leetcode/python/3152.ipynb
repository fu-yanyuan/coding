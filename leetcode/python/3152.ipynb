{
 "cells": [
  {
   "cell_type": "code",
   "execution_count": 3,
   "metadata": {},
   "outputs": [
    {
     "data": {
      "text/plain": [
       "[False, True]"
      ]
     },
     "execution_count": 3,
     "metadata": {},
     "output_type": "execute_result"
    }
   ],
   "source": [
    "def isArraySpecial(nums, queries):\n",
    "    n = len(nums)\n",
    "    starts = [i for i in range(n)] # start[i] means array[start[i]:i+1] is special. initially, start[i] is it's self\n",
    "\n",
    "    for i in range(1, n):\n",
    "        cur = nums[i] % 2\n",
    "        prev = nums[i-1] % 2\n",
    "        if cur != prev:\n",
    "            starts[i] = starts[i-1]\n",
    "    \n",
    "    ans = []\n",
    "    for start, end in queries:\n",
    "        if start >= starts[end]:\n",
    "            ans.append(True)\n",
    "        else:\n",
    "            ans.append(False)\n",
    "\n",
    "    return ans\n",
    "\n",
    "nums = [4,3,1,6]\n",
    "queries = [[0,2],[2,3]]\n",
    "isArraySpecial(nums, queries)"
   ]
  }
 ],
 "metadata": {
  "kernelspec": {
   "display_name": "Python 3",
   "language": "python",
   "name": "python3"
  },
  "language_info": {
   "codemirror_mode": {
    "name": "ipython",
    "version": 3
   },
   "file_extension": ".py",
   "mimetype": "text/x-python",
   "name": "python",
   "nbconvert_exporter": "python",
   "pygments_lexer": "ipython3",
   "version": "3.12.3"
  }
 },
 "nbformat": 4,
 "nbformat_minor": 2
}

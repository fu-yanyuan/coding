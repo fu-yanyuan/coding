{
 "cells": [
  {
   "cell_type": "code",
   "execution_count": 9,
   "metadata": {},
   "outputs": [
    {
     "data": {
      "text/plain": [
       "-1"
      ]
     },
     "execution_count": 9,
     "metadata": {},
     "output_type": "execute_result"
    }
   ],
   "source": [
    "import math\n",
    "\n",
    "def minSpeedOnTime(dist, hour):\n",
    "    # for each train, it takes integer hour ( at least 1 hour)\n",
    "    # except the last train, it can take less than 1 hour\n",
    "    n = len(dist)\n",
    "    if n > math.ceil(hour):\n",
    "        return -1\n",
    "    \n",
    "    # speed is integer\n",
    "    # minimum is 1, maximum is speed that makes every train less than 1 hour\n",
    "    maxSpeed = max(dist[:-1])\n",
    "    tmp = math.ceil(dist[-1] / (hour - math.ceil(hour - 1)))\n",
    "    maxSpeed = max(maxSpeed, tmp)\n",
    "\n",
    "    def isValid(speed):\n",
    "        t = 0\n",
    "        for i in range(n-1):\n",
    "            t += math.ceil(dist[i] / speed)\n",
    "        t += dist[-1] / speed\n",
    "        return t <= hour\n",
    "    \n",
    "    # bisect \n",
    "    l, r = 1, maxSpeed\n",
    "    while l < r:\n",
    "        m = (l + r) // 2\n",
    "        if not isValid(m):\n",
    "            l = m + 1\n",
    "        else:\n",
    "            r = m\n",
    "    \n",
    "    return l\n",
    "\n",
    "\n",
    "dist = [1,3,2]\n",
    "hour = 6\n",
    "\n",
    "dist = [1,3,2]\n",
    "hour = 2.7\n",
    "\n",
    "dist = [1,3,2]\n",
    "hour = 1.9\n",
    "\n",
    "minSpeedOnTime(dist, hour)\n",
    "\n"
   ]
  },
  {
   "cell_type": "code",
   "execution_count": 6,
   "metadata": {},
   "outputs": [
    {
     "name": "stdout",
     "output_type": "stream",
     "text": [
      "3\n",
      "8\n",
      "0.625\n"
     ]
    }
   ],
   "source": [
    "print(math.ceil(2.7))\n",
    "\n",
    "hour = 2.7\n",
    "tmp = math.ceil(5 / (hour - math.ceil(hour - 1)))\n",
    "print(tmp)\n",
    "print(5 / tmp)"
   ]
  },
  {
   "cell_type": "code",
   "execution_count": 10,
   "metadata": {},
   "outputs": [
    {
     "name": "stdout",
     "output_type": "stream",
     "text": [
      "15.000000000000002\n"
     ]
    }
   ],
   "source": [
    "print(69 / 4.6)"
   ]
  }
 ],
 "metadata": {
  "kernelspec": {
   "display_name": "Python 3",
   "language": "python",
   "name": "python3"
  },
  "language_info": {
   "codemirror_mode": {
    "name": "ipython",
    "version": 3
   },
   "file_extension": ".py",
   "mimetype": "text/x-python",
   "name": "python",
   "nbconvert_exporter": "python",
   "pygments_lexer": "ipython3",
   "version": "3.12.2"
  }
 },
 "nbformat": 4,
 "nbformat_minor": 2
}
